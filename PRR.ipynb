{
  "nbformat": 4,
  "nbformat_minor": 0,
  "metadata": {
    "kernelspec": {
      "display_name": "Python 3",
      "language": "python",
      "name": "python3"
    },
    "language_info": {
      "codemirror_mode": {
        "name": "ipython",
        "version": 3
      },
      "file_extension": ".py",
      "mimetype": "text/x-python",
      "name": "python",
      "nbconvert_exporter": "python",
      "pygments_lexer": "ipython3",
      "version": "3.7.4"
    },
    "colab": {
      "name": "PRR.ipynb",
      "provenance": [],
      "collapsed_sections": [],
      "include_colab_link": true
    }
  },
  "cells": [
    {
      "cell_type": "markdown",
      "metadata": {
        "id": "view-in-github",
        "colab_type": "text"
      },
      "source": [
        "<a href=\"https://colab.research.google.com/github/dorrabennour/Finance-research-project/blob/main/PRR.ipynb\" target=\"_parent\"><img src=\"https://colab.research.google.com/assets/colab-badge.svg\" alt=\"Open In Colab\"/></a>"
      ]
    },
    {
      "cell_type": "markdown",
      "metadata": {
        "id": "HhksCHnllpKO"
      },
      "source": [
        "# **Estimation de la volatilité implicite et du prix des options**\n"
      ]
    },
    {
      "cell_type": "code",
      "metadata": {
        "id": "84BIRELSlpKP"
      },
      "source": [
        "import numpy as np\n",
        "import scipy.stats as si\n",
        "import sympy as sy\n",
        "from sympy.stats import Normal, cdf\n",
        "from sympy import init_printing"
      ],
      "execution_count": null,
      "outputs": []
    },
    {
      "cell_type": "markdown",
      "metadata": {
        "id": "zcbD9KuWlpKT"
      },
      "source": [
        "## Modele de Black & scholes"
      ]
    },
    {
      "cell_type": "code",
      "metadata": {
        "id": "Tjx1tK-FlpKT"
      },
      "source": [
        "def black_scholes_call_div(S, K, T, r,  sigma):\n",
        "    d1 = (np.log(S / K) + (r  + 0.5 * sigma ** 2) * T) / (sigma * np.sqrt(T))\n",
        "    d2 = d1-sigma*np.sqrt(T)\n",
        "    call = (S * si.norm.cdf(d1, 0.0, 1.0) - K * np.exp(-r * T) * si.norm.cdf(d2, 0.0, 1.0))\n",
        "    return call"
      ],
      "execution_count": null,
      "outputs": []
    },
    {
      "cell_type": "code",
      "metadata": {
        "id": "nMiOzjuOlpKW"
      },
      "source": [
        "def g(S, K, T, r,  sigma,v):\n",
        "    return(black_scholes_call_div(S, K, T, r,  sigma)-v)"
      ],
      "execution_count": null,
      "outputs": []
    },
    {
      "cell_type": "code",
      "metadata": {
        "id": "jNm14UILlpKZ"
      },
      "source": [
        "def densité(x):\n",
        "    return(np.exp(-x**2)/(np.sqrt(2*3.14)))"
      ],
      "execution_count": null,
      "outputs": []
    },
    {
      "cell_type": "code",
      "metadata": {
        "id": "eY-vCyASlpKb"
      },
      "source": [
        "#Dérivée de la densité\n",
        "def gp(S, K, T, r,  sigma):  \n",
        "     d1 = ( np.log(S / K)  + (r  + 0.5 * sigma ** 2) * T) / (sigma * np.sqrt(T))\n",
        "     d2 = d1-sigma*np.sqrt(T)\n",
        "     c=S*np.sqrt(T)*densité(d1)\n",
        "     return(c)"
      ],
      "execution_count": null,
      "outputs": []
    },
    {
      "cell_type": "markdown",
      "metadata": {
        "id": "EgT8ABwSlpKe"
      },
      "source": [
        "## Méthode de Newton"
      ]
    },
    {
      "cell_type": "code",
      "metadata": {
        "id": "cpsIfPZalpKe"
      },
      "source": [
        "def newton(f,Df,x0,epsilon,max_iter,S, K, T, r,  sigma,v):\n",
        "   \n",
        "    xn = x0\n",
        "    for n in range(0,max_iter):\n",
        "        fxn = f(S, K, T, r,xn,v)\n",
        "        if abs(fxn) < epsilon:\n",
        "            print('Found solution after',n,'iterations.')\n",
        "            return xn\n",
        "        Dfxn = Df(S, K, T, r,xn)\n",
        "        if Dfxn == 0:\n",
        "            print('Zero derivative. No solution found.')\n",
        "            return None\n",
        "        xn = xn - fxn/Dfxn\n",
        "    print('Exceeded maximum iterations. No solution found.')\n",
        "    return None\n",
        "\n"
      ],
      "execution_count": null,
      "outputs": []
    },
    {
      "cell_type": "code",
      "metadata": {
        "id": "S1bfvC4qlpKj",
        "colab": {
          "base_uri": "https://localhost:8080/",
          "height": 50
        },
        "outputId": "707b4056-3fd5-43b4-9f2d-ffd4912b4278"
      },
      "source": [
        "S=100\n",
        "K=105\n",
        "T=1\n",
        "r=0.01\n",
        "sigma=0.1\n",
        "v=10\n",
        "x0=0.1\n",
        "v=black_scholes_call_div(S, K, T, r,  sigma)\n",
        "sigma1=newton(g,gp,x0,0.001,1000,S,K,T,r,sigma,v)\n",
        "print(sigma1)"
      ],
      "execution_count": null,
      "outputs": [
        {
          "output_type": "stream",
          "text": [
            "Found solution after 0 iterations.\n",
            "0.1\n"
          ],
          "name": "stdout"
        }
      ]
    },
    {
      "cell_type": "markdown",
      "metadata": {
        "id": "X9iHrZtVlpKm"
      },
      "source": [
        "## Méthode de la sécante"
      ]
    },
    {
      "cell_type": "code",
      "metadata": {
        "id": "SUXKsB_SlpKn",
        "colab": {
          "base_uri": "https://localhost:8080/",
          "height": 50
        },
        "outputId": "5bc66072-857e-495a-c16d-9c93587f20df"
      },
      "source": [
        "def secantmethod (f,x0,x1,max_iter,tolerance,S,K,T,r,sigma,v):\n",
        "    steps_taken = 1\n",
        "    while( steps_taken < max_iter and abs(x1-x0) > tolerance):\n",
        "        x2 = x1 - ( (f(S, K, T, r, x1,v) * (x1 - x0)) / (f(S, K, T, r, x1,v) - f(S, K, T, r, x0,v)) )\n",
        "        x1, x0 = x2, x1\n",
        "        steps_taken += 1\n",
        "    return x2, steps_taken\n",
        "root, steps = secantmethod(g, 0.1,0.2,1000,0.001,100,105,1,0.002,0.1,v=black_scholes_call_div(100, 105, 1, 0.0002, 0.1))\n",
        "print (\"root is:\", root)\n",
        "print (\"steps taken:\", steps)"
      ],
      "execution_count": null,
      "outputs": [
        {
          "output_type": "stream",
          "text": [
            "root is: 0.09845710995935704\n",
            "steps taken: 3\n"
          ],
          "name": "stdout"
        }
      ]
    },
    {
      "cell_type": "markdown",
      "metadata": {
        "id": "4zvcHsTDlpKs"
      },
      "source": [
        "## Méthode de Brent"
      ]
    },
    {
      "cell_type": "code",
      "metadata": {
        "id": "OtbpsyrhlpKs",
        "colab": {
          "base_uri": "https://localhost:8080/",
          "height": 50
        },
        "outputId": "407efe55-4459-4c33-cf7d-28240d177076"
      },
      "source": [
        "def brents(f,x0,x1,max_iter,tolerance,S,K,T,r,sigma,v):\n",
        "    fx0 = f(S,K,T,r,x0,v)\n",
        "    fx1 = f(S,K,T,r,x1,v)\n",
        "    #assert (fx0 * fx1) <= 0, \"Root not bracketed\" \n",
        "    if abs(fx0) < abs(fx1):\n",
        "        x0, x1 = x1, x0\n",
        "        fx0, fx1 = fx1, fx0\n",
        "    x2, fx2 = x0, fx0\n",
        "    mflag = True\n",
        "    steps_taken = 0\n",
        "    while steps_taken < max_iter and abs(x1-x0) > tolerance:\n",
        "        fx0 = f(S,K,T,r,x0,v)\n",
        "        fx1 = f(S,K,T,r,x1,v)\n",
        "        fx2 = f(S,K,T,r,x2,v)\n",
        "        if fx0 != fx2 and fx1 != fx2:\n",
        "            L0 = (x0 * fx1 * fx2) / ((fx0 - fx1) * (fx0 - fx2))\n",
        "            L1 = (x1 * fx0 * fx2) / ((fx1 - fx0) * (fx1 - fx2))\n",
        "            L2 = (x2 * fx1 * fx0) / ((fx2 - fx0) * (fx2 - fx1))\n",
        "            new = L0 + L1 + L2\n",
        "        else:\n",
        "            new = x1 - ( (fx1 * (x1 - x0)) / (fx1 - fx0) )\n",
        "        if ((new < ((3 * x0 + x1) / 4) or new > x1) or\n",
        "            (mflag == True and (abs(new - x1)) >= (abs(x1 - x2) / 2)) or\n",
        "            (mflag == False and (abs(new - x1)) >= (abs(x2 - d) / 2)) or\n",
        "            (mflag == True and (abs(x1 - x2)) < tolerance) or\n",
        "            (mflag == False and (abs(x2 - d)) < tolerance)):\n",
        "            new = (x0 + x1) / 2\n",
        "            mflag = True\n",
        "        else:\n",
        "            mflag = False\n",
        "        fnew = f(S,K,T,r,new,v)\n",
        "        d, x2 = x2, x1\n",
        "        if (fx0 * fnew) < 0:\n",
        "            x1 = new\n",
        "        else:\n",
        "            x0 = new\n",
        "        if abs(fx0) < abs(fx1):\n",
        "            x0, x1 = x1, x0\n",
        "        steps_taken += 1\n",
        "    return x1, steps_taken\n",
        "root, steps = brents(g,0.05,1,100,0.0000001,100,105,1,0.002,0.1,v=black_scholes_call_div(100, 105, 1, 0.0002, 0.1))\n",
        "print (\"root is:\", root)\n",
        "print (\"steps taken:\", steps)"
      ],
      "execution_count": null,
      "outputs": [
        {
          "output_type": "stream",
          "text": [
            "root is: 0.09845274898283982\n",
            "steps taken: 19\n"
          ],
          "name": "stdout"
        }
      ]
    },
    {
      "cell_type": "markdown",
      "metadata": {
        "id": "PSj-yGRimo4i"
      },
      "source": [
        "## Création de la base de données"
      ]
    },
    {
      "cell_type": "code",
      "metadata": {
        "id": "wYi4pnlSmn7-"
      },
      "source": [
        "import numpy as np\n",
        "import random as rd\n",
        "n=50000\n",
        "K=105\n",
        "\n",
        "Call_price=np.zeros(n)\n",
        "Stock_price=np.zeros(n)\n",
        "Time_to_maturity=np.zeros(n)\n",
        "Risk_free_rate=np.zeros(n)\n",
        "sigma_imp=np.zeros(n)\n",
        "\n",
        "for i in range(n):\n",
        "  Stock_price[i]=rd.uniform(0.4, 1.6)\n",
        "  Time_to_maturity[i]=rd.uniform(0.2, 1.1)\n",
        "  Risk_free_rate[i]=rd.uniform(0.02, 0.1)\n",
        "  # Call_price[i]=rd.uniform(0.0, 0.9)\n",
        "  sigma_imp[i]=rd.uniform(0.01, 1)\n",
        "  S=Stock_price[i]\n",
        "  T=Time_to_maturity[i]\n",
        "  R=Risk_free_rate[i]\n",
        "  sigma=sigma_imp[i]\n",
        "  #V=C*K\n",
        "  Call_price[i]=black_scholes_call_div(S, 1, T, R, sigma)\n",
        "  \n"
      ],
      "execution_count": null,
      "outputs": []
    },
    {
      "cell_type": "code",
      "metadata": {
        "id": "ibClyU0tDfF2",
        "colab": {
          "base_uri": "https://localhost:8080/",
          "height": 50
        },
        "outputId": "54770a62-43f7-4a71-9a68-0f50c9627ed8"
      },
      "source": [
        "\n",
        "Call_price"
      ],
      "execution_count": null,
      "outputs": [
        {
          "output_type": "execute_result",
          "data": {
            "text/plain": [
              "array([1.21318563e-10, 2.22818838e-03, 1.21977783e-13, ...,\n",
              "       2.52468421e-02, 2.33682476e-03, 5.12954727e-02])"
            ]
          },
          "metadata": {
            "tags": []
          },
          "execution_count": 11
        }
      ]
    },
    {
      "cell_type": "code",
      "metadata": {
        "id": "G1_CKX0kxRGJ"
      },
      "source": [
        "import pandas as pd \n",
        "from sklearn.linear_model import LinearRegression\n",
        "L=[Stock_price,Time_to_maturity,Risk_free_rate,Call_price,sigma_imp]\n",
        "df=pd.DataFrame(L)\n",
        "df=df.transpose()\n",
        "#df.columns=['Stock price','Time to maturity','Risk free rate','Call price','vol implicite']"
      ],
      "execution_count": null,
      "outputs": []
    },
    {
      "cell_type": "markdown",
      "metadata": {
        "id": "1G-fcfuqwiRo"
      },
      "source": [
        "## Régression Linéaire"
      ]
    },
    {
      "cell_type": "code",
      "metadata": {
        "id": "UchiiwDGwniQ",
        "colab": {
          "base_uri": "https://localhost:8080/",
          "height": 197
        },
        "outputId": "5def7fd5-a5d0-4104-c983-5022fd0402d8"
      },
      "source": [
        "df.columns=['Stock price','Time to maturity','Risk free rate','Call price','vol implicite']\n",
        "df.head()"
      ],
      "execution_count": null,
      "outputs": [
        {
          "output_type": "execute_result",
          "data": {
            "text/html": [
              "<div>\n",
              "<style scoped>\n",
              "    .dataframe tbody tr th:only-of-type {\n",
              "        vertical-align: middle;\n",
              "    }\n",
              "\n",
              "    .dataframe tbody tr th {\n",
              "        vertical-align: top;\n",
              "    }\n",
              "\n",
              "    .dataframe thead th {\n",
              "        text-align: right;\n",
              "    }\n",
              "</style>\n",
              "<table border=\"1\" class=\"dataframe\">\n",
              "  <thead>\n",
              "    <tr style=\"text-align: right;\">\n",
              "      <th></th>\n",
              "      <th>Stock price</th>\n",
              "      <th>Time to maturity</th>\n",
              "      <th>Risk free rate</th>\n",
              "      <th>Call price</th>\n",
              "      <th>vol implicite</th>\n",
              "    </tr>\n",
              "  </thead>\n",
              "  <tbody>\n",
              "    <tr>\n",
              "      <th>0</th>\n",
              "      <td>0.402377</td>\n",
              "      <td>0.942009</td>\n",
              "      <td>0.079561</td>\n",
              "      <td>1.213186e-10</td>\n",
              "      <td>0.152358</td>\n",
              "    </tr>\n",
              "    <tr>\n",
              "      <th>1</th>\n",
              "      <td>0.530307</td>\n",
              "      <td>0.545716</td>\n",
              "      <td>0.027148</td>\n",
              "      <td>2.228188e-03</td>\n",
              "      <td>0.430773</td>\n",
              "    </tr>\n",
              "    <tr>\n",
              "      <th>2</th>\n",
              "      <td>0.685230</td>\n",
              "      <td>0.803191</td>\n",
              "      <td>0.093325</td>\n",
              "      <td>1.219778e-13</td>\n",
              "      <td>0.051355</td>\n",
              "    </tr>\n",
              "    <tr>\n",
              "      <th>3</th>\n",
              "      <td>0.652031</td>\n",
              "      <td>0.563108</td>\n",
              "      <td>0.047613</td>\n",
              "      <td>3.829110e-03</td>\n",
              "      <td>0.321358</td>\n",
              "    </tr>\n",
              "    <tr>\n",
              "      <th>4</th>\n",
              "      <td>0.513725</td>\n",
              "      <td>0.712389</td>\n",
              "      <td>0.074921</td>\n",
              "      <td>6.832144e-08</td>\n",
              "      <td>0.161576</td>\n",
              "    </tr>\n",
              "  </tbody>\n",
              "</table>\n",
              "</div>"
            ],
            "text/plain": [
              "   Stock price  Time to maturity  Risk free rate    Call price  vol implicite\n",
              "0     0.402377          0.942009        0.079561  1.213186e-10       0.152358\n",
              "1     0.530307          0.545716        0.027148  2.228188e-03       0.430773\n",
              "2     0.685230          0.803191        0.093325  1.219778e-13       0.051355\n",
              "3     0.652031          0.563108        0.047613  3.829110e-03       0.321358\n",
              "4     0.513725          0.712389        0.074921  6.832144e-08       0.161576"
            ]
          },
          "metadata": {
            "tags": []
          },
          "execution_count": 13
        }
      ]
    },
    {
      "cell_type": "code",
      "metadata": {
        "id": "dQUv1Xr0J7XS",
        "colab": {
          "base_uri": "https://localhost:8080/",
          "height": 348
        },
        "outputId": "bc4fce4b-f3e1-47f2-d30a-fc536d676ce7"
      },
      "source": [
        "#distribution de la vol implicite\n",
        "import seaborn as sns\n",
        "ax=sns.distplot(df['vol implicite'],hist=True,color='r',label='volatilité implicite')\n",
        "ax"
      ],
      "execution_count": null,
      "outputs": [
        {
          "output_type": "stream",
          "text": [
            "/usr/local/lib/python3.6/dist-packages/statsmodels/tools/_testing.py:19: FutureWarning: pandas.util.testing is deprecated. Use the functions in the public API at pandas.testing instead.\n",
            "  import pandas.util.testing as tm\n"
          ],
          "name": "stderr"
        },
        {
          "output_type": "execute_result",
          "data": {
            "text/plain": [
              "<matplotlib.axes._subplots.AxesSubplot at 0x7fb4f2525198>"
            ]
          },
          "metadata": {
            "tags": []
          },
          "execution_count": 14
        },
        {
          "output_type": "display_data",
          "data": {
            "image/png": "[encoded data removed]",
            "text/plain": [
              "<Figure size 432x288 with 1 Axes>"
            ]
          },
          "metadata": {
            "tags": [],
            "needs_background": "light"
          }
        }
      ]
    },
    {
      "cell_type": "code",
      "metadata": {
        "id": "_RGn8NWU1lrz",
        "colab": {
          "base_uri": "https://localhost:8080/",
          "height": 33
        },
        "outputId": "9cb1d247-ce5c-463e-9a42-b3858fb15d32"
      },
      "source": [
        "from sklearn.model_selection import train_test_split\n",
        "lm = LinearRegression()\n",
        "X = df[['Stock price','Time to maturity','Risk free rate','Call price']]\n",
        "Y = df['vol implicite']\n",
        "x_train, x_test, y_train, y_test = train_test_split(X, Y, test_size=0.15, random_state=1)\n",
        "lm.fit(x_train,y_train)\n",
        "lm.score(x_test,y_test)"
      ],
      "execution_count": null,
      "outputs": [
        {
          "output_type": "execute_result",
          "data": {
            "text/plain": [
              "0.44022506029988234"
            ]
          },
          "metadata": {
            "tags": []
          },
          "execution_count": 15
        }
      ]
    },
    {
      "cell_type": "code",
      "metadata": {
        "id": "M6g5WJBHPeY9",
        "colab": {
          "base_uri": "https://localhost:8080/",
          "height": 50
        },
        "outputId": "726c49ef-6ed0-4874-8722-65f3a9b845ba"
      },
      "source": [
        "Yhat=lm.predict(x_test)\n",
        "Yhat"
      ],
      "execution_count": null,
      "outputs": [
        {
          "output_type": "execute_result",
          "data": {
            "text/plain": [
              "array([0.78259958, 0.23839699, 0.46492488, ..., 0.21944384, 0.55001756,\n",
              "       0.59016653])"
            ]
          },
          "metadata": {
            "tags": []
          },
          "execution_count": 16
        }
      ]
    },
    {
      "cell_type": "markdown",
      "metadata": {
        "id": "7A7_BSnVFz_t"
      },
      "source": [
        "### Paramètres du modèle"
      ]
    },
    {
      "cell_type": "code",
      "metadata": {
        "id": "OZyKMc-LFvLP",
        "colab": {
          "base_uri": "https://localhost:8080/",
          "height": 83
        },
        "outputId": "2ddc2d11-54a7-4694-d6ee-c8da43944de6"
      },
      "source": [
        "print('Intercept: \\n', lm.intercept_)\n",
        "print('Coefficients: \\n', lm.coef_)"
      ],
      "execution_count": null,
      "outputs": [
        {
          "output_type": "stream",
          "text": [
            "Intercept: \n",
            " 1.4928744644099456\n",
            "Coefficients: \n",
            " [-1.33113564 -0.25857059 -0.69140021  2.30620217]\n"
          ],
          "name": "stdout"
        }
      ]
    },
    {
      "cell_type": "markdown",
      "metadata": {
        "id": "12soccTF9pq4"
      },
      "source": [
        "\n",
        "### Parcelles résiduelles\n"
      ]
    },
    {
      "cell_type": "code",
      "metadata": {
        "id": "jlZ_OyX79pP4",
        "colab": {
          "base_uri": "https://localhost:8080/",
          "height": 295
        },
        "outputId": "22e9eda0-a6b1-4b85-a094-5263d8e21658"
      },
      "source": [
        "import seaborn as sns\n",
        "sns.residplot(y_train,x_train['Time to maturity'])"
      ],
      "execution_count": null,
      "outputs": [
        {
          "output_type": "execute_result",
          "data": {
            "text/plain": [
              "<matplotlib.axes._subplots.AxesSubplot at 0x7fb4f23e39e8>"
            ]
          },
          "metadata": {
            "tags": []
          },
          "execution_count": 18
        },
        {
          "output_type": "display_data",
          "data": {
            "image/png": "[encoded data removed]",
            "text/plain": [
              "<Figure size 432x288 with 1 Axes>"
            ]
          },
          "metadata": {
            "tags": [],
            "needs_background": "light"
          }
        }
      ]
    },
    {
      "cell_type": "code",
      "metadata": {
        "id": "eT0YK6LlEve-",
        "colab": {
          "base_uri": "https://localhost:8080/",
          "height": 295
        },
        "outputId": "9ff6be31-27b6-4cdb-87d2-9856b25a11b1"
      },
      "source": [
        "import seaborn as sns\n",
        "sns.residplot(y_train,x_train['Stock price'])"
      ],
      "execution_count": null,
      "outputs": [
        {
          "output_type": "execute_result",
          "data": {
            "text/plain": [
              "<matplotlib.axes._subplots.AxesSubplot at 0x7fb4edf57b38>"
            ]
          },
          "metadata": {
            "tags": []
          },
          "execution_count": 19
        },
        {
          "output_type": "display_data",
          "data": {
            "image/png": "[encoded data removed]",
            "text/plain": [
              "<Figure size 432x288 with 1 Axes>"
            ]
          },
          "metadata": {
            "tags": [],
            "needs_background": "light"
          }
        }
      ]
    },
    {
      "cell_type": "markdown",
      "metadata": {
        "id": "545OCkmyrwip"
      },
      "source": [
        "## ANN appliquée au modèle de Black & Scholes"
      ]
    },
    {
      "cell_type": "markdown",
      "metadata": {
        "id": "zYrw_bkxsDSf"
      },
      "source": [
        "### ANN BS Call price "
      ]
    },
    {
      "cell_type": "code",
      "metadata": {
        "id": "MQA6wk3Tr8k-",
        "colab": {
          "base_uri": "https://localhost:8080/",
          "height": 33
        },
        "outputId": "e68c8598-7a99-4014-8daf-5b141e666fc9"
      },
      "source": [
        "# first neural network with keras tutorial\n",
        "from numpy import loadtxt\n",
        "from keras.models import Sequential\n",
        "from keras.layers import Dense"
      ],
      "execution_count": null,
      "outputs": [
        {
          "output_type": "stream",
          "text": [
            "Using TensorFlow backend.\n"
          ],
          "name": "stderr"
        }
      ]
    },
    {
      "cell_type": "code",
      "metadata": {
        "id": "HKkESqjEcB1a"
      },
      "source": [
        "from sklearn.model_selection import train_test_split\n",
        "X1 = df[['Stock price','Time to maturity','Risk free rate','vol implicite']]\n",
        "Y1 = df['Call price']\n",
        "X_train, X_test, Y_train, Y_test = train_test_split(X1, Y1, test_size=0.1, random_state=1)"
      ],
      "execution_count": null,
      "outputs": []
    },
    {
      "cell_type": "markdown",
      "metadata": {
        "id": "F8VkS1O8cbF1"
      },
      "source": [
        "#### Création du réseau de neurones"
      ]
    },
    {
      "cell_type": "code",
      "metadata": {
        "id": "iDHAvqvvcfCY",
        "colab": {
          "base_uri": "https://localhost:8080/",
          "height": 316
        },
        "outputId": "2f834af0-0fb4-4f28-8a4f-3ef1ed224e7e"
      },
      "source": [
        "import keras\n",
        "from keras.layers import Activation\n",
        "from keras import backend as K\n",
        "from keras.utils.generic_utils import get_custom_objects\n",
        "keras.backend.set_floatx('float64')\n",
        "\n",
        "\n",
        "input1 = keras.layers.Input(shape=(4,))\n",
        "x1 = keras.layers.Dense(400,activation = 'relu',kernel_initializer='glorot_uniform')(input1)\n",
        "x2=keras.layers.Dense(400,activation = 'relu')(x1) \n",
        "x3=keras.layers.Dense(400,activation = 'relu')(x2) \n",
        "\n",
        "\n",
        "x4=keras.layers.Dense(1,activation = 'linear')(x3)\n",
        "\n",
        "\n",
        "modelBS = keras.models.Model(inputs=input1, outputs=x4)\n",
        "modelBS.summary()"
      ],
      "execution_count": null,
      "outputs": [
        {
          "output_type": "stream",
          "text": [
            "Model: \"model_1\"\n",
            "_________________________________________________________________\n",
            "Layer (type)                 Output Shape              Param #   \n",
            "=================================================================\n",
            "input_1 (InputLayer)         (None, 4)                 0         \n",
            "_________________________________________________________________\n",
            "dense_1 (Dense)              (None, 400)               2000      \n",
            "_________________________________________________________________\n",
            "dense_2 (Dense)              (None, 400)               160400    \n",
            "_________________________________________________________________\n",
            "dense_3 (Dense)              (None, 400)               160400    \n",
            "_________________________________________________________________\n",
            "dense_4 (Dense)              (None, 1)                 401       \n",
            "=================================================================\n",
            "Total params: 323,201\n",
            "Trainable params: 323,201\n",
            "Non-trainable params: 0\n",
            "_________________________________________________________________\n"
          ],
          "name": "stdout"
        }
      ]
    },
    {
      "cell_type": "code",
      "metadata": {
        "id": "WBpR4piCdg2I",
        "colab": {
          "base_uri": "https://localhost:8080/",
          "height": 1000
        },
        "outputId": "6c94cf80-c307-48d8-c605-d0e485e47d5c"
      },
      "source": [
        "def root_mean_squared_error(x_true, x_pred):\n",
        "        return K.sqrt(K.mean(K.square(x_pred - x_true)))\n",
        "modelBS.compile(loss=root_mean_squared_error, optimizer='adam', metrics=['mse', 'mae', 'mape'])\n",
        "\n",
        "historybs=modelBS.fit(X_train, Y_train, batch_size=1042,validation_data = (X_test,Y_test),epochs = 200, verbose = True,shuffle=1)"
      ],
      "execution_count": null,
      "outputs": [
        {
          "output_type": "stream",
          "text": [
            "Train on 45000 samples, validate on 5000 samples\n",
            "Epoch 1/200\n",
            "45000/45000 [==============================] - 4s 94us/step - loss: 0.0938 - mse: 0.0113 - mae: 0.0752 - mape: 3840523.3639 - val_loss: 0.0343 - val_mse: 0.0012 - val_mae: 0.0263 - val_mape: 2165093.0808\n",
            "Epoch 2/200\n",
            "45000/45000 [==============================] - 4s 86us/step - loss: 0.0206 - mse: 4.8146e-04 - mae: 0.0161 - mape: 673725.4220 - val_loss: 0.0174 - val_mse: 3.0300e-04 - val_mae: 0.0144 - val_mape: 290175.7012\n",
            "Epoch 3/200\n",
            "45000/45000 [==============================] - 4s 87us/step - loss: 0.0147 - mse: 3.1337e-04 - mae: 0.0123 - mape: 258291.2069 - val_loss: 0.0422 - val_mse: 0.0018 - val_mae: 0.0389 - val_mape: 945925.9952\n",
            "Epoch 4/200\n",
            "45000/45000 [==============================] - 4s 86us/step - loss: 0.0314 - mse: 0.0012 - mae: 0.0269 - mape: 479151.0913 - val_loss: 0.0080 - val_mse: 6.4069e-05 - val_mae: 0.0067 - val_mape: 410784.8286\n",
            "Epoch 5/200\n",
            "45000/45000 [==============================] - 4s 86us/step - loss: 0.0234 - mse: 6.2789e-04 - mae: 0.0196 - mape: 203751.4468 - val_loss: 0.0223 - val_mse: 4.9771e-04 - val_mae: 0.0183 - val_mape: 69563.7788\n",
            "Epoch 6/200\n",
            "45000/45000 [==============================] - 4s 85us/step - loss: 0.0193 - mse: 4.4315e-04 - mae: 0.0160 - mape: 126330.3456 - val_loss: 0.0120 - val_mse: 1.4342e-04 - val_mae: 0.0095 - val_mape: 74470.6627\n",
            "Epoch 7/200\n",
            "45000/45000 [==============================] - 4s 86us/step - loss: 0.0114 - mse: 1.3405e-04 - mae: 0.0093 - mape: 107551.2674 - val_loss: 0.0103 - val_mse: 1.0579e-04 - val_mae: 0.0086 - val_mape: 130257.9160\n",
            "Epoch 8/200\n",
            "45000/45000 [==============================] - 4s 86us/step - loss: 0.0109 - mse: 1.2538e-04 - mae: 0.0091 - mape: 94648.7068 - val_loss: 0.0075 - val_mse: 5.6020e-05 - val_mae: 0.0061 - val_mape: 61868.8804\n",
            "Epoch 9/200\n",
            "45000/45000 [==============================] - 4s 85us/step - loss: 0.0105 - mse: 1.1307e-04 - mae: 0.0087 - mape: 68643.0624 - val_loss: 0.0082 - val_mse: 6.7347e-05 - val_mae: 0.0068 - val_mape: 42907.0166\n",
            "Epoch 10/200\n",
            "45000/45000 [==============================] - 4s 85us/step - loss: 0.0100 - mse: 1.0529e-04 - mae: 0.0084 - mape: 71861.7592 - val_loss: 0.0097 - val_mse: 9.3920e-05 - val_mae: 0.0083 - val_mape: 66823.7192\n",
            "Epoch 11/200\n",
            "45000/45000 [==============================] - 4s 86us/step - loss: 0.0097 - mse: 9.7683e-05 - mae: 0.0081 - mape: 74528.5619 - val_loss: 0.0102 - val_mse: 1.0305e-04 - val_mae: 0.0085 - val_mape: 47987.9343\n",
            "Epoch 12/200\n",
            "45000/45000 [==============================] - 4s 85us/step - loss: 0.0095 - mse: 9.3676e-05 - mae: 0.0079 - mape: 81560.3058 - val_loss: 0.0059 - val_mse: 3.5294e-05 - val_mae: 0.0049 - val_mape: 60103.2492\n",
            "Epoch 13/200\n",
            "45000/45000 [==============================] - 4s 85us/step - loss: 0.0092 - mse: 8.9059e-05 - mae: 0.0077 - mape: 88534.5242 - val_loss: 0.0056 - val_mse: 3.1902e-05 - val_mae: 0.0047 - val_mape: 46198.0454\n",
            "Epoch 14/200\n",
            "45000/45000 [==============================] - 4s 85us/step - loss: 0.0090 - mse: 8.4820e-05 - mae: 0.0076 - mape: 72813.7871 - val_loss: 0.0074 - val_mse: 5.4966e-05 - val_mae: 0.0060 - val_mape: 58579.7634\n",
            "Epoch 15/200\n",
            "45000/45000 [==============================] - 4s 84us/step - loss: 0.0088 - mse: 8.2111e-05 - mae: 0.0074 - mape: 77311.4920 - val_loss: 0.0035 - val_mse: 1.2283e-05 - val_mae: 0.0028 - val_mape: 55061.8152\n",
            "Epoch 16/200\n",
            "45000/45000 [==============================] - 4s 86us/step - loss: 0.0085 - mse: 7.5253e-05 - mae: 0.0071 - mape: 61452.9861 - val_loss: 0.0085 - val_mse: 7.2619e-05 - val_mae: 0.0072 - val_mape: 48336.0217\n",
            "Epoch 17/200\n",
            "45000/45000 [==============================] - 4s 86us/step - loss: 0.0083 - mse: 7.3580e-05 - mae: 0.0070 - mape: 61667.7373 - val_loss: 0.0074 - val_mse: 5.4355e-05 - val_mae: 0.0064 - val_mape: 109257.2881\n",
            "Epoch 18/200\n",
            "45000/45000 [==============================] - 4s 85us/step - loss: 0.0082 - mse: 7.1233e-05 - mae: 0.0069 - mape: 66090.5071 - val_loss: 0.0048 - val_mse: 2.2571e-05 - val_mae: 0.0040 - val_mape: 63374.7205\n",
            "Epoch 19/200\n",
            "45000/45000 [==============================] - 4s 85us/step - loss: 0.0081 - mse: 6.9098e-05 - mae: 0.0068 - mape: 55441.1532 - val_loss: 0.0058 - val_mse: 3.4117e-05 - val_mae: 0.0051 - val_mape: 85440.4960\n",
            "Epoch 20/200\n",
            "45000/45000 [==============================] - 4s 85us/step - loss: 0.0079 - mse: 6.7882e-05 - mae: 0.0067 - mape: 64250.3183 - val_loss: 0.0054 - val_mse: 2.9662e-05 - val_mae: 0.0045 - val_mape: 29870.4891\n",
            "Epoch 21/200\n",
            "45000/45000 [==============================] - 4s 85us/step - loss: 0.0078 - mse: 6.3863e-05 - mae: 0.0066 - mape: 67608.7711 - val_loss: 0.0075 - val_mse: 5.6355e-05 - val_mae: 0.0063 - val_mape: 29439.8589\n",
            "Epoch 22/200\n",
            "45000/45000 [==============================] - 4s 85us/step - loss: 0.0077 - mse: 6.0900e-05 - mae: 0.0065 - mape: 66062.2992 - val_loss: 0.0071 - val_mse: 5.0266e-05 - val_mae: 0.0062 - val_mape: 29024.1775\n",
            "Epoch 23/200\n",
            "45000/45000 [==============================] - 4s 86us/step - loss: 0.0076 - mse: 6.0050e-05 - mae: 0.0064 - mape: 65475.4250 - val_loss: 0.0057 - val_mse: 3.2620e-05 - val_mae: 0.0051 - val_mape: 78059.0150\n",
            "Epoch 24/200\n",
            "45000/45000 [==============================] - 4s 86us/step - loss: 0.0074 - mse: 6.0201e-05 - mae: 0.0063 - mape: 53003.6269 - val_loss: 0.0046 - val_mse: 2.1508e-05 - val_mae: 0.0039 - val_mape: 32895.7256\n",
            "Epoch 25/200\n",
            "45000/45000 [==============================] - 4s 86us/step - loss: 0.0073 - mse: 5.6491e-05 - mae: 0.0062 - mape: 49075.2196 - val_loss: 0.0051 - val_mse: 2.5784e-05 - val_mae: 0.0044 - val_mape: 22868.6487\n",
            "Epoch 26/200\n",
            "45000/45000 [==============================] - 4s 86us/step - loss: 0.0072 - mse: 5.4368e-05 - mae: 0.0060 - mape: 66775.5133 - val_loss: 0.0080 - val_mse: 6.4511e-05 - val_mae: 0.0071 - val_mape: 121587.4736\n",
            "Epoch 27/200\n",
            "45000/45000 [==============================] - 4s 85us/step - loss: 0.0072 - mse: 5.3770e-05 - mae: 0.0061 - mape: 58845.9266 - val_loss: 0.0061 - val_mse: 3.6904e-05 - val_mae: 0.0051 - val_mape: 47234.9639\n",
            "Epoch 28/200\n",
            "45000/45000 [==============================] - 4s 85us/step - loss: 0.0070 - mse: 5.3910e-05 - mae: 0.0060 - mape: 45985.3233 - val_loss: 0.0054 - val_mse: 2.9388e-05 - val_mae: 0.0045 - val_mape: 72921.3625\n",
            "Epoch 29/200\n",
            "45000/45000 [==============================] - 4s 86us/step - loss: 0.0070 - mse: 5.2150e-05 - mae: 0.0059 - mape: 47161.2858 - val_loss: 0.0036 - val_mse: 1.3187e-05 - val_mae: 0.0031 - val_mape: 31690.6788\n",
            "Epoch 30/200\n",
            "45000/45000 [==============================] - 4s 85us/step - loss: 0.0068 - mse: 5.2544e-05 - mae: 0.0058 - mape: 49026.2941 - val_loss: 0.0068 - val_mse: 4.6915e-05 - val_mae: 0.0060 - val_mape: 109469.3746\n",
            "Epoch 31/200\n",
            "45000/45000 [==============================] - 4s 85us/step - loss: 0.0068 - mse: 5.1744e-05 - mae: 0.0058 - mape: 52634.6860 - val_loss: 0.0047 - val_mse: 2.2323e-05 - val_mae: 0.0038 - val_mape: 23275.1269\n",
            "Epoch 32/200\n",
            "45000/45000 [==============================] - 4s 87us/step - loss: 0.0061 - mse: 4.4658e-05 - mae: 0.0052 - mape: 86384.4261 - val_loss: 0.0042 - val_mse: 1.7490e-05 - val_mae: 0.0037 - val_mape: 53282.1414\n",
            "Epoch 33/200\n",
            "45000/45000 [==============================] - 4s 86us/step - loss: 0.0062 - mse: 4.7369e-05 - mae: 0.0054 - mape: 155922.8145 - val_loss: 0.0066 - val_mse: 4.4069e-05 - val_mae: 0.0055 - val_mape: 114014.4536\n",
            "Epoch 34/200\n",
            "45000/45000 [==============================] - 4s 85us/step - loss: 0.0067 - mse: 5.0429e-05 - mae: 0.0057 - mape: 80428.2238 - val_loss: 0.0046 - val_mse: 2.0984e-05 - val_mae: 0.0039 - val_mape: 74895.9636\n",
            "Epoch 35/200\n",
            "45000/45000 [==============================] - 4s 85us/step - loss: 0.0066 - mse: 4.7919e-05 - mae: 0.0055 - mape: 54116.8707 - val_loss: 0.0044 - val_mse: 1.9303e-05 - val_mae: 0.0038 - val_mape: 36979.7069\n",
            "Epoch 36/200\n",
            "45000/45000 [==============================] - 4s 85us/step - loss: 0.0065 - mse: 4.6239e-05 - mae: 0.0055 - mape: 47944.8810 - val_loss: 0.0064 - val_mse: 4.1244e-05 - val_mae: 0.0054 - val_mape: 49387.5781\n",
            "Epoch 37/200\n",
            "45000/45000 [==============================] - 4s 85us/step - loss: 0.0065 - mse: 4.5973e-05 - mae: 0.0055 - mape: 42163.5814 - val_loss: 0.0076 - val_mse: 5.7848e-05 - val_mae: 0.0065 - val_mape: 22388.5554\n",
            "Epoch 38/200\n",
            "45000/45000 [==============================] - 4s 86us/step - loss: 0.0065 - mse: 4.6394e-05 - mae: 0.0055 - mape: 51057.3247 - val_loss: 0.0043 - val_mse: 1.8128e-05 - val_mae: 0.0035 - val_mape: 37417.6981\n",
            "Epoch 39/200\n",
            "45000/45000 [==============================] - 4s 85us/step - loss: 0.0063 - mse: 4.4581e-05 - mae: 0.0053 - mape: 41474.3078 - val_loss: 0.0050 - val_mse: 2.4997e-05 - val_mae: 0.0042 - val_mape: 42255.3673\n",
            "Epoch 40/200\n",
            "45000/45000 [==============================] - 4s 85us/step - loss: 0.0063 - mse: 4.1847e-05 - mae: 0.0053 - mape: 43637.9133 - val_loss: 0.0086 - val_mse: 7.3595e-05 - val_mae: 0.0072 - val_mape: 37295.1917\n",
            "Epoch 41/200\n",
            "45000/45000 [==============================] - 4s 85us/step - loss: 0.0063 - mse: 4.3092e-05 - mae: 0.0053 - mape: 45303.5150 - val_loss: 0.0088 - val_mse: 7.7145e-05 - val_mae: 0.0075 - val_mape: 27399.4158\n",
            "Epoch 42/200\n",
            "45000/45000 [==============================] - 4s 85us/step - loss: 0.0063 - mse: 4.3003e-05 - mae: 0.0053 - mape: 32702.7408 - val_loss: 0.0065 - val_mse: 4.1632e-05 - val_mae: 0.0055 - val_mape: 49972.1402\n",
            "Epoch 43/200\n",
            "45000/45000 [==============================] - 4s 85us/step - loss: 0.0062 - mse: 4.1161e-05 - mae: 0.0052 - mape: 53563.3545 - val_loss: 0.0029 - val_mse: 8.4008e-06 - val_mae: 0.0023 - val_mape: 32404.4255\n",
            "Epoch 44/200\n",
            "45000/45000 [==============================] - 4s 84us/step - loss: 0.0061 - mse: 3.9047e-05 - mae: 0.0051 - mape: 36668.6379 - val_loss: 0.0028 - val_mse: 7.9580e-06 - val_mae: 0.0023 - val_mape: 16832.6035\n",
            "Epoch 45/200\n",
            "45000/45000 [==============================] - 4s 84us/step - loss: 0.0059 - mse: 4.0377e-05 - mae: 0.0050 - mape: 57279.2931 - val_loss: 0.0067 - val_mse: 4.4763e-05 - val_mae: 0.0057 - val_mape: 34255.6452\n",
            "Epoch 46/200\n",
            "45000/45000 [==============================] - 4s 84us/step - loss: 0.0061 - mse: 3.8913e-05 - mae: 0.0052 - mape: 46841.2335 - val_loss: 0.0059 - val_mse: 3.5180e-05 - val_mae: 0.0051 - val_mape: 18579.7368\n",
            "Epoch 47/200\n",
            "45000/45000 [==============================] - 4s 85us/step - loss: 0.0059 - mse: 3.9668e-05 - mae: 0.0050 - mape: 65354.9967 - val_loss: 0.0083 - val_mse: 6.9633e-05 - val_mae: 0.0072 - val_mape: 103876.6932\n",
            "Epoch 48/200\n",
            "45000/45000 [==============================] - 4s 85us/step - loss: 0.0060 - mse: 3.9670e-05 - mae: 0.0051 - mape: 80597.4678 - val_loss: 0.0020 - val_mse: 3.8368e-06 - val_mae: 0.0015 - val_mape: 59243.4378\n",
            "Epoch 49/200\n",
            "45000/45000 [==============================] - 4s 84us/step - loss: 0.0055 - mse: 3.6419e-05 - mae: 0.0047 - mape: 88260.2406 - val_loss: 0.0059 - val_mse: 3.4545e-05 - val_mae: 0.0052 - val_mape: 107035.9275\n",
            "Epoch 50/200\n",
            "45000/45000 [==============================] - 4s 84us/step - loss: 0.0059 - mse: 3.7222e-05 - mae: 0.0050 - mape: 44287.0646 - val_loss: 0.0053 - val_mse: 2.8454e-05 - val_mae: 0.0043 - val_mape: 31182.4558\n",
            "Epoch 51/200\n",
            "45000/45000 [==============================] - 4s 84us/step - loss: 0.0058 - mse: 3.7101e-05 - mae: 0.0049 - mape: 42317.2460 - val_loss: 0.0044 - val_mse: 1.8940e-05 - val_mae: 0.0036 - val_mape: 32624.2690\n",
            "Epoch 52/200\n",
            "45000/45000 [==============================] - 4s 84us/step - loss: 0.0058 - mse: 3.5368e-05 - mae: 0.0049 - mape: 35720.8957 - val_loss: 0.0052 - val_mse: 2.7142e-05 - val_mae: 0.0043 - val_mape: 27224.2169\n",
            "Epoch 53/200\n",
            "45000/45000 [==============================] - 4s 84us/step - loss: 0.0058 - mse: 3.4900e-05 - mae: 0.0049 - mape: 37363.0425 - val_loss: 0.0050 - val_mse: 2.5298e-05 - val_mae: 0.0042 - val_mape: 17866.1488\n",
            "Epoch 54/200\n",
            "45000/45000 [==============================] - 4s 84us/step - loss: 0.0057 - mse: 3.5552e-05 - mae: 0.0048 - mape: 40853.3701 - val_loss: 0.0058 - val_mse: 3.3295e-05 - val_mae: 0.0050 - val_mape: 41706.5669\n",
            "Epoch 55/200\n",
            "45000/45000 [==============================] - 4s 85us/step - loss: 0.0057 - mse: 3.4361e-05 - mae: 0.0048 - mape: 40634.0135 - val_loss: 0.0067 - val_mse: 4.5546e-05 - val_mae: 0.0057 - val_mape: 16100.1785\n",
            "Epoch 56/200\n",
            "45000/45000 [==============================] - 4s 85us/step - loss: 0.0057 - mse: 3.5428e-05 - mae: 0.0048 - mape: 38586.5160 - val_loss: 0.0034 - val_mse: 1.1441e-05 - val_mae: 0.0028 - val_mape: 24453.9239\n",
            "Epoch 57/200\n",
            "45000/45000 [==============================] - 4s 85us/step - loss: 0.0056 - mse: 3.3611e-05 - mae: 0.0047 - mape: 35674.1995 - val_loss: 0.0045 - val_mse: 2.0672e-05 - val_mae: 0.0041 - val_mape: 20056.2658\n",
            "Epoch 58/200\n",
            "45000/45000 [==============================] - 4s 84us/step - loss: 0.0056 - mse: 3.3518e-05 - mae: 0.0048 - mape: 55663.8140 - val_loss: 0.0038 - val_mse: 1.4241e-05 - val_mae: 0.0033 - val_mape: 30055.2011\n",
            "Epoch 59/200\n",
            "45000/45000 [==============================] - 4s 84us/step - loss: 0.0055 - mse: 3.3794e-05 - mae: 0.0047 - mape: 64317.1517 - val_loss: 0.0043 - val_mse: 1.8209e-05 - val_mae: 0.0036 - val_mape: 29084.4376\n",
            "Epoch 60/200\n",
            "45000/45000 [==============================] - 4s 84us/step - loss: 0.0054 - mse: 3.4106e-05 - mae: 0.0046 - mape: 39168.8668 - val_loss: 0.0101 - val_mse: 1.0112e-04 - val_mae: 0.0084 - val_mape: 115990.9493\n",
            "Epoch 61/200\n",
            "45000/45000 [==============================] - 4s 85us/step - loss: 0.0093 - mse: 1.0890e-04 - mae: 0.0080 - mape: 132194.8171 - val_loss: 0.0027 - val_mse: 7.0892e-06 - val_mae: 0.0022 - val_mape: 99150.6031\n",
            "Epoch 62/200\n",
            "45000/45000 [==============================] - 4s 84us/step - loss: 0.0065 - mse: 5.9296e-05 - mae: 0.0055 - mape: 75750.9622 - val_loss: 0.0045 - val_mse: 2.0104e-05 - val_mae: 0.0040 - val_mape: 56774.2209\n",
            "Epoch 63/200\n",
            "45000/45000 [==============================] - 4s 84us/step - loss: 0.0077 - mse: 7.5552e-05 - mae: 0.0066 - mape: 86639.2154 - val_loss: 0.0112 - val_mse: 1.2523e-04 - val_mae: 0.0090 - val_mape: 29336.1350\n",
            "Epoch 64/200\n",
            "45000/45000 [==============================] - 4s 85us/step - loss: 0.0096 - mse: 1.1414e-04 - mae: 0.0082 - mape: 94390.8409 - val_loss: 0.0081 - val_mse: 6.5844e-05 - val_mae: 0.0064 - val_mape: 111717.3453\n",
            "Epoch 65/200\n",
            "45000/45000 [==============================] - 4s 84us/step - loss: 0.0095 - mse: 1.0182e-04 - mae: 0.0080 - mape: 84655.4622 - val_loss: 0.0148 - val_mse: 2.1871e-04 - val_mae: 0.0127 - val_mape: 70497.5506\n",
            "Epoch 66/200\n",
            "45000/45000 [==============================] - 4s 84us/step - loss: 0.0095 - mse: 1.0612e-04 - mae: 0.0080 - mape: 35134.7275 - val_loss: 0.0129 - val_mse: 1.6717e-04 - val_mae: 0.0110 - val_mape: 85384.1068\n",
            "Epoch 67/200\n",
            "45000/45000 [==============================] - 4s 84us/step - loss: 0.0131 - mse: 2.3187e-04 - mae: 0.0111 - mape: 70624.2453 - val_loss: 0.0171 - val_mse: 2.9225e-04 - val_mae: 0.0145 - val_mape: 48406.0110\n",
            "Epoch 68/200\n",
            "45000/45000 [==============================] - 4s 84us/step - loss: 0.0070 - mse: 6.5425e-05 - mae: 0.0059 - mape: 54488.2692 - val_loss: 0.0081 - val_mse: 6.5581e-05 - val_mae: 0.0070 - val_mape: 58784.7839\n",
            "Epoch 69/200\n",
            "45000/45000 [==============================] - 4s 84us/step - loss: 0.0051 - mse: 3.0781e-05 - mae: 0.0043 - mape: 44513.9043 - val_loss: 0.0066 - val_mse: 4.3580e-05 - val_mae: 0.0057 - val_mape: 49237.1228\n",
            "Epoch 70/200\n",
            "45000/45000 [==============================] - 4s 83us/step - loss: 0.0051 - mse: 2.9572e-05 - mae: 0.0043 - mape: 51871.3318 - val_loss: 0.0051 - val_mse: 2.6410e-05 - val_mae: 0.0041 - val_mape: 29286.1077\n",
            "Epoch 71/200\n",
            "45000/45000 [==============================] - 4s 84us/step - loss: 0.0051 - mse: 2.9317e-05 - mae: 0.0042 - mape: 37010.9122 - val_loss: 0.0049 - val_mse: 2.4381e-05 - val_mae: 0.0042 - val_mape: 33625.0226\n",
            "Epoch 72/200\n",
            "45000/45000 [==============================] - 4s 84us/step - loss: 0.0062 - mse: 5.1084e-05 - mae: 0.0052 - mape: 53592.2612 - val_loss: 0.0046 - val_mse: 2.1030e-05 - val_mae: 0.0039 - val_mape: 46404.3083\n",
            "Epoch 73/200\n",
            "45000/45000 [==============================] - 4s 84us/step - loss: 0.0051 - mse: 2.7038e-05 - mae: 0.0043 - mape: 48184.1906 - val_loss: 0.0044 - val_mse: 1.9113e-05 - val_mae: 0.0035 - val_mape: 17131.6751\n",
            "Epoch 74/200\n",
            "45000/45000 [==============================] - 4s 85us/step - loss: 0.0050 - mse: 2.7187e-05 - mae: 0.0042 - mape: 30010.3698 - val_loss: 0.0061 - val_mse: 3.7648e-05 - val_mae: 0.0053 - val_mape: 61667.3991\n",
            "Epoch 75/200\n",
            "45000/45000 [==============================] - 4s 84us/step - loss: 0.0051 - mse: 2.6888e-05 - mae: 0.0043 - mape: 29643.7194 - val_loss: 0.0055 - val_mse: 3.0490e-05 - val_mae: 0.0045 - val_mape: 26452.2241\n",
            "Epoch 76/200\n",
            "45000/45000 [==============================] - 4s 84us/step - loss: 0.0050 - mse: 2.6553e-05 - mae: 0.0042 - mape: 24380.5538 - val_loss: 0.0050 - val_mse: 2.5111e-05 - val_mae: 0.0041 - val_mape: 34911.8669\n",
            "Epoch 77/200\n",
            "45000/45000 [==============================] - 4s 83us/step - loss: 0.0049 - mse: 2.6434e-05 - mae: 0.0042 - mape: 42395.3767 - val_loss: 0.0051 - val_mse: 2.6056e-05 - val_mae: 0.0046 - val_mape: 65117.6421\n",
            "Epoch 78/200\n",
            "45000/45000 [==============================] - 4s 84us/step - loss: 0.0049 - mse: 2.7003e-05 - mae: 0.0041 - mape: 48839.5403 - val_loss: 0.0052 - val_mse: 2.7116e-05 - val_mae: 0.0045 - val_mape: 22028.4319\n",
            "Epoch 79/200\n",
            "45000/45000 [==============================] - 4s 84us/step - loss: 0.0083 - mse: 1.0728e-04 - mae: 0.0070 - mape: 62240.5384 - val_loss: 0.0070 - val_mse: 4.9701e-05 - val_mae: 0.0060 - val_mape: 118641.0785\n",
            "Epoch 80/200\n",
            "45000/45000 [==============================] - 4s 84us/step - loss: 0.0046 - mse: 2.4939e-05 - mae: 0.0039 - mape: 90916.6705 - val_loss: 0.0090 - val_mse: 8.1691e-05 - val_mae: 0.0075 - val_mape: 109381.4970\n",
            "Epoch 81/200\n",
            "45000/45000 [==============================] - 4s 84us/step - loss: 0.0048 - mse: 2.8334e-05 - mae: 0.0040 - mape: 90592.3802 - val_loss: 0.0035 - val_mse: 1.2587e-05 - val_mae: 0.0029 - val_mape: 22482.5233\n",
            "Epoch 82/200\n",
            "45000/45000 [==============================] - 4s 83us/step - loss: 0.0049 - mse: 2.5898e-05 - mae: 0.0041 - mape: 32548.7631 - val_loss: 0.0029 - val_mse: 8.4042e-06 - val_mae: 0.0026 - val_mape: 61970.4686\n",
            "Epoch 83/200\n",
            "45000/45000 [==============================] - 4s 84us/step - loss: 0.0048 - mse: 2.5348e-05 - mae: 0.0041 - mape: 35633.1480 - val_loss: 0.0047 - val_mse: 2.1942e-05 - val_mae: 0.0037 - val_mape: 16831.3219\n",
            "Epoch 84/200\n",
            "45000/45000 [==============================] - 4s 83us/step - loss: 0.0049 - mse: 2.5038e-05 - mae: 0.0041 - mape: 30156.2338 - val_loss: 0.0036 - val_mse: 1.3156e-05 - val_mae: 0.0029 - val_mape: 39714.8751\n",
            "Epoch 85/200\n",
            "45000/45000 [==============================] - 4s 84us/step - loss: 0.0048 - mse: 2.4946e-05 - mae: 0.0040 - mape: 25515.6307 - val_loss: 0.0059 - val_mse: 3.4942e-05 - val_mae: 0.0050 - val_mape: 29925.8774\n",
            "Epoch 86/200\n",
            "45000/45000 [==============================] - 4s 83us/step - loss: 0.0049 - mse: 2.6678e-05 - mae: 0.0041 - mape: 32691.2661 - val_loss: 0.0045 - val_mse: 2.0149e-05 - val_mae: 0.0037 - val_mape: 20962.2563\n",
            "Epoch 87/200\n",
            "45000/45000 [==============================] - 4s 84us/step - loss: 0.0048 - mse: 2.5418e-05 - mae: 0.0041 - mape: 36479.4950 - val_loss: 0.0052 - val_mse: 2.6772e-05 - val_mae: 0.0045 - val_mape: 69460.8879\n",
            "Epoch 88/200\n",
            "45000/45000 [==============================] - 4s 84us/step - loss: 0.0048 - mse: 2.4390e-05 - mae: 0.0041 - mape: 27878.0107 - val_loss: 0.0038 - val_mse: 1.4748e-05 - val_mae: 0.0032 - val_mape: 22186.3725\n",
            "Epoch 89/200\n",
            "45000/45000 [==============================] - 4s 84us/step - loss: 0.0048 - mse: 2.4347e-05 - mae: 0.0040 - mape: 28254.6282 - val_loss: 0.0043 - val_mse: 1.8135e-05 - val_mae: 0.0038 - val_mape: 52431.3753\n",
            "Epoch 90/200\n",
            "45000/45000 [==============================] - 4s 83us/step - loss: 0.0048 - mse: 2.3846e-05 - mae: 0.0040 - mape: 24845.6991 - val_loss: 0.0040 - val_mse: 1.5692e-05 - val_mae: 0.0033 - val_mape: 10787.2831\n",
            "Epoch 91/200\n",
            "45000/45000 [==============================] - 4s 83us/step - loss: 0.0048 - mse: 2.4352e-05 - mae: 0.0040 - mape: 27513.8325 - val_loss: 0.0021 - val_mse: 4.3917e-06 - val_mae: 0.0017 - val_mape: 20913.3637\n",
            "Epoch 92/200\n",
            "45000/45000 [==============================] - 4s 84us/step - loss: 0.0047 - mse: 2.3312e-05 - mae: 0.0040 - mape: 23020.2822 - val_loss: 0.0033 - val_mse: 1.1214e-05 - val_mae: 0.0028 - val_mape: 21233.2393\n",
            "Epoch 93/200\n",
            "45000/45000 [==============================] - 4s 84us/step - loss: 0.0047 - mse: 2.3899e-05 - mae: 0.0040 - mape: 27768.2124 - val_loss: 0.0030 - val_mse: 8.9267e-06 - val_mae: 0.0026 - val_mape: 49118.3572\n",
            "Epoch 94/200\n",
            "45000/45000 [==============================] - 4s 84us/step - loss: 0.0047 - mse: 2.4066e-05 - mae: 0.0039 - mape: 37064.4251 - val_loss: 0.0027 - val_mse: 7.0330e-06 - val_mae: 0.0022 - val_mape: 27455.2947\n",
            "Epoch 95/200\n",
            "45000/45000 [==============================] - 4s 84us/step - loss: 0.0047 - mse: 2.3319e-05 - mae: 0.0039 - mape: 29594.0487 - val_loss: 0.0016 - val_mse: 2.4159e-06 - val_mae: 0.0012 - val_mape: 13049.3919\n",
            "Epoch 96/200\n",
            "45000/45000 [==============================] - 4s 84us/step - loss: 0.0046 - mse: 2.4728e-05 - mae: 0.0039 - mape: 35005.9911 - val_loss: 0.0034 - val_mse: 1.1839e-05 - val_mae: 0.0030 - val_mape: 19935.2001\n",
            "Epoch 97/200\n",
            "45000/45000 [==============================] - 4s 83us/step - loss: 0.0046 - mse: 2.3257e-05 - mae: 0.0039 - mape: 33350.9846 - val_loss: 0.0057 - val_mse: 3.2930e-05 - val_mae: 0.0047 - val_mape: 54224.3244\n",
            "Epoch 98/200\n",
            "45000/45000 [==============================] - 4s 84us/step - loss: 0.0046 - mse: 2.2938e-05 - mae: 0.0039 - mape: 34010.0281 - val_loss: 0.0049 - val_mse: 2.3695e-05 - val_mae: 0.0041 - val_mape: 16103.9464\n",
            "Epoch 99/200\n",
            "45000/45000 [==============================] - 4s 83us/step - loss: 0.0046 - mse: 2.2602e-05 - mae: 0.0039 - mape: 28803.8894 - val_loss: 0.0060 - val_mse: 3.6533e-05 - val_mae: 0.0051 - val_mape: 14268.8111\n",
            "Epoch 100/200\n",
            "45000/45000 [==============================] - 4s 84us/step - loss: 0.0046 - mse: 2.2281e-05 - mae: 0.0039 - mape: 23554.1836 - val_loss: 0.0059 - val_mse: 3.5024e-05 - val_mae: 0.0049 - val_mape: 20612.6802\n",
            "Epoch 101/200\n",
            "45000/45000 [==============================] - 4s 84us/step - loss: 0.0046 - mse: 2.3456e-05 - mae: 0.0039 - mape: 27038.7443 - val_loss: 0.0027 - val_mse: 7.1160e-06 - val_mae: 0.0022 - val_mape: 32143.9516\n",
            "Epoch 102/200\n",
            "45000/45000 [==============================] - 4s 83us/step - loss: 0.0045 - mse: 2.2496e-05 - mae: 0.0038 - mape: 19865.3656 - val_loss: 0.0068 - val_mse: 4.6816e-05 - val_mae: 0.0057 - val_mape: 38692.3458\n",
            "Epoch 103/200\n",
            "45000/45000 [==============================] - 4s 84us/step - loss: 0.0046 - mse: 2.3295e-05 - mae: 0.0039 - mape: 37398.7501 - val_loss: 0.0028 - val_mse: 7.6701e-06 - val_mae: 0.0023 - val_mape: 30543.0683\n",
            "Epoch 104/200\n",
            "45000/45000 [==============================] - 4s 84us/step - loss: 0.0045 - mse: 2.3053e-05 - mae: 0.0038 - mape: 41044.8061 - val_loss: 0.0052 - val_mse: 2.7190e-05 - val_mae: 0.0047 - val_mape: 124576.6609\n",
            "Epoch 105/200\n",
            "45000/45000 [==============================] - 4s 84us/step - loss: 0.0046 - mse: 2.2602e-05 - mae: 0.0039 - mape: 38784.9989 - val_loss: 0.0049 - val_mse: 2.4002e-05 - val_mae: 0.0039 - val_mape: 37184.3218\n",
            "Epoch 106/200\n",
            "45000/45000 [==============================] - 4s 84us/step - loss: 0.0045 - mse: 2.1651e-05 - mae: 0.0037 - mape: 44218.4687 - val_loss: 0.0062 - val_mse: 3.7954e-05 - val_mae: 0.0053 - val_mape: 83617.1705\n",
            "Epoch 107/200\n",
            "45000/45000 [==============================] - 4s 84us/step - loss: 0.0045 - mse: 2.2075e-05 - mae: 0.0038 - mape: 37334.2135 - val_loss: 0.0053 - val_mse: 2.7569e-05 - val_mae: 0.0045 - val_mape: 84764.2459\n",
            "Epoch 108/200\n",
            "45000/45000 [==============================] - 4s 84us/step - loss: 0.0045 - mse: 2.2082e-05 - mae: 0.0038 - mape: 27833.7215 - val_loss: 0.0051 - val_mse: 2.5673e-05 - val_mae: 0.0043 - val_mape: 27663.7192\n",
            "Epoch 109/200\n",
            "45000/45000 [==============================] - 4s 84us/step - loss: 0.0045 - mse: 2.2092e-05 - mae: 0.0037 - mape: 23523.5993 - val_loss: 0.0070 - val_mse: 4.9212e-05 - val_mae: 0.0059 - val_mape: 56229.0094\n",
            "Epoch 110/200\n",
            "45000/45000 [==============================] - 4s 84us/step - loss: 0.0045 - mse: 2.2263e-05 - mae: 0.0038 - mape: 32550.1959 - val_loss: 0.0039 - val_mse: 1.5211e-05 - val_mae: 0.0032 - val_mape: 34495.8983\n",
            "Epoch 111/200\n",
            "45000/45000 [==============================] - 4s 84us/step - loss: 0.0045 - mse: 2.2508e-05 - mae: 0.0037 - mape: 29183.8985 - val_loss: 0.0052 - val_mse: 2.6797e-05 - val_mae: 0.0043 - val_mape: 29972.5360\n",
            "Epoch 112/200\n",
            "45000/45000 [==============================] - 4s 84us/step - loss: 0.0045 - mse: 2.0985e-05 - mae: 0.0038 - mape: 25765.7348 - val_loss: 0.0044 - val_mse: 1.9694e-05 - val_mae: 0.0036 - val_mape: 10711.8016\n",
            "Epoch 113/200\n",
            "45000/45000 [==============================] - 4s 84us/step - loss: 0.0044 - mse: 2.1281e-05 - mae: 0.0038 - mape: 36881.2931 - val_loss: 0.0049 - val_mse: 2.3722e-05 - val_mae: 0.0040 - val_mape: 42157.8768\n",
            "Epoch 114/200\n",
            "45000/45000 [==============================] - 4s 84us/step - loss: 0.0044 - mse: 2.1062e-05 - mae: 0.0037 - mape: 28717.9435 - val_loss: 0.0056 - val_mse: 3.1803e-05 - val_mae: 0.0049 - val_mape: 36563.1767\n",
            "Epoch 115/200\n",
            "45000/45000 [==============================] - 4s 83us/step - loss: 0.0044 - mse: 2.1114e-05 - mae: 0.0037 - mape: 25230.5345 - val_loss: 0.0043 - val_mse: 1.8632e-05 - val_mae: 0.0037 - val_mape: 33460.0580\n",
            "Epoch 116/200\n",
            "45000/45000 [==============================] - 4s 84us/step - loss: 0.0044 - mse: 2.0483e-05 - mae: 0.0037 - mape: 26761.2983 - val_loss: 0.0044 - val_mse: 1.9275e-05 - val_mae: 0.0038 - val_mape: 38525.9558\n",
            "Epoch 117/200\n",
            "45000/45000 [==============================] - 4s 83us/step - loss: 0.0044 - mse: 2.0993e-05 - mae: 0.0037 - mape: 28287.4290 - val_loss: 0.0038 - val_mse: 1.4684e-05 - val_mae: 0.0032 - val_mape: 28216.5672\n",
            "Epoch 118/200\n",
            "45000/45000 [==============================] - 4s 84us/step - loss: 0.0044 - mse: 2.1337e-05 - mae: 0.0037 - mape: 27633.0716 - val_loss: 0.0035 - val_mse: 1.2446e-05 - val_mae: 0.0029 - val_mape: 9958.8959\n",
            "Epoch 119/200\n",
            "45000/45000 [==============================] - 4s 84us/step - loss: 0.0044 - mse: 2.1247e-05 - mae: 0.0037 - mape: 28797.8640 - val_loss: 0.0043 - val_mse: 1.8887e-05 - val_mae: 0.0036 - val_mape: 38113.6092\n",
            "Epoch 120/200\n",
            "45000/45000 [==============================] - 4s 84us/step - loss: 0.0044 - mse: 2.0054e-05 - mae: 0.0037 - mape: 24061.9916 - val_loss: 0.0047 - val_mse: 2.2179e-05 - val_mae: 0.0043 - val_mape: 106259.0457\n",
            "Epoch 121/200\n",
            "45000/45000 [==============================] - 4s 84us/step - loss: 0.0043 - mse: 1.9926e-05 - mae: 0.0037 - mape: 51117.1387 - val_loss: 0.0039 - val_mse: 1.5163e-05 - val_mae: 0.0032 - val_mape: 55279.2505\n",
            "Epoch 122/200\n",
            "45000/45000 [==============================] - 4s 83us/step - loss: 0.0044 - mse: 2.1897e-05 - mae: 0.0037 - mape: 43517.6580 - val_loss: 0.0033 - val_mse: 1.0704e-05 - val_mae: 0.0028 - val_mape: 89931.1531\n",
            "Epoch 123/200\n",
            "45000/45000 [==============================] - 4s 84us/step - loss: 0.0043 - mse: 2.0526e-05 - mae: 0.0036 - mape: 37577.5517 - val_loss: 0.0055 - val_mse: 3.0594e-05 - val_mae: 0.0047 - val_mape: 12915.9688\n",
            "Epoch 124/200\n",
            "45000/45000 [==============================] - 4s 83us/step - loss: 0.0043 - mse: 1.9657e-05 - mae: 0.0036 - mape: 23678.7257 - val_loss: 0.0047 - val_mse: 2.2007e-05 - val_mae: 0.0039 - val_mape: 36283.3512\n",
            "Epoch 125/200\n",
            "45000/45000 [==============================] - 4s 84us/step - loss: 0.0043 - mse: 2.0670e-05 - mae: 0.0036 - mape: 22682.4700 - val_loss: 0.0050 - val_mse: 2.4923e-05 - val_mae: 0.0042 - val_mape: 24813.5817\n",
            "Epoch 126/200\n",
            "45000/45000 [==============================] - 4s 84us/step - loss: 0.0043 - mse: 1.9668e-05 - mae: 0.0036 - mape: 28636.3283 - val_loss: 0.0046 - val_mse: 2.1014e-05 - val_mae: 0.0040 - val_mape: 70185.9079\n",
            "Epoch 127/200\n",
            "45000/45000 [==============================] - 4s 85us/step - loss: 0.0043 - mse: 1.8866e-05 - mae: 0.0036 - mape: 25957.9008 - val_loss: 0.0058 - val_mse: 3.4019e-05 - val_mae: 0.0048 - val_mape: 11315.6429\n",
            "Epoch 128/200\n",
            "45000/45000 [==============================] - 4s 83us/step - loss: 0.0042 - mse: 1.9058e-05 - mae: 0.0036 - mape: 24621.2990 - val_loss: 0.0055 - val_mse: 3.0777e-05 - val_mae: 0.0049 - val_mape: 55816.4368\n",
            "Epoch 129/200\n",
            "45000/45000 [==============================] - 4s 84us/step - loss: 0.0042 - mse: 1.9139e-05 - mae: 0.0036 - mape: 28782.8430 - val_loss: 0.0049 - val_mse: 2.4475e-05 - val_mae: 0.0040 - val_mape: 12564.5375\n",
            "Epoch 130/200\n",
            "45000/45000 [==============================] - 4s 84us/step - loss: 0.0043 - mse: 1.9049e-05 - mae: 0.0036 - mape: 25739.6560 - val_loss: 0.0043 - val_mse: 1.8669e-05 - val_mae: 0.0037 - val_mape: 65449.5758\n",
            "Epoch 131/200\n",
            "45000/45000 [==============================] - 4s 83us/step - loss: 0.0043 - mse: 1.9563e-05 - mae: 0.0036 - mape: 28697.9741 - val_loss: 0.0036 - val_mse: 1.3130e-05 - val_mae: 0.0030 - val_mape: 52059.2185\n",
            "Epoch 132/200\n",
            "45000/45000 [==============================] - 4s 84us/step - loss: 0.0040 - mse: 1.8671e-05 - mae: 0.0033 - mape: 41360.1449 - val_loss: 0.0059 - val_mse: 3.5123e-05 - val_mae: 0.0051 - val_mape: 124534.5342\n",
            "Epoch 133/200\n",
            "45000/45000 [==============================] - 4s 84us/step - loss: 0.0050 - mse: 3.1642e-05 - mae: 0.0042 - mape: 71822.2919 - val_loss: 0.0038 - val_mse: 1.4144e-05 - val_mae: 0.0031 - val_mape: 44950.6414\n",
            "Epoch 134/200\n",
            "45000/45000 [==============================] - 4s 84us/step - loss: 0.0043 - mse: 1.9192e-05 - mae: 0.0036 - mape: 26204.4610 - val_loss: 0.0040 - val_mse: 1.5624e-05 - val_mae: 0.0034 - val_mape: 14704.1574\n",
            "Epoch 135/200\n",
            "45000/45000 [==============================] - 4s 84us/step - loss: 0.0042 - mse: 1.8887e-05 - mae: 0.0036 - mape: 28588.4642 - val_loss: 0.0037 - val_mse: 1.3925e-05 - val_mae: 0.0030 - val_mape: 11132.4117\n",
            "Epoch 136/200\n",
            "45000/45000 [==============================] - 4s 84us/step - loss: 0.0042 - mse: 1.9189e-05 - mae: 0.0035 - mape: 22477.8233 - val_loss: 0.0032 - val_mse: 1.0438e-05 - val_mae: 0.0028 - val_mape: 49964.0492\n",
            "Epoch 137/200\n",
            "45000/45000 [==============================] - 4s 84us/step - loss: 0.0042 - mse: 1.8732e-05 - mae: 0.0035 - mape: 26811.3444 - val_loss: 0.0027 - val_mse: 7.4201e-06 - val_mae: 0.0023 - val_mape: 15437.4736\n",
            "Epoch 138/200\n",
            "45000/45000 [==============================] - 4s 85us/step - loss: 0.0042 - mse: 1.9080e-05 - mae: 0.0035 - mape: 20399.5232 - val_loss: 0.0037 - val_mse: 1.3612e-05 - val_mae: 0.0030 - val_mape: 21607.7438\n",
            "Epoch 139/200\n",
            "45000/45000 [==============================] - 4s 85us/step - loss: 0.0042 - mse: 1.8415e-05 - mae: 0.0035 - mape: 26996.9543 - val_loss: 0.0028 - val_mse: 8.0836e-06 - val_mae: 0.0024 - val_mape: 22327.8512\n",
            "Epoch 140/200\n",
            "45000/45000 [==============================] - 4s 84us/step - loss: 0.0041 - mse: 1.8715e-05 - mae: 0.0035 - mape: 35405.8783 - val_loss: 0.0054 - val_mse: 2.8801e-05 - val_mae: 0.0045 - val_mape: 22646.4377\n",
            "Epoch 141/200\n",
            "45000/45000 [==============================] - 4s 84us/step - loss: 0.0041 - mse: 1.8094e-05 - mae: 0.0035 - mape: 22506.0279 - val_loss: 0.0046 - val_mse: 2.1550e-05 - val_mae: 0.0040 - val_mape: 15235.1723\n",
            "Epoch 142/200\n",
            "45000/45000 [==============================] - 4s 84us/step - loss: 0.0041 - mse: 1.8968e-05 - mae: 0.0034 - mape: 23068.8462 - val_loss: 0.0051 - val_mse: 2.5648e-05 - val_mae: 0.0042 - val_mape: 12330.5306\n",
            "Epoch 143/200\n",
            "45000/45000 [==============================] - 4s 84us/step - loss: 0.0042 - mse: 1.8298e-05 - mae: 0.0035 - mape: 24067.6072 - val_loss: 0.0039 - val_mse: 1.5508e-05 - val_mae: 0.0034 - val_mape: 14827.8003\n",
            "Epoch 144/200\n",
            "45000/45000 [==============================] - 4s 84us/step - loss: 0.0041 - mse: 1.7999e-05 - mae: 0.0035 - mape: 36261.7665 - val_loss: 0.0032 - val_mse: 1.0251e-05 - val_mae: 0.0027 - val_mape: 42368.7845\n",
            "Epoch 145/200\n",
            "45000/45000 [==============================] - 4s 85us/step - loss: 0.0042 - mse: 1.8209e-05 - mae: 0.0035 - mape: 21518.4062 - val_loss: 0.0026 - val_mse: 6.8020e-06 - val_mae: 0.0022 - val_mape: 20388.2893\n",
            "Epoch 146/200\n",
            "45000/45000 [==============================] - 4s 84us/step - loss: 0.0042 - mse: 1.8932e-05 - mae: 0.0035 - mape: 27090.0314 - val_loss: 0.0014 - val_mse: 1.9643e-06 - val_mae: 0.0011 - val_mape: 20319.6596\n",
            "Epoch 147/200\n",
            "45000/45000 [==============================] - 4s 84us/step - loss: 0.0041 - mse: 1.8268e-05 - mae: 0.0034 - mape: 19895.4572 - val_loss: 0.0031 - val_mse: 9.7111e-06 - val_mae: 0.0026 - val_mape: 17333.1504\n",
            "Epoch 148/200\n",
            "45000/45000 [==============================] - 4s 84us/step - loss: 0.0041 - mse: 1.8098e-05 - mae: 0.0035 - mape: 23375.4895 - val_loss: 0.0025 - val_mse: 6.0438e-06 - val_mae: 0.0021 - val_mape: 34871.7371\n",
            "Epoch 149/200\n",
            "45000/45000 [==============================] - 4s 84us/step - loss: 0.0041 - mse: 1.7590e-05 - mae: 0.0035 - mape: 25145.4018 - val_loss: 0.0031 - val_mse: 9.5029e-06 - val_mae: 0.0025 - val_mape: 16260.2118\n",
            "Epoch 150/200\n",
            "45000/45000 [==============================] - 4s 84us/step - loss: 0.0041 - mse: 1.7394e-05 - mae: 0.0035 - mape: 19313.0401 - val_loss: 0.0028 - val_mse: 7.9539e-06 - val_mae: 0.0024 - val_mape: 16991.0086\n",
            "Epoch 151/200\n",
            "45000/45000 [==============================] - 4s 85us/step - loss: 0.0041 - mse: 1.8023e-05 - mae: 0.0034 - mape: 21944.4616 - val_loss: 0.0038 - val_mse: 1.4190e-05 - val_mae: 0.0032 - val_mape: 16422.7755\n",
            "Epoch 152/200\n",
            "45000/45000 [==============================] - 4s 85us/step - loss: 0.0041 - mse: 1.7076e-05 - mae: 0.0034 - mape: 24037.8449 - val_loss: 0.0023 - val_mse: 5.4643e-06 - val_mae: 0.0019 - val_mape: 29899.3055\n",
            "Epoch 153/200\n",
            "45000/45000 [==============================] - 4s 84us/step - loss: 0.0062 - mse: 4.8915e-05 - mae: 0.0053 - mape: 59516.1226 - val_loss: 0.0076 - val_mse: 5.8299e-05 - val_mae: 0.0063 - val_mape: 25828.1659\n",
            "Epoch 154/200\n",
            "45000/45000 [==============================] - 4s 85us/step - loss: 0.0073 - mse: 6.2996e-05 - mae: 0.0062 - mape: 40921.7524 - val_loss: 0.0060 - val_mse: 3.5792e-05 - val_mae: 0.0051 - val_mape: 27121.7117\n",
            "Epoch 155/200\n",
            "45000/45000 [==============================] - 4s 85us/step - loss: 0.0068 - mse: 5.5025e-05 - mae: 0.0058 - mape: 32996.0688 - val_loss: 0.0066 - val_mse: 4.3575e-05 - val_mae: 0.0057 - val_mape: 39590.9135\n",
            "Epoch 156/200\n",
            "45000/45000 [==============================] - 4s 85us/step - loss: 0.0060 - mse: 4.5023e-05 - mae: 0.0051 - mape: 54609.6078 - val_loss: 0.0110 - val_mse: 1.2096e-04 - val_mae: 0.0093 - val_mape: 26163.5188\n",
            "Epoch 157/200\n",
            "45000/45000 [==============================] - 4s 84us/step - loss: 0.0089 - mse: 9.9993e-05 - mae: 0.0075 - mape: 41750.5843 - val_loss: 0.0186 - val_mse: 3.4695e-04 - val_mae: 0.0160 - val_mape: 123954.8268\n",
            "Epoch 158/200\n",
            "45000/45000 [==============================] - 4s 84us/step - loss: 0.0042 - mse: 2.7670e-05 - mae: 0.0035 - mape: 23104.8734 - val_loss: 0.0019 - val_mse: 3.6849e-06 - val_mae: 0.0016 - val_mape: 34889.5832\n",
            "Epoch 159/200\n",
            "45000/45000 [==============================] - 4s 84us/step - loss: 0.0039 - mse: 1.7484e-05 - mae: 0.0033 - mape: 38592.7060 - val_loss: 0.0027 - val_mse: 7.2018e-06 - val_mae: 0.0022 - val_mape: 54045.6497\n",
            "Epoch 160/200\n",
            "45000/45000 [==============================] - 4s 84us/step - loss: 0.0039 - mse: 1.6742e-05 - mae: 0.0033 - mape: 28967.7225 - val_loss: 0.0050 - val_mse: 2.4834e-05 - val_mae: 0.0042 - val_mape: 20315.7028\n",
            "Epoch 161/200\n",
            "45000/45000 [==============================] - 4s 84us/step - loss: 0.0040 - mse: 1.7160e-05 - mae: 0.0033 - mape: 18041.4847 - val_loss: 0.0027 - val_mse: 7.0426e-06 - val_mae: 0.0022 - val_mape: 16708.6014\n",
            "Epoch 162/200\n",
            "45000/45000 [==============================] - 4s 83us/step - loss: 0.0039 - mse: 1.6318e-05 - mae: 0.0033 - mape: 19386.0156 - val_loss: 0.0031 - val_mse: 9.8350e-06 - val_mae: 0.0027 - val_mape: 8658.9952\n",
            "Epoch 163/200\n",
            "45000/45000 [==============================] - 4s 84us/step - loss: 0.0039 - mse: 1.6083e-05 - mae: 0.0033 - mape: 23405.6639 - val_loss: 0.0044 - val_mse: 1.9057e-05 - val_mae: 0.0036 - val_mape: 9093.0485\n",
            "Epoch 164/200\n",
            "45000/45000 [==============================] - 4s 83us/step - loss: 0.0039 - mse: 1.6591e-05 - mae: 0.0033 - mape: 18365.9132 - val_loss: 0.0050 - val_mse: 2.5152e-05 - val_mae: 0.0044 - val_mape: 11491.3738\n",
            "Epoch 165/200\n",
            "45000/45000 [==============================] - 4s 84us/step - loss: 0.0039 - mse: 1.6858e-05 - mae: 0.0033 - mape: 24232.8126 - val_loss: 0.0045 - val_mse: 1.9827e-05 - val_mae: 0.0036 - val_mape: 12951.5712\n",
            "Epoch 166/200\n",
            "45000/45000 [==============================] - 4s 85us/step - loss: 0.0039 - mse: 1.6501e-05 - mae: 0.0033 - mape: 15653.0051 - val_loss: 0.0043 - val_mse: 1.8857e-05 - val_mae: 0.0037 - val_mape: 31631.7201\n",
            "Epoch 167/200\n",
            "45000/45000 [==============================] - 4s 84us/step - loss: 0.0039 - mse: 1.7105e-05 - mae: 0.0033 - mape: 34228.4905 - val_loss: 0.0023 - val_mse: 5.2256e-06 - val_mae: 0.0019 - val_mape: 45420.5434\n",
            "Epoch 168/200\n",
            "45000/45000 [==============================] - 4s 84us/step - loss: 0.0039 - mse: 1.6119e-05 - mae: 0.0032 - mape: 24537.3565 - val_loss: 0.0038 - val_mse: 1.4405e-05 - val_mae: 0.0032 - val_mape: 10574.7641\n",
            "Epoch 169/200\n",
            "45000/45000 [==============================] - 4s 84us/step - loss: 0.0039 - mse: 1.6693e-05 - mae: 0.0033 - mape: 23243.1855 - val_loss: 0.0020 - val_mse: 4.0914e-06 - val_mae: 0.0017 - val_mape: 21789.9267\n",
            "Epoch 170/200\n",
            "45000/45000 [==============================] - 4s 83us/step - loss: 0.0039 - mse: 1.6381e-05 - mae: 0.0032 - mape: 33886.5028 - val_loss: 0.0033 - val_mse: 1.0768e-05 - val_mae: 0.0028 - val_mape: 17665.5522\n",
            "Epoch 171/200\n",
            "45000/45000 [==============================] - 4s 84us/step - loss: 0.0038 - mse: 1.6903e-05 - mae: 0.0032 - mape: 49588.2783 - val_loss: 0.0020 - val_mse: 4.1285e-06 - val_mae: 0.0016 - val_mape: 14091.9912\n",
            "Epoch 172/200\n",
            "45000/45000 [==============================] - 4s 84us/step - loss: 0.0037 - mse: 1.7269e-05 - mae: 0.0031 - mape: 42237.5420 - val_loss: 0.0042 - val_mse: 1.7664e-05 - val_mae: 0.0034 - val_mape: 17748.7262\n",
            "Epoch 173/200\n",
            "45000/45000 [==============================] - 4s 83us/step - loss: 0.0039 - mse: 1.6076e-05 - mae: 0.0033 - mape: 17127.2253 - val_loss: 0.0041 - val_mse: 1.6544e-05 - val_mae: 0.0034 - val_mape: 20554.0132\n",
            "Epoch 174/200\n",
            "45000/45000 [==============================] - 4s 84us/step - loss: 0.0039 - mse: 1.5801e-05 - mae: 0.0033 - mape: 16176.0818 - val_loss: 0.0031 - val_mse: 9.8060e-06 - val_mae: 0.0027 - val_mape: 23775.2473\n",
            "Epoch 175/200\n",
            "45000/45000 [==============================] - 4s 83us/step - loss: 0.0039 - mse: 1.6060e-05 - mae: 0.0032 - mape: 15957.0837 - val_loss: 0.0030 - val_mse: 8.7948e-06 - val_mae: 0.0025 - val_mape: 8303.8781\n",
            "Epoch 176/200\n",
            "45000/45000 [==============================] - 4s 84us/step - loss: 0.0039 - mse: 1.6411e-05 - mae: 0.0033 - mape: 18027.4715 - val_loss: 0.0024 - val_mse: 5.7941e-06 - val_mae: 0.0020 - val_mape: 14763.0807\n",
            "Epoch 177/200\n",
            "45000/45000 [==============================] - 4s 84us/step - loss: 0.0039 - mse: 1.6619e-05 - mae: 0.0033 - mape: 17421.3479 - val_loss: 0.0030 - val_mse: 9.1726e-06 - val_mae: 0.0024 - val_mape: 8360.1428\n",
            "Epoch 178/200\n",
            "45000/45000 [==============================] - 4s 83us/step - loss: 0.0038 - mse: 1.5689e-05 - mae: 0.0032 - mape: 19916.0301 - val_loss: 0.0037 - val_mse: 1.3982e-05 - val_mae: 0.0031 - val_mape: 12239.1190\n",
            "Epoch 179/200\n",
            "45000/45000 [==============================] - 4s 84us/step - loss: 0.0039 - mse: 1.5275e-05 - mae: 0.0032 - mape: 13983.2398 - val_loss: 0.0037 - val_mse: 1.4046e-05 - val_mae: 0.0031 - val_mape: 7940.7981\n",
            "Epoch 180/200\n",
            "45000/45000 [==============================] - 4s 83us/step - loss: 0.0039 - mse: 1.5453e-05 - mae: 0.0032 - mape: 17741.7869 - val_loss: 0.0031 - val_mse: 9.5873e-06 - val_mae: 0.0025 - val_mape: 15907.3478\n",
            "Epoch 181/200\n",
            "45000/45000 [==============================] - 4s 83us/step - loss: 0.0039 - mse: 1.5328e-05 - mae: 0.0032 - mape: 15537.3726 - val_loss: 0.0029 - val_mse: 8.3983e-06 - val_mae: 0.0024 - val_mape: 13043.7235\n",
            "Epoch 182/200\n",
            "45000/45000 [==============================] - 4s 84us/step - loss: 0.0038 - mse: 1.5354e-05 - mae: 0.0032 - mape: 18551.2990 - val_loss: 0.0021 - val_mse: 4.5921e-06 - val_mae: 0.0018 - val_mape: 10379.6002\n",
            "Epoch 183/200\n",
            "45000/45000 [==============================] - 4s 84us/step - loss: 0.0038 - mse: 1.5480e-05 - mae: 0.0032 - mape: 19045.2070 - val_loss: 0.0039 - val_mse: 1.5491e-05 - val_mae: 0.0034 - val_mape: 8660.1485\n",
            "Epoch 184/200\n",
            "45000/45000 [==============================] - 4s 84us/step - loss: 0.0038 - mse: 1.5460e-05 - mae: 0.0032 - mape: 16509.8735 - val_loss: 0.0031 - val_mse: 9.7649e-06 - val_mae: 0.0027 - val_mape: 27451.5996\n",
            "Epoch 185/200\n",
            "45000/45000 [==============================] - 4s 84us/step - loss: 0.0038 - mse: 1.5220e-05 - mae: 0.0032 - mape: 17234.1567 - val_loss: 0.0029 - val_mse: 8.2805e-06 - val_mae: 0.0025 - val_mape: 16168.7196\n",
            "Epoch 186/200\n",
            "45000/45000 [==============================] - 4s 83us/step - loss: 0.0038 - mse: 1.6367e-05 - mae: 0.0032 - mape: 28087.7143 - val_loss: 0.0021 - val_mse: 4.5345e-06 - val_mae: 0.0017 - val_mape: 14251.4342\n",
            "Epoch 187/200\n",
            "45000/45000 [==============================] - 4s 83us/step - loss: 0.0036 - mse: 1.6186e-05 - mae: 0.0030 - mape: 26002.5847 - val_loss: 0.0025 - val_mse: 6.0565e-06 - val_mae: 0.0021 - val_mape: 35705.8142\n",
            "Epoch 188/200\n",
            "45000/45000 [==============================] - 4s 84us/step - loss: 0.0037 - mse: 1.5573e-05 - mae: 0.0032 - mape: 33408.7817 - val_loss: 0.0039 - val_mse: 1.5375e-05 - val_mae: 0.0033 - val_mape: 16433.2252\n",
            "Epoch 189/200\n",
            "45000/45000 [==============================] - 4s 83us/step - loss: 0.0038 - mse: 1.5003e-05 - mae: 0.0032 - mape: 19216.4067 - val_loss: 0.0031 - val_mse: 9.5859e-06 - val_mae: 0.0025 - val_mape: 7909.7330\n",
            "Epoch 190/200\n",
            "45000/45000 [==============================] - 4s 84us/step - loss: 0.0038 - mse: 1.5208e-05 - mae: 0.0032 - mape: 21063.7216 - val_loss: 0.0020 - val_mse: 4.1236e-06 - val_mae: 0.0017 - val_mape: 8414.4677\n",
            "Epoch 191/200\n",
            "45000/45000 [==============================] - 4s 84us/step - loss: 0.0037 - mse: 1.5191e-05 - mae: 0.0031 - mape: 15437.3433 - val_loss: 0.0047 - val_mse: 2.2379e-05 - val_mae: 0.0039 - val_mape: 10357.8738\n",
            "Epoch 192/200\n",
            "45000/45000 [==============================] - 4s 84us/step - loss: 0.0038 - mse: 1.5492e-05 - mae: 0.0032 - mape: 23338.0468 - val_loss: 0.0036 - val_mse: 1.2693e-05 - val_mae: 0.0031 - val_mape: 23012.3166\n",
            "Epoch 193/200\n",
            "45000/45000 [==============================] - 4s 84us/step - loss: 0.0038 - mse: 1.5458e-05 - mae: 0.0031 - mape: 14924.1245 - val_loss: 0.0043 - val_mse: 1.8764e-05 - val_mae: 0.0037 - val_mape: 17487.0271\n",
            "Epoch 194/200\n",
            "45000/45000 [==============================] - 4s 84us/step - loss: 0.0038 - mse: 1.4808e-05 - mae: 0.0032 - mape: 14297.0118 - val_loss: 0.0035 - val_mse: 1.1959e-05 - val_mae: 0.0028 - val_mape: 7472.4496\n",
            "Epoch 195/200\n",
            "45000/45000 [==============================] - 4s 83us/step - loss: 0.0037 - mse: 1.4787e-05 - mae: 0.0031 - mape: 18277.6390 - val_loss: 0.0038 - val_mse: 1.4279e-05 - val_mae: 0.0032 - val_mape: 11791.0180\n",
            "Epoch 196/200\n",
            "45000/45000 [==============================] - 4s 84us/step - loss: 0.0037 - mse: 1.4876e-05 - mae: 0.0031 - mape: 15819.2591 - val_loss: 0.0027 - val_mse: 7.5161e-06 - val_mae: 0.0023 - val_mape: 8415.9638\n",
            "Epoch 197/200\n",
            "45000/45000 [==============================] - 4s 83us/step - loss: 0.0037 - mse: 1.4969e-05 - mae: 0.0031 - mape: 19237.1151 - val_loss: 0.0053 - val_mse: 2.7878e-05 - val_mae: 0.0044 - val_mape: 31625.7028\n",
            "Epoch 198/200\n",
            "45000/45000 [==============================] - 4s 84us/step - loss: 0.0038 - mse: 1.5776e-05 - mae: 0.0032 - mape: 29617.3426 - val_loss: 0.0021 - val_mse: 4.2097e-06 - val_mae: 0.0017 - val_mape: 36413.1968\n",
            "Epoch 199/200\n",
            "45000/45000 [==============================] - 4s 84us/step - loss: 0.0037 - mse: 1.5306e-05 - mae: 0.0031 - mape: 30946.7845 - val_loss: 0.0056 - val_mse: 3.1117e-05 - val_mae: 0.0047 - val_mape: 8247.8028\n",
            "Epoch 200/200\n",
            "45000/45000 [==============================] - 4s 84us/step - loss: 0.0037 - mse: 1.5658e-05 - mae: 0.0031 - mape: 33090.3985 - val_loss: 0.0040 - val_mse: 1.6316e-05 - val_mae: 0.0033 - val_mape: 43648.1035\n"
          ],
          "name": "stdout"
        }
      ]
    },
    {
      "cell_type": "code",
      "metadata": {
        "id": "d_9WN4rydoAj"
      },
      "source": [
        "Ypred=modelBS.predict(X_test)"
      ],
      "execution_count": null,
      "outputs": []
    },
    {
      "cell_type": "code",
      "metadata": {
        "id": "Lxc612eUf_22",
        "colab": {
          "base_uri": "https://localhost:8080/",
          "height": 133
        },
        "outputId": "2441827e-a28e-4e3c-c649-222403910d84"
      },
      "source": [
        "Ypred"
      ],
      "execution_count": null,
      "outputs": [
        {
          "output_type": "execute_result",
          "data": {
            "text/plain": [
              "array([[ 7.55521418e-01],\n",
              "       [-5.67764151e-04],\n",
              "       [ 3.78840098e-02],\n",
              "       ...,\n",
              "       [ 7.50598532e-01],\n",
              "       [ 2.72703963e-02],\n",
              "       [ 3.33433051e-03]])"
            ]
          },
          "metadata": {
            "tags": []
          },
          "execution_count": 25
        }
      ]
    },
    {
      "cell_type": "code",
      "metadata": {
        "id": "O7Z8zXVvBIT3",
        "colab": {
          "base_uri": "https://localhost:8080/",
          "height": 281
        },
        "outputId": "d167942c-1eca-4c42-bd92-23e8ba5fa476"
      },
      "source": [
        "from pandas import DataFrame\n",
        "import matplotlib.pyplot as plt\n",
        "handles, labels = ax.get_legend_handles_labels()\n",
        "ax.legend(handles, labels)\n",
        "g1, =plt.plot(historybs.history['mse'],label=\"mse\")\n",
        "g2, =plt.plot(historybs.history['mae'],label=\"mae\")\n",
        "g3, =plt.plot(historybs.history['loss'],label=\"rmse\")\n",
        "plt.legend(handles=[g1, g2, g3], labels=['mse', 'mae', 'rmse'])\n",
        "plt.title('historique des erreurs par le modèle de Black Scholes')\n",
        "plt.show()"
      ],
      "execution_count": null,
      "outputs": [
        {
          "output_type": "display_data",
          "data": {
            "image/png": "[encoded data removed]",
            "text/plain": [
              "<Figure size 432x288 with 1 Axes>"
            ]
          },
          "metadata": {
            "tags": [],
            "needs_background": "light"
          }
        }
      ]
    },
    {
      "cell_type": "code",
      "metadata": {
        "id": "JvViNVxRGqzn",
        "colab": {
          "base_uri": "https://localhost:8080/",
          "height": 166
        },
        "outputId": "5a7fc919-580a-46ab-91fa-23533c3d20ff"
      },
      "source": [
        "from pandas import DataFrame\n",
        "residualsbs =np.zeros(len(Ypred))\n",
        "Yval=Y_test.values\n",
        "for i in range(len(Ypred)):\n",
        "  residualsbs[i]= Yval[i]-Ypred[i,0] \n",
        "\n",
        "residualsbs = DataFrame(residualsbs)\n",
        "print(residualsbs.describe())"
      ],
      "execution_count": null,
      "outputs": [
        {
          "output_type": "stream",
          "text": [
            "                 0\n",
            "count  5000.000000\n",
            "mean     -0.003077\n",
            "std       0.002617\n",
            "min      -0.009157\n",
            "25%      -0.005338\n",
            "50%      -0.003187\n",
            "75%      -0.000605\n",
            "max       0.002976\n"
          ],
          "name": "stdout"
        }
      ]
    },
    {
      "cell_type": "code",
      "metadata": {
        "id": "06CPabmRBQlE",
        "colab": {
          "base_uri": "https://localhost:8080/",
          "height": 528
        },
        "outputId": "6b634e18-2dfa-45ef-8200-5be127702f9d"
      },
      "source": [
        "import matplotlib.pyplot as plt\n",
        "# histogram plot\n",
        "residualsbs.hist()\n",
        "plt.title('Distribution de l''erreur')\n",
        "\n",
        "# density plot\n",
        "residualsbs.plot(kind='kde')\n",
        "plt.show()"
      ],
      "execution_count": null,
      "outputs": [
        {
          "output_type": "display_data",
          "data": {
            "image/png": "[encoded data removed]",
            "text/plain": [
              "<Figure size 432x288 with 1 Axes>"
            ]
          },
          "metadata": {
            "tags": [],
            "needs_background": "light"
          }
        },
        {
          "output_type": "display_data",
          "data": {
            "image/png": "[encoded data removed]",
            "text/plain": [
              "<Figure size 432x288 with 1 Axes>"
            ]
          },
          "metadata": {
            "tags": [],
            "needs_background": "light"
          }
        }
      ]
    },
    {
      "cell_type": "markdown",
      "metadata": {
        "id": "2K43o6ETsLsW"
      },
      "source": [
        "### ANN-IV "
      ]
    },
    {
      "cell_type": "code",
      "metadata": {
        "id": "QG9rqHjNr7yB"
      },
      "source": [
        "from sklearn.model_selection import train_test_split\n",
        "X2 = df[['Stock price','Time to maturity','Risk free rate','Call price']]\n",
        "Y2 = df['vol implicite']\n",
        "X2_train, X2_test, Y2_train, Y2_test = train_test_split(X1, Y1, test_size=0.1, random_state=1)"
      ],
      "execution_count": null,
      "outputs": []
    },
    {
      "cell_type": "code",
      "metadata": {
        "id": "9fGCJ3CStDME",
        "colab": {
          "base_uri": "https://localhost:8080/",
          "height": 316
        },
        "outputId": "9b18af2a-71df-4af1-b090-a5ab3ac98f0f"
      },
      "source": [
        "import keras\n",
        "from keras.layers import Activation\n",
        "from keras import backend as K\n",
        "from keras.utils.generic_utils import get_custom_objects\n",
        "keras.backend.set_floatx('float64')\n",
        "\n",
        "\n",
        "input1 = keras.layers.Input(shape=(4,))\n",
        "x1 = keras.layers.Dense(400,activation = 'relu',kernel_initializer='glorot_uniform')(input1)\n",
        "x2=keras.layers.Dense(400,activation = 'relu')(x1) \n",
        "x3=keras.layers.Dense(400,activation = 'relu')(x2) \n",
        "\n",
        "\n",
        "x4=keras.layers.Dense(1,activation = 'linear')(x3)\n",
        "\n",
        "\n",
        "modelBS_IV = keras.models.Model(inputs=input1, outputs=x4)\n",
        "modelBS_IV.summary()"
      ],
      "execution_count": null,
      "outputs": [
        {
          "output_type": "stream",
          "text": [
            "Model: \"model_2\"\n",
            "_________________________________________________________________\n",
            "Layer (type)                 Output Shape              Param #   \n",
            "=================================================================\n",
            "input_2 (InputLayer)         (None, 4)                 0         \n",
            "_________________________________________________________________\n",
            "dense_5 (Dense)              (None, 400)               2000      \n",
            "_________________________________________________________________\n",
            "dense_6 (Dense)              (None, 400)               160400    \n",
            "_________________________________________________________________\n",
            "dense_7 (Dense)              (None, 400)               160400    \n",
            "_________________________________________________________________\n",
            "dense_8 (Dense)              (None, 1)                 401       \n",
            "=================================================================\n",
            "Total params: 323,201\n",
            "Trainable params: 323,201\n",
            "Non-trainable params: 0\n",
            "_________________________________________________________________\n"
          ],
          "name": "stdout"
        }
      ]
    },
    {
      "cell_type": "code",
      "metadata": {
        "id": "ruov9xc1tI4f",
        "colab": {
          "base_uri": "https://localhost:8080/",
          "height": 1000
        },
        "outputId": "739574f6-147e-43fd-950b-b0c0fa4ceb89"
      },
      "source": [
        "def root_mean_squared_error(x_true, x_pred):\n",
        "        return K.sqrt(K.mean(K.square(x_pred - x_true)))\n",
        "modelBS_IV.compile(loss=root_mean_squared_error, optimizer='adam', metrics=['mse', 'mae', 'mape'])\n",
        "\n",
        "historyiv=modelBS_IV.fit(X2_train, Y2_train, batch_size=1042,validation_data = (X2_test,Y2_test),epochs = 200, verbose = True,shuffle=1)"
      ],
      "execution_count": null,
      "outputs": [
        {
          "output_type": "stream",
          "text": [
            "Train on 45000 samples, validate on 5000 samples\n",
            "Epoch 1/200\n",
            "45000/45000 [==============================] - 4s 86us/step - loss: 0.0938 - mse: 0.0113 - mae: 0.0755 - mape: 4136713.3840 - val_loss: 0.0467 - val_mse: 0.0022 - val_mae: 0.0367 - val_mape: 2947454.0813\n",
            "Epoch 2/200\n",
            "45000/45000 [==============================] - 4s 83us/step - loss: 0.0241 - mse: 6.8663e-04 - mae: 0.0191 - mape: 975976.6219 - val_loss: 0.0133 - val_mse: 1.7769e-04 - val_mae: 0.0102 - val_mape: 134047.8511\n",
            "Epoch 3/200\n",
            "45000/45000 [==============================] - 4s 84us/step - loss: 0.0218 - mse: 7.2579e-04 - mae: 0.0185 - mape: 240668.6102 - val_loss: 0.0227 - val_mse: 5.1465e-04 - val_mae: 0.0176 - val_mape: 164469.6228\n",
            "Epoch 4/200\n",
            "45000/45000 [==============================] - 4s 83us/step - loss: 0.0293 - mse: 9.5394e-04 - mae: 0.0246 - mape: 204288.7737 - val_loss: 0.0293 - val_mse: 8.6036e-04 - val_mae: 0.0259 - val_mape: 125511.3078\n",
            "Epoch 5/200\n",
            "45000/45000 [==============================] - 4s 84us/step - loss: 0.0246 - mse: 6.7474e-04 - mae: 0.0206 - mape: 149261.8595 - val_loss: 0.0202 - val_mse: 4.0765e-04 - val_mae: 0.0159 - val_mape: 93793.3333\n",
            "Epoch 6/200\n",
            "45000/45000 [==============================] - 4s 84us/step - loss: 0.0161 - mse: 3.1715e-04 - mae: 0.0133 - mape: 116896.2317 - val_loss: 0.0164 - val_mse: 2.6957e-04 - val_mae: 0.0142 - val_mape: 73117.2429\n",
            "Epoch 7/200\n",
            "45000/45000 [==============================] - 4s 84us/step - loss: 0.0121 - mse: 1.5139e-04 - mae: 0.0101 - mape: 110902.3322 - val_loss: 0.0126 - val_mse: 1.5887e-04 - val_mae: 0.0107 - val_mape: 70037.9748\n",
            "Epoch 8/200\n",
            "45000/45000 [==============================] - 4s 83us/step - loss: 0.0114 - mse: 1.3495e-04 - mae: 0.0096 - mape: 83204.3494 - val_loss: 0.0139 - val_mse: 1.9316e-04 - val_mae: 0.0120 - val_mape: 86111.8884\n",
            "Epoch 9/200\n",
            "45000/45000 [==============================] - 4s 84us/step - loss: 0.0110 - mse: 1.2664e-04 - mae: 0.0092 - mape: 84582.2262 - val_loss: 0.0131 - val_mse: 1.7073e-04 - val_mae: 0.0111 - val_mape: 53754.6881\n",
            "Epoch 10/200\n",
            "45000/45000 [==============================] - 4s 83us/step - loss: 0.0105 - mse: 1.1536e-04 - mae: 0.0088 - mape: 85577.1840 - val_loss: 0.0166 - val_mse: 2.7716e-04 - val_mae: 0.0138 - val_mape: 92020.3744\n",
            "Epoch 11/200\n",
            "45000/45000 [==============================] - 4s 84us/step - loss: 0.0170 - mse: 3.3879e-04 - mae: 0.0144 - mape: 148218.9054 - val_loss: 0.0131 - val_mse: 1.7083e-04 - val_mae: 0.0110 - val_mape: 99676.4442\n",
            "Epoch 12/200\n",
            "45000/45000 [==============================] - 4s 84us/step - loss: 0.0096 - mse: 1.3529e-04 - mae: 0.0082 - mape: 184238.4892 - val_loss: 0.0118 - val_mse: 1.4002e-04 - val_mae: 0.0102 - val_mape: 51221.8706\n",
            "Epoch 13/200\n",
            "45000/45000 [==============================] - 4s 84us/step - loss: 0.0191 - mse: 4.7157e-04 - mae: 0.0162 - mape: 124982.7341 - val_loss: 0.0377 - val_mse: 0.0014 - val_mae: 0.0312 - val_mape: 128773.5068\n",
            "Epoch 14/200\n",
            "45000/45000 [==============================] - 4s 84us/step - loss: 0.0091 - mse: 1.2685e-04 - mae: 0.0076 - mape: 95741.5418 - val_loss: 0.0078 - val_mse: 6.0989e-05 - val_mae: 0.0062 - val_mape: 92594.9362\n",
            "Epoch 15/200\n",
            "45000/45000 [==============================] - 4s 84us/step - loss: 0.0091 - mse: 9.8205e-05 - mae: 0.0079 - mape: 229202.5167 - val_loss: 0.0091 - val_mse: 8.3495e-05 - val_mae: 0.0084 - val_mape: 196830.9421\n",
            "Epoch 16/200\n",
            "45000/45000 [==============================] - 4s 84us/step - loss: 0.0087 - mse: 8.1860e-05 - mae: 0.0073 - mape: 56389.8695 - val_loss: 0.0047 - val_mse: 2.1933e-05 - val_mae: 0.0037 - val_mape: 32294.8706\n",
            "Epoch 17/200\n",
            "45000/45000 [==============================] - 4s 84us/step - loss: 0.0084 - mse: 7.5381e-05 - mae: 0.0070 - mape: 57830.7582 - val_loss: 0.0069 - val_mse: 4.7327e-05 - val_mae: 0.0058 - val_mape: 46238.7468\n",
            "Epoch 18/200\n",
            "45000/45000 [==============================] - 4s 84us/step - loss: 0.0083 - mse: 7.4101e-05 - mae: 0.0069 - mape: 42242.8095 - val_loss: 0.0053 - val_mse: 2.8478e-05 - val_mae: 0.0044 - val_mape: 43127.9136\n",
            "Epoch 19/200\n",
            "45000/45000 [==============================] - 4s 84us/step - loss: 0.0080 - mse: 7.0385e-05 - mae: 0.0068 - mape: 58791.9400 - val_loss: 0.0100 - val_mse: 1.0026e-04 - val_mae: 0.0080 - val_mape: 152279.5998\n",
            "Epoch 20/200\n",
            "45000/45000 [==============================] - 4s 85us/step - loss: 0.0080 - mse: 6.9385e-05 - mae: 0.0067 - mape: 71904.0430 - val_loss: 0.0089 - val_mse: 7.8345e-05 - val_mae: 0.0076 - val_mape: 48839.7806\n",
            "Epoch 21/200\n",
            "45000/45000 [==============================] - 4s 85us/step - loss: 0.0079 - mse: 6.6187e-05 - mae: 0.0066 - mape: 51057.2422 - val_loss: 0.0055 - val_mse: 3.0762e-05 - val_mae: 0.0045 - val_mape: 86246.1719\n",
            "Epoch 22/200\n",
            "45000/45000 [==============================] - 4s 85us/step - loss: 0.0077 - mse: 6.4422e-05 - mae: 0.0065 - mape: 70929.2370 - val_loss: 0.0061 - val_mse: 3.7349e-05 - val_mae: 0.0056 - val_mape: 128256.1623\n",
            "Epoch 23/200\n",
            "45000/45000 [==============================] - 4s 84us/step - loss: 0.0076 - mse: 6.2487e-05 - mae: 0.0064 - mape: 69902.5087 - val_loss: 0.0090 - val_mse: 8.1533e-05 - val_mae: 0.0075 - val_mape: 32076.5869\n",
            "Epoch 24/200\n",
            "45000/45000 [==============================] - 4s 84us/step - loss: 0.0075 - mse: 6.2220e-05 - mae: 0.0063 - mape: 45685.6425 - val_loss: 0.0054 - val_mse: 2.9597e-05 - val_mae: 0.0048 - val_mape: 91428.1027\n",
            "Epoch 25/200\n",
            "45000/45000 [==============================] - 4s 84us/step - loss: 0.0074 - mse: 5.8466e-05 - mae: 0.0062 - mape: 57352.3103 - val_loss: 0.0088 - val_mse: 7.7271e-05 - val_mae: 0.0072 - val_mape: 28313.6065\n",
            "Epoch 26/200\n",
            "45000/45000 [==============================] - 4s 84us/step - loss: 0.0074 - mse: 5.7445e-05 - mae: 0.0062 - mape: 51895.9389 - val_loss: 0.0051 - val_mse: 2.6089e-05 - val_mae: 0.0047 - val_mape: 100112.4633\n",
            "Epoch 27/200\n",
            "45000/45000 [==============================] - 4s 84us/step - loss: 0.0072 - mse: 5.4784e-05 - mae: 0.0062 - mape: 98903.6064 - val_loss: 0.0038 - val_mse: 1.4711e-05 - val_mae: 0.0031 - val_mape: 118196.9309\n",
            "Epoch 28/200\n",
            "45000/45000 [==============================] - 4s 83us/step - loss: 0.0071 - mse: 5.2774e-05 - mae: 0.0060 - mape: 83823.7708 - val_loss: 0.0076 - val_mse: 5.8446e-05 - val_mae: 0.0067 - val_mape: 41584.6288\n",
            "Epoch 29/200\n",
            "45000/45000 [==============================] - 4s 84us/step - loss: 0.0070 - mse: 5.4134e-05 - mae: 0.0059 - mape: 49512.0020 - val_loss: 0.0066 - val_mse: 4.4070e-05 - val_mae: 0.0054 - val_mape: 26444.8783\n",
            "Epoch 30/200\n",
            "45000/45000 [==============================] - 4s 84us/step - loss: 0.0070 - mse: 5.1377e-05 - mae: 0.0059 - mape: 69169.2478 - val_loss: 0.0064 - val_mse: 4.0981e-05 - val_mae: 0.0059 - val_mape: 135719.9835\n",
            "Epoch 31/200\n",
            "45000/45000 [==============================] - 4s 83us/step - loss: 0.0069 - mse: 4.9818e-05 - mae: 0.0059 - mape: 89719.4997 - val_loss: 0.0069 - val_mse: 4.7628e-05 - val_mae: 0.0057 - val_mape: 126173.3590\n",
            "Epoch 32/200\n",
            "45000/45000 [==============================] - 4s 84us/step - loss: 0.0068 - mse: 5.0650e-05 - mae: 0.0057 - mape: 61397.7165 - val_loss: 0.0091 - val_mse: 8.3650e-05 - val_mae: 0.0077 - val_mape: 100094.8931\n",
            "Epoch 33/200\n",
            "45000/45000 [==============================] - 4s 84us/step - loss: 0.0067 - mse: 5.0765e-05 - mae: 0.0057 - mape: 71932.4797 - val_loss: 0.0075 - val_mse: 5.5980e-05 - val_mae: 0.0067 - val_mape: 37184.6848\n",
            "Epoch 34/200\n",
            "45000/45000 [==============================] - 4s 84us/step - loss: 0.0067 - mse: 4.8886e-05 - mae: 0.0057 - mape: 44674.5804 - val_loss: 0.0057 - val_mse: 3.2694e-05 - val_mae: 0.0047 - val_mape: 22797.0674\n",
            "Epoch 35/200\n",
            "45000/45000 [==============================] - 4s 84us/step - loss: 0.0066 - mse: 4.6807e-05 - mae: 0.0055 - mape: 55095.5341 - val_loss: 0.0042 - val_mse: 1.7243e-05 - val_mae: 0.0037 - val_mape: 142489.4467\n",
            "Epoch 36/200\n",
            "45000/45000 [==============================] - 4s 85us/step - loss: 0.0065 - mse: 4.5595e-05 - mae: 0.0055 - mape: 51630.2200 - val_loss: 0.0052 - val_mse: 2.7445e-05 - val_mae: 0.0044 - val_mape: 22675.3747\n",
            "Epoch 37/200\n",
            "45000/45000 [==============================] - 4s 84us/step - loss: 0.0064 - mse: 4.5862e-05 - mae: 0.0054 - mape: 47828.6104 - val_loss: 0.0053 - val_mse: 2.8588e-05 - val_mae: 0.0046 - val_mape: 27135.0555\n",
            "Epoch 38/200\n",
            "45000/45000 [==============================] - 4s 84us/step - loss: 0.0077 - mse: 8.2087e-05 - mae: 0.0065 - mape: 108532.8636 - val_loss: 0.0076 - val_mse: 5.7459e-05 - val_mae: 0.0071 - val_mape: 219867.9441\n",
            "Epoch 39/200\n",
            "45000/45000 [==============================] - 4s 84us/step - loss: 0.0061 - mse: 4.3998e-05 - mae: 0.0052 - mape: 90409.4010 - val_loss: 0.0050 - val_mse: 2.5051e-05 - val_mae: 0.0042 - val_mape: 22321.5761\n",
            "Epoch 40/200\n",
            "45000/45000 [==============================] - 4s 84us/step - loss: 0.0063 - mse: 4.8417e-05 - mae: 0.0053 - mape: 70398.9436 - val_loss: 0.0020 - val_mse: 3.8195e-06 - val_mae: 0.0016 - val_mape: 92780.4088\n",
            "Epoch 41/200\n",
            "45000/45000 [==============================] - 4s 83us/step - loss: 0.0086 - mse: 9.7270e-05 - mae: 0.0073 - mape: 75275.4442 - val_loss: 0.0075 - val_mse: 5.6608e-05 - val_mae: 0.0065 - val_mape: 50858.5952\n",
            "Epoch 42/200\n",
            "45000/45000 [==============================] - 4s 84us/step - loss: 0.0059 - mse: 4.2368e-05 - mae: 0.0049 - mape: 40495.3451 - val_loss: 0.0101 - val_mse: 1.0156e-04 - val_mae: 0.0086 - val_mape: 149810.1823\n",
            "Epoch 43/200\n",
            "45000/45000 [==============================] - 4s 84us/step - loss: 0.0037 - mse: 1.8309e-05 - mae: 0.0031 - mape: 46929.7498 - val_loss: 0.0024 - val_mse: 5.6762e-06 - val_mae: 0.0021 - val_mape: 17996.8016\n",
            "Epoch 44/200\n",
            "45000/45000 [==============================] - 4s 83us/step - loss: 0.0054 - mse: 3.3982e-05 - mae: 0.0046 - mape: 84502.9812 - val_loss: 0.0064 - val_mse: 4.1540e-05 - val_mae: 0.0052 - val_mape: 37165.4171\n",
            "Epoch 45/200\n",
            "45000/45000 [==============================] - 4s 84us/step - loss: 0.0062 - mse: 4.0200e-05 - mae: 0.0052 - mape: 47802.5036 - val_loss: 0.0082 - val_mse: 6.7628e-05 - val_mae: 0.0069 - val_mape: 43943.4148\n",
            "Epoch 46/200\n",
            "45000/45000 [==============================] - 4s 83us/step - loss: 0.0062 - mse: 4.1247e-05 - mae: 0.0052 - mape: 26131.2617 - val_loss: 0.0092 - val_mse: 8.4105e-05 - val_mae: 0.0079 - val_mape: 39824.4746\n",
            "Epoch 47/200\n",
            "45000/45000 [==============================] - 4s 84us/step - loss: 0.0061 - mse: 4.1239e-05 - mae: 0.0052 - mape: 36319.9286 - val_loss: 0.0077 - val_mse: 5.8546e-05 - val_mae: 0.0067 - val_mape: 81022.7548\n",
            "Epoch 48/200\n",
            "45000/45000 [==============================] - 4s 83us/step - loss: 0.0061 - mse: 3.9323e-05 - mae: 0.0051 - mape: 55736.5758 - val_loss: 0.0074 - val_mse: 5.4979e-05 - val_mae: 0.0061 - val_mape: 21814.9991\n",
            "Epoch 49/200\n",
            "45000/45000 [==============================] - 4s 83us/step - loss: 0.0060 - mse: 3.8128e-05 - mae: 0.0050 - mape: 53422.1364 - val_loss: 0.0079 - val_mse: 6.1650e-05 - val_mae: 0.0065 - val_mape: 36409.3754\n",
            "Epoch 50/200\n",
            "45000/45000 [==============================] - 4s 84us/step - loss: 0.0059 - mse: 3.8780e-05 - mae: 0.0050 - mape: 30944.1905 - val_loss: 0.0084 - val_mse: 7.1058e-05 - val_mae: 0.0070 - val_mape: 42484.1630\n",
            "Epoch 51/200\n",
            "45000/45000 [==============================] - 4s 83us/step - loss: 0.0059 - mse: 3.8137e-05 - mae: 0.0051 - mape: 73613.0190 - val_loss: 0.0056 - val_mse: 3.1365e-05 - val_mae: 0.0050 - val_mape: 107448.9908\n",
            "Epoch 52/200\n",
            "45000/45000 [==============================] - 4s 84us/step - loss: 0.0058 - mse: 3.5682e-05 - mae: 0.0050 - mape: 92144.2870 - val_loss: 0.0094 - val_mse: 8.8079e-05 - val_mae: 0.0082 - val_mape: 83823.1228\n",
            "Epoch 53/200\n",
            "45000/45000 [==============================] - 4s 84us/step - loss: 0.0059 - mse: 3.6739e-05 - mae: 0.0049 - mape: 39736.0940 - val_loss: 0.0082 - val_mse: 6.7347e-05 - val_mae: 0.0068 - val_mape: 34232.9437\n",
            "Epoch 54/200\n",
            "45000/45000 [==============================] - 5s 111us/step - loss: 0.0058 - mse: 3.5719e-05 - mae: 0.0049 - mape: 46609.6905 - val_loss: 0.0075 - val_mse: 5.5971e-05 - val_mae: 0.0063 - val_mape: 28158.1089\n",
            "Epoch 55/200\n",
            "45000/45000 [==============================] - 5s 111us/step - loss: 0.0058 - mse: 3.5434e-05 - mae: 0.0049 - mape: 57990.6854 - val_loss: 0.0079 - val_mse: 6.2819e-05 - val_mae: 0.0067 - val_mape: 52765.6556\n",
            "Epoch 56/200\n",
            "45000/45000 [==============================] - 4s 85us/step - loss: 0.0057 - mse: 3.7260e-05 - mae: 0.0048 - mape: 38800.7078 - val_loss: 0.0052 - val_mse: 2.7391e-05 - val_mae: 0.0043 - val_mape: 13539.2470\n",
            "Epoch 57/200\n",
            "45000/45000 [==============================] - 4s 86us/step - loss: 0.0056 - mse: 3.4873e-05 - mae: 0.0048 - mape: 45445.1500 - val_loss: 0.0060 - val_mse: 3.5627e-05 - val_mae: 0.0050 - val_mape: 51361.4372\n",
            "Epoch 58/200\n",
            "45000/45000 [==============================] - 4s 86us/step - loss: 0.0056 - mse: 3.3836e-05 - mae: 0.0048 - mape: 61070.2978 - val_loss: 0.0074 - val_mse: 5.5462e-05 - val_mae: 0.0064 - val_mape: 27216.0313\n",
            "Epoch 59/200\n",
            "45000/45000 [==============================] - 4s 85us/step - loss: 0.0057 - mse: 3.3901e-05 - mae: 0.0048 - mape: 63565.4927 - val_loss: 0.0060 - val_mse: 3.6015e-05 - val_mae: 0.0050 - val_mape: 12720.5403\n",
            "Epoch 60/200\n",
            "45000/45000 [==============================] - 4s 86us/step - loss: 0.0056 - mse: 3.3246e-05 - mae: 0.0047 - mape: 52904.0162 - val_loss: 0.0081 - val_mse: 6.5382e-05 - val_mae: 0.0068 - val_mape: 21064.0243\n",
            "Epoch 61/200\n",
            "45000/45000 [==============================] - 4s 86us/step - loss: 0.0055 - mse: 3.4995e-05 - mae: 0.0046 - mape: 47448.7986 - val_loss: 0.0054 - val_mse: 2.9055e-05 - val_mae: 0.0047 - val_mape: 28392.9467\n",
            "Epoch 62/200\n",
            "45000/45000 [==============================] - 4s 87us/step - loss: 0.0072 - mse: 7.4344e-05 - mae: 0.0062 - mape: 113575.5217 - val_loss: 0.0047 - val_mse: 2.2488e-05 - val_mae: 0.0038 - val_mape: 23953.0923\n",
            "Epoch 63/200\n",
            "45000/45000 [==============================] - 4s 86us/step - loss: 0.0055 - mse: 3.2279e-05 - mae: 0.0046 - mape: 40055.0238 - val_loss: 0.0058 - val_mse: 3.3129e-05 - val_mae: 0.0049 - val_mape: 13291.3658\n",
            "Epoch 64/200\n",
            "45000/45000 [==============================] - 4s 86us/step - loss: 0.0055 - mse: 3.1118e-05 - mae: 0.0046 - mape: 33122.3369 - val_loss: 0.0055 - val_mse: 2.9890e-05 - val_mae: 0.0047 - val_mape: 58853.7866\n",
            "Epoch 65/200\n",
            "45000/45000 [==============================] - 4s 86us/step - loss: 0.0054 - mse: 3.0777e-05 - mae: 0.0045 - mape: 34317.4879 - val_loss: 0.0048 - val_mse: 2.3337e-05 - val_mae: 0.0041 - val_mape: 13405.3147\n",
            "Epoch 66/200\n",
            "45000/45000 [==============================] - 4s 86us/step - loss: 0.0054 - mse: 3.1098e-05 - mae: 0.0045 - mape: 44274.5315 - val_loss: 0.0043 - val_mse: 1.8793e-05 - val_mae: 0.0037 - val_mape: 42274.9563\n",
            "Epoch 67/200\n",
            "45000/45000 [==============================] - 4s 86us/step - loss: 0.0054 - mse: 3.0129e-05 - mae: 0.0045 - mape: 41779.8851 - val_loss: 0.0046 - val_mse: 2.1525e-05 - val_mae: 0.0039 - val_mape: 56633.2057\n",
            "Epoch 68/200\n",
            "45000/45000 [==============================] - 4s 86us/step - loss: 0.0054 - mse: 3.0577e-05 - mae: 0.0045 - mape: 42917.2328 - val_loss: 0.0034 - val_mse: 1.1839e-05 - val_mae: 0.0031 - val_mape: 82472.1962\n",
            "Epoch 69/200\n",
            "45000/45000 [==============================] - 4s 86us/step - loss: 0.0054 - mse: 3.1371e-05 - mae: 0.0045 - mape: 50686.2552 - val_loss: 0.0031 - val_mse: 9.6908e-06 - val_mae: 0.0026 - val_mape: 15199.9331\n",
            "Epoch 70/200\n",
            "45000/45000 [==============================] - 4s 86us/step - loss: 0.0052 - mse: 2.9977e-05 - mae: 0.0044 - mape: 47655.4812 - val_loss: 0.0065 - val_mse: 4.2817e-05 - val_mae: 0.0056 - val_mape: 73306.8622\n",
            "Epoch 71/200\n",
            "45000/45000 [==============================] - 4s 86us/step - loss: 0.0049 - mse: 3.1531e-05 - mae: 0.0042 - mape: 71000.0161 - val_loss: 0.0044 - val_mse: 1.9349e-05 - val_mae: 0.0037 - val_mape: 14688.2093\n",
            "Epoch 72/200\n",
            "45000/45000 [==============================] - 4s 86us/step - loss: 0.0052 - mse: 3.0854e-05 - mae: 0.0043 - mape: 50333.6522 - val_loss: 0.0060 - val_mse: 3.5555e-05 - val_mae: 0.0050 - val_mape: 108324.5105\n",
            "Epoch 73/200\n",
            "45000/45000 [==============================] - 4s 86us/step - loss: 0.0053 - mse: 2.9849e-05 - mae: 0.0044 - mape: 49005.0387 - val_loss: 0.0031 - val_mse: 9.7081e-06 - val_mae: 0.0026 - val_mape: 22975.0774\n",
            "Epoch 74/200\n",
            "45000/45000 [==============================] - 4s 86us/step - loss: 0.0051 - mse: 2.8897e-05 - mae: 0.0043 - mape: 36945.6658 - val_loss: 0.0066 - val_mse: 4.3093e-05 - val_mae: 0.0056 - val_mape: 44693.0603\n",
            "Epoch 75/200\n",
            "45000/45000 [==============================] - 4s 86us/step - loss: 0.0051 - mse: 2.9614e-05 - mae: 0.0043 - mape: 52317.7054 - val_loss: 0.0070 - val_mse: 4.8495e-05 - val_mae: 0.0060 - val_mape: 105689.8603\n",
            "Epoch 76/200\n",
            "45000/45000 [==============================] - 4s 86us/step - loss: 0.0051 - mse: 2.9187e-05 - mae: 0.0042 - mape: 57622.8021 - val_loss: 0.0083 - val_mse: 6.8749e-05 - val_mae: 0.0069 - val_mape: 33424.7866\n",
            "Epoch 77/200\n",
            "45000/45000 [==============================] - 4s 87us/step - loss: 0.0050 - mse: 2.8409e-05 - mae: 0.0042 - mape: 46239.2578 - val_loss: 0.0074 - val_mse: 5.4772e-05 - val_mae: 0.0062 - val_mape: 12928.8297\n",
            "Epoch 78/200\n",
            "45000/45000 [==============================] - 4s 87us/step - loss: 0.0051 - mse: 2.9326e-05 - mae: 0.0042 - mape: 33605.8654 - val_loss: 0.0033 - val_mse: 1.1074e-05 - val_mae: 0.0027 - val_mape: 66719.8483\n",
            "Epoch 79/200\n",
            "45000/45000 [==============================] - 4s 87us/step - loss: 0.0049 - mse: 2.7594e-05 - mae: 0.0041 - mape: 32828.9725 - val_loss: 0.0049 - val_mse: 2.3625e-05 - val_mae: 0.0038 - val_mape: 14242.0083\n",
            "Epoch 80/200\n",
            "45000/45000 [==============================] - 4s 86us/step - loss: 0.0046 - mse: 2.7519e-05 - mae: 0.0039 - mape: 87756.1501 - val_loss: 0.0079 - val_mse: 6.2582e-05 - val_mae: 0.0063 - val_mape: 23864.7649\n",
            "Epoch 81/200\n",
            "45000/45000 [==============================] - 4s 86us/step - loss: 0.0051 - mse: 2.9226e-05 - mae: 0.0043 - mape: 38107.7217 - val_loss: 0.0021 - val_mse: 4.3431e-06 - val_mae: 0.0016 - val_mape: 16359.3731\n",
            "Epoch 82/200\n",
            "45000/45000 [==============================] - 4s 86us/step - loss: 0.0051 - mse: 2.7779e-05 - mae: 0.0042 - mape: 33350.9733 - val_loss: 0.0034 - val_mse: 1.1559e-05 - val_mae: 0.0028 - val_mape: 25510.3120\n",
            "Epoch 83/200\n",
            "45000/45000 [==============================] - 4s 86us/step - loss: 0.0050 - mse: 2.7014e-05 - mae: 0.0042 - mape: 25407.2686 - val_loss: 0.0055 - val_mse: 3.0276e-05 - val_mae: 0.0044 - val_mape: 42905.9803\n",
            "Epoch 84/200\n",
            "45000/45000 [==============================] - 4s 86us/step - loss: 0.0050 - mse: 2.6841e-05 - mae: 0.0042 - mape: 33543.3688 - val_loss: 0.0033 - val_mse: 1.1097e-05 - val_mae: 0.0027 - val_mape: 15294.3654\n",
            "Epoch 85/200\n",
            "45000/45000 [==============================] - 4s 86us/step - loss: 0.0050 - mse: 2.6502e-05 - mae: 0.0041 - mape: 28044.4527 - val_loss: 0.0043 - val_mse: 1.8573e-05 - val_mae: 0.0038 - val_mape: 36948.2822\n",
            "Epoch 86/200\n",
            "45000/45000 [==============================] - 4s 87us/step - loss: 0.0050 - mse: 2.6629e-05 - mae: 0.0042 - mape: 25663.2603 - val_loss: 0.0028 - val_mse: 7.7192e-06 - val_mae: 0.0023 - val_mape: 21431.2055\n",
            "Epoch 87/200\n",
            "45000/45000 [==============================] - 4s 86us/step - loss: 0.0049 - mse: 2.5478e-05 - mae: 0.0041 - mape: 24238.7008 - val_loss: 0.0047 - val_mse: 2.1778e-05 - val_mae: 0.0038 - val_mape: 10873.2477\n",
            "Epoch 88/200\n",
            "45000/45000 [==============================] - 4s 86us/step - loss: 0.0050 - mse: 2.5386e-05 - mae: 0.0041 - mape: 29813.9756 - val_loss: 0.0042 - val_mse: 1.7524e-05 - val_mae: 0.0034 - val_mape: 17036.2299\n",
            "Epoch 89/200\n",
            "45000/45000 [==============================] - 4s 86us/step - loss: 0.0049 - mse: 2.5764e-05 - mae: 0.0041 - mape: 26664.8704 - val_loss: 0.0029 - val_mse: 8.6436e-06 - val_mae: 0.0025 - val_mape: 27827.9873\n",
            "Epoch 90/200\n",
            "45000/45000 [==============================] - 4s 86us/step - loss: 0.0049 - mse: 2.6196e-05 - mae: 0.0041 - mape: 28521.0886 - val_loss: 0.0038 - val_mse: 1.4083e-05 - val_mae: 0.0032 - val_mape: 20491.1374\n",
            "Epoch 91/200\n",
            "45000/45000 [==============================] - 4s 86us/step - loss: 0.0049 - mse: 2.4914e-05 - mae: 0.0041 - mape: 30917.0577 - val_loss: 0.0035 - val_mse: 1.2398e-05 - val_mae: 0.0030 - val_mape: 32285.1044\n",
            "Epoch 92/200\n",
            "45000/45000 [==============================] - 4s 86us/step - loss: 0.0048 - mse: 2.5373e-05 - mae: 0.0040 - mape: 29159.3934 - val_loss: 0.0033 - val_mse: 1.1043e-05 - val_mae: 0.0028 - val_mape: 18169.2926\n",
            "Epoch 93/200\n",
            "45000/45000 [==============================] - 4s 86us/step - loss: 0.0050 - mse: 2.9110e-05 - mae: 0.0042 - mape: 65121.2714 - val_loss: 0.0040 - val_mse: 1.5937e-05 - val_mae: 0.0034 - val_mape: 42519.0052\n",
            "Epoch 94/200\n",
            "45000/45000 [==============================] - 4s 86us/step - loss: 0.0048 - mse: 2.4742e-05 - mae: 0.0040 - mape: 28834.1439 - val_loss: 0.0035 - val_mse: 1.2567e-05 - val_mae: 0.0029 - val_mape: 13001.6399\n",
            "Epoch 95/200\n",
            "45000/45000 [==============================] - 4s 86us/step - loss: 0.0047 - mse: 2.4662e-05 - mae: 0.0039 - mape: 19600.1732 - val_loss: 0.0065 - val_mse: 4.2411e-05 - val_mae: 0.0054 - val_mape: 16388.3414\n",
            "Epoch 96/200\n",
            "45000/45000 [==============================] - 4s 86us/step - loss: 0.0047 - mse: 2.4261e-05 - mae: 0.0040 - mape: 31500.2742 - val_loss: 0.0050 - val_mse: 2.5426e-05 - val_mae: 0.0040 - val_mape: 33744.4184\n",
            "Epoch 97/200\n",
            "45000/45000 [==============================] - 4s 86us/step - loss: 0.0047 - mse: 2.3321e-05 - mae: 0.0040 - mape: 41469.2881 - val_loss: 0.0058 - val_mse: 3.3145e-05 - val_mae: 0.0048 - val_mape: 21864.8531\n",
            "Epoch 98/200\n",
            "45000/45000 [==============================] - 4s 86us/step - loss: 0.0047 - mse: 2.3406e-05 - mae: 0.0039 - mape: 23967.5524 - val_loss: 0.0058 - val_mse: 3.4181e-05 - val_mae: 0.0049 - val_mape: 17928.4834\n",
            "Epoch 99/200\n",
            "45000/45000 [==============================] - 4s 86us/step - loss: 0.0047 - mse: 2.3110e-05 - mae: 0.0039 - mape: 20534.6356 - val_loss: 0.0068 - val_mse: 4.6136e-05 - val_mae: 0.0057 - val_mape: 11305.0853\n",
            "Epoch 100/200\n",
            "45000/45000 [==============================] - 4s 87us/step - loss: 0.0047 - mse: 2.3397e-05 - mae: 0.0039 - mape: 32462.5396 - val_loss: 0.0067 - val_mse: 4.5135e-05 - val_mae: 0.0056 - val_mape: 55581.9892\n",
            "Epoch 101/200\n",
            "45000/45000 [==============================] - 4s 88us/step - loss: 0.0047 - mse: 2.3746e-05 - mae: 0.0039 - mape: 42302.8866 - val_loss: 0.0040 - val_mse: 1.6072e-05 - val_mae: 0.0033 - val_mape: 39951.8741\n",
            "Epoch 102/200\n",
            "45000/45000 [==============================] - 4s 87us/step - loss: 0.0046 - mse: 2.2581e-05 - mae: 0.0039 - mape: 26211.9460 - val_loss: 0.0063 - val_mse: 4.0117e-05 - val_mae: 0.0051 - val_mape: 51872.8023\n",
            "Epoch 103/200\n",
            "45000/45000 [==============================] - 4s 86us/step - loss: 0.0046 - mse: 2.2658e-05 - mae: 0.0039 - mape: 50173.3898 - val_loss: 0.0056 - val_mse: 3.1203e-05 - val_mae: 0.0047 - val_mape: 34077.7329\n",
            "Epoch 104/200\n",
            "45000/45000 [==============================] - 4s 86us/step - loss: 0.0046 - mse: 2.2136e-05 - mae: 0.0038 - mape: 28123.7107 - val_loss: 0.0056 - val_mse: 3.1265e-05 - val_mae: 0.0046 - val_mape: 18708.6812\n",
            "Epoch 105/200\n",
            "45000/45000 [==============================] - 4s 86us/step - loss: 0.0046 - mse: 2.2433e-05 - mae: 0.0039 - mape: 21412.4909 - val_loss: 0.0046 - val_mse: 2.0716e-05 - val_mae: 0.0038 - val_mape: 26833.0735\n",
            "Epoch 106/200\n",
            "45000/45000 [==============================] - 4s 86us/step - loss: 0.0046 - mse: 2.2443e-05 - mae: 0.0038 - mape: 25451.4649 - val_loss: 0.0058 - val_mse: 3.3647e-05 - val_mae: 0.0049 - val_mape: 11526.8501\n",
            "Epoch 107/200\n",
            "45000/45000 [==============================] - 4s 85us/step - loss: 0.0045 - mse: 2.2239e-05 - mae: 0.0038 - mape: 21617.6937 - val_loss: 0.0060 - val_mse: 3.5720e-05 - val_mae: 0.0048 - val_mape: 46517.5805\n",
            "Epoch 108/200\n",
            "45000/45000 [==============================] - 4s 86us/step - loss: 0.0045 - mse: 2.1639e-05 - mae: 0.0039 - mape: 51761.7741 - val_loss: 0.0055 - val_mse: 2.9879e-05 - val_mae: 0.0049 - val_mape: 77335.9144\n",
            "Epoch 109/200\n",
            "45000/45000 [==============================] - 4s 86us/step - loss: 0.0045 - mse: 2.1289e-05 - mae: 0.0038 - mape: 34619.4195 - val_loss: 0.0053 - val_mse: 2.8430e-05 - val_mae: 0.0045 - val_mape: 13954.0564\n",
            "Epoch 110/200\n",
            "45000/45000 [==============================] - 4s 86us/step - loss: 0.0045 - mse: 2.1706e-05 - mae: 0.0038 - mape: 18068.2243 - val_loss: 0.0047 - val_mse: 2.1741e-05 - val_mae: 0.0038 - val_mape: 9835.1509\n",
            "Epoch 111/200\n",
            "45000/45000 [==============================] - 4s 85us/step - loss: 0.0045 - mse: 2.1421e-05 - mae: 0.0038 - mape: 22165.4699 - val_loss: 0.0049 - val_mse: 2.3710e-05 - val_mae: 0.0042 - val_mape: 30751.5558\n",
            "Epoch 112/200\n",
            "45000/45000 [==============================] - 4s 86us/step - loss: 0.0045 - mse: 2.1223e-05 - mae: 0.0038 - mape: 18987.9166 - val_loss: 0.0046 - val_mse: 2.0776e-05 - val_mae: 0.0039 - val_mape: 66292.3941\n",
            "Epoch 113/200\n",
            "45000/45000 [==============================] - 4s 86us/step - loss: 0.0045 - mse: 2.1167e-05 - mae: 0.0038 - mape: 27028.6958 - val_loss: 0.0045 - val_mse: 2.0255e-05 - val_mae: 0.0038 - val_mape: 15306.0275\n",
            "Epoch 114/200\n",
            "45000/45000 [==============================] - 4s 87us/step - loss: 0.0045 - mse: 2.1484e-05 - mae: 0.0037 - mape: 25372.9131 - val_loss: 0.0049 - val_mse: 2.3941e-05 - val_mae: 0.0042 - val_mape: 27868.7504\n",
            "Epoch 115/200\n",
            "45000/45000 [==============================] - 4s 88us/step - loss: 0.0044 - mse: 2.0795e-05 - mae: 0.0037 - mape: 19706.1849 - val_loss: 0.0057 - val_mse: 3.2317e-05 - val_mae: 0.0049 - val_mape: 47055.6172\n",
            "Epoch 116/200\n",
            "45000/45000 [==============================] - 4s 87us/step - loss: 0.0045 - mse: 2.0775e-05 - mae: 0.0038 - mape: 32293.9419 - val_loss: 0.0038 - val_mse: 1.4083e-05 - val_mae: 0.0031 - val_mape: 12839.4359\n",
            "Epoch 117/200\n",
            "45000/45000 [==============================] - 4s 87us/step - loss: 0.0044 - mse: 2.1347e-05 - mae: 0.0037 - mape: 27674.2926 - val_loss: 0.0058 - val_mse: 3.3338e-05 - val_mae: 0.0049 - val_mape: 27312.8142\n",
            "Epoch 118/200\n",
            "45000/45000 [==============================] - 4s 86us/step - loss: 0.0044 - mse: 2.0904e-05 - mae: 0.0037 - mape: 22238.9199 - val_loss: 0.0044 - val_mse: 1.9395e-05 - val_mae: 0.0038 - val_mape: 30426.3779\n",
            "Epoch 119/200\n",
            "45000/45000 [==============================] - 4s 86us/step - loss: 0.0044 - mse: 2.1543e-05 - mae: 0.0037 - mape: 59610.7984 - val_loss: 0.0066 - val_mse: 4.3996e-05 - val_mae: 0.0056 - val_mape: 30311.4200\n",
            "Epoch 120/200\n",
            "45000/45000 [==============================] - 4s 87us/step - loss: 0.0045 - mse: 2.2553e-05 - mae: 0.0037 - mape: 33671.4036 - val_loss: 0.0053 - val_mse: 2.8539e-05 - val_mae: 0.0044 - val_mape: 54083.3900\n",
            "Epoch 121/200\n",
            "45000/45000 [==============================] - 4s 86us/step - loss: 0.0044 - mse: 2.0964e-05 - mae: 0.0037 - mape: 32837.0342 - val_loss: 0.0056 - val_mse: 3.1547e-05 - val_mae: 0.0047 - val_mape: 16902.6474\n",
            "Epoch 122/200\n",
            "45000/45000 [==============================] - 4s 86us/step - loss: 0.0044 - mse: 2.0435e-05 - mae: 0.0037 - mape: 29660.0008 - val_loss: 0.0052 - val_mse: 2.6942e-05 - val_mae: 0.0043 - val_mape: 26399.3157\n",
            "Epoch 123/200\n",
            "45000/45000 [==============================] - 4s 87us/step - loss: 0.0044 - mse: 2.0035e-05 - mae: 0.0037 - mape: 33457.7686 - val_loss: 0.0068 - val_mse: 4.6054e-05 - val_mae: 0.0056 - val_mape: 20136.9311\n",
            "Epoch 124/200\n",
            "45000/45000 [==============================] - 4s 86us/step - loss: 0.0044 - mse: 2.1762e-05 - mae: 0.0037 - mape: 18923.5808 - val_loss: 0.0057 - val_mse: 3.2295e-05 - val_mae: 0.0047 - val_mape: 28952.8170\n",
            "Epoch 125/200\n",
            "45000/45000 [==============================] - 4s 87us/step - loss: 0.0044 - mse: 2.0415e-05 - mae: 0.0037 - mape: 27795.4356 - val_loss: 0.0034 - val_mse: 1.1335e-05 - val_mae: 0.0028 - val_mape: 28583.9966\n",
            "Epoch 126/200\n",
            "45000/45000 [==============================] - 4s 86us/step - loss: 0.0042 - mse: 2.0735e-05 - mae: 0.0035 - mape: 35747.6423 - val_loss: 0.0058 - val_mse: 3.3999e-05 - val_mae: 0.0049 - val_mape: 67517.1130\n",
            "Epoch 127/200\n",
            "45000/45000 [==============================] - 4s 86us/step - loss: 0.0044 - mse: 2.1226e-05 - mae: 0.0037 - mape: 30190.9999 - val_loss: 0.0036 - val_mse: 1.2966e-05 - val_mae: 0.0029 - val_mape: 23510.4738\n",
            "Epoch 128/200\n",
            "45000/45000 [==============================] - 4s 86us/step - loss: 0.0043 - mse: 2.0727e-05 - mae: 0.0036 - mape: 30106.2567 - val_loss: 0.0046 - val_mse: 2.0960e-05 - val_mae: 0.0038 - val_mape: 13037.9745\n",
            "Epoch 129/200\n",
            "45000/45000 [==============================] - 4s 86us/step - loss: 0.0043 - mse: 2.1306e-05 - mae: 0.0036 - mape: 24569.2607 - val_loss: 0.0035 - val_mse: 1.2255e-05 - val_mae: 0.0031 - val_mape: 71388.6448\n",
            "Epoch 130/200\n",
            "45000/45000 [==============================] - 4s 86us/step - loss: 0.0043 - mse: 1.9991e-05 - mae: 0.0036 - mape: 32893.5222 - val_loss: 0.0058 - val_mse: 3.4005e-05 - val_mae: 0.0047 - val_mape: 8144.7486\n",
            "Epoch 131/200\n",
            "45000/45000 [==============================] - 4s 86us/step - loss: 0.0043 - mse: 1.9984e-05 - mae: 0.0037 - mape: 44674.0420 - val_loss: 0.0032 - val_mse: 1.0504e-05 - val_mae: 0.0026 - val_mape: 9238.4622\n",
            "Epoch 132/200\n",
            "45000/45000 [==============================] - 4s 87us/step - loss: 0.0042 - mse: 2.1011e-05 - mae: 0.0035 - mape: 28969.1541 - val_loss: 0.0030 - val_mse: 9.1545e-06 - val_mae: 0.0026 - val_mape: 57416.1217\n",
            "Epoch 133/200\n",
            "45000/45000 [==============================] - 4s 86us/step - loss: 0.0042 - mse: 1.9732e-05 - mae: 0.0035 - mape: 22699.4399 - val_loss: 0.0055 - val_mse: 2.9759e-05 - val_mae: 0.0045 - val_mape: 19786.3302\n",
            "Epoch 134/200\n",
            "45000/45000 [==============================] - 4s 86us/step - loss: 0.0043 - mse: 1.9788e-05 - mae: 0.0036 - mape: 24093.8598 - val_loss: 0.0056 - val_mse: 3.0823e-05 - val_mae: 0.0046 - val_mape: 12810.9912\n",
            "Epoch 135/200\n",
            "45000/45000 [==============================] - 4s 86us/step - loss: 0.0043 - mse: 1.9987e-05 - mae: 0.0036 - mape: 25535.7877 - val_loss: 0.0050 - val_mse: 2.5362e-05 - val_mae: 0.0042 - val_mape: 35220.5409\n",
            "Epoch 136/200\n",
            "45000/45000 [==============================] - 4s 87us/step - loss: 0.0042 - mse: 1.9846e-05 - mae: 0.0035 - mape: 30578.1258 - val_loss: 0.0071 - val_mse: 4.9871e-05 - val_mae: 0.0059 - val_mape: 12805.3516\n",
            "Epoch 137/200\n",
            "45000/45000 [==============================] - 4s 85us/step - loss: 0.0043 - mse: 2.1127e-05 - mae: 0.0036 - mape: 22073.8538 - val_loss: 0.0052 - val_mse: 2.6841e-05 - val_mae: 0.0043 - val_mape: 30239.5351\n",
            "Epoch 138/200\n",
            "45000/45000 [==============================] - 4s 86us/step - loss: 0.0042 - mse: 1.9236e-05 - mae: 0.0035 - mape: 25737.1323 - val_loss: 0.0054 - val_mse: 2.9612e-05 - val_mae: 0.0046 - val_mape: 31466.1674\n",
            "Epoch 139/200\n",
            "45000/45000 [==============================] - 4s 86us/step - loss: 0.0042 - mse: 1.9070e-05 - mae: 0.0036 - mape: 29920.9722 - val_loss: 0.0043 - val_mse: 1.8591e-05 - val_mae: 0.0037 - val_mape: 8784.3178\n",
            "Epoch 140/200\n",
            "45000/45000 [==============================] - 4s 87us/step - loss: 0.0042 - mse: 1.8589e-05 - mae: 0.0035 - mape: 18155.4665 - val_loss: 0.0053 - val_mse: 2.8620e-05 - val_mae: 0.0045 - val_mape: 34069.5492\n",
            "Epoch 141/200\n",
            "45000/45000 [==============================] - 4s 86us/step - loss: 0.0042 - mse: 1.9109e-05 - mae: 0.0035 - mape: 22723.1919 - val_loss: 0.0047 - val_mse: 2.1649e-05 - val_mae: 0.0039 - val_mape: 15797.0153\n",
            "Epoch 142/200\n",
            "45000/45000 [==============================] - 4s 86us/step - loss: 0.0042 - mse: 1.8612e-05 - mae: 0.0035 - mape: 25698.1184 - val_loss: 0.0053 - val_mse: 2.7600e-05 - val_mae: 0.0044 - val_mape: 8754.7927\n",
            "Epoch 143/200\n",
            "45000/45000 [==============================] - 4s 86us/step - loss: 0.0042 - mse: 1.8354e-05 - mae: 0.0035 - mape: 27471.0458 - val_loss: 0.0040 - val_mse: 1.5680e-05 - val_mae: 0.0034 - val_mape: 60331.4638\n",
            "Epoch 144/200\n",
            "45000/45000 [==============================] - 4s 86us/step - loss: 0.0042 - mse: 1.8695e-05 - mae: 0.0035 - mape: 28953.0617 - val_loss: 0.0032 - val_mse: 1.0073e-05 - val_mae: 0.0026 - val_mape: 16973.1736\n",
            "Epoch 145/200\n",
            "45000/45000 [==============================] - 4s 86us/step - loss: 0.0041 - mse: 2.1091e-05 - mae: 0.0035 - mape: 35648.2706 - val_loss: 0.0118 - val_mse: 1.3815e-04 - val_mae: 0.0097 - val_mape: 105804.6968\n",
            "Epoch 146/200\n",
            "45000/45000 [==============================] - 4s 86us/step - loss: 0.0054 - mse: 4.1634e-05 - mae: 0.0046 - mape: 52804.6503 - val_loss: 0.0037 - val_mse: 1.3984e-05 - val_mae: 0.0030 - val_mape: 28832.5239\n",
            "Epoch 147/200\n",
            "45000/45000 [==============================] - 4s 86us/step - loss: 0.0041 - mse: 1.7881e-05 - mae: 0.0035 - mape: 21125.5689 - val_loss: 0.0054 - val_mse: 2.9675e-05 - val_mae: 0.0046 - val_mape: 15479.2211\n",
            "Epoch 148/200\n",
            "45000/45000 [==============================] - 4s 86us/step - loss: 0.0042 - mse: 1.8436e-05 - mae: 0.0035 - mape: 31014.4549 - val_loss: 0.0047 - val_mse: 2.2202e-05 - val_mae: 0.0040 - val_mape: 7493.9280\n",
            "Epoch 149/200\n",
            "45000/45000 [==============================] - 4s 87us/step - loss: 0.0042 - mse: 1.8613e-05 - mae: 0.0035 - mape: 34807.1236 - val_loss: 0.0037 - val_mse: 1.3978e-05 - val_mae: 0.0032 - val_mape: 59189.7319\n",
            "Epoch 150/200\n",
            "45000/45000 [==============================] - 4s 86us/step - loss: 0.0041 - mse: 1.8272e-05 - mae: 0.0034 - mape: 38583.4952 - val_loss: 0.0042 - val_mse: 1.7663e-05 - val_mae: 0.0037 - val_mape: 100842.6652\n",
            "Epoch 151/200\n",
            "45000/45000 [==============================] - 4s 86us/step - loss: 0.0041 - mse: 1.8131e-05 - mae: 0.0034 - mape: 28277.8321 - val_loss: 0.0056 - val_mse: 3.1536e-05 - val_mae: 0.0047 - val_mape: 19355.1103\n",
            "Epoch 152/200\n",
            "45000/45000 [==============================] - 4s 86us/step - loss: 0.0041 - mse: 1.8389e-05 - mae: 0.0035 - mape: 17667.5088 - val_loss: 0.0057 - val_mse: 3.2953e-05 - val_mae: 0.0047 - val_mape: 22052.3884\n",
            "Epoch 153/200\n",
            "45000/45000 [==============================] - 4s 86us/step - loss: 0.0041 - mse: 1.8382e-05 - mae: 0.0034 - mape: 19335.2604 - val_loss: 0.0051 - val_mse: 2.5641e-05 - val_mae: 0.0042 - val_mape: 24369.6054\n",
            "Epoch 154/200\n",
            "45000/45000 [==============================] - 4s 86us/step - loss: 0.0041 - mse: 1.8241e-05 - mae: 0.0034 - mape: 20568.7011 - val_loss: 0.0044 - val_mse: 1.9047e-05 - val_mae: 0.0037 - val_mape: 7837.8101\n",
            "Epoch 155/200\n",
            "45000/45000 [==============================] - 4s 87us/step - loss: 0.0040 - mse: 1.9231e-05 - mae: 0.0033 - mape: 29081.5633 - val_loss: 0.0033 - val_mse: 1.0879e-05 - val_mae: 0.0026 - val_mape: 29897.3559\n",
            "Epoch 156/200\n",
            "45000/45000 [==============================] - 4s 86us/step - loss: 0.0040 - mse: 1.8146e-05 - mae: 0.0034 - mape: 31431.3334 - val_loss: 0.0043 - val_mse: 1.8351e-05 - val_mae: 0.0036 - val_mape: 30951.2734\n",
            "Epoch 157/200\n",
            "45000/45000 [==============================] - 4s 86us/step - loss: 0.0041 - mse: 1.7193e-05 - mae: 0.0034 - mape: 17806.4828 - val_loss: 0.0051 - val_mse: 2.6442e-05 - val_mae: 0.0044 - val_mape: 27713.2424\n",
            "Epoch 158/200\n",
            "45000/45000 [==============================] - 4s 86us/step - loss: 0.0041 - mse: 1.7698e-05 - mae: 0.0034 - mape: 18226.0025 - val_loss: 0.0052 - val_mse: 2.7084e-05 - val_mae: 0.0044 - val_mape: 14911.5338\n",
            "Epoch 159/200\n",
            "45000/45000 [==============================] - 4s 86us/step - loss: 0.0041 - mse: 1.7357e-05 - mae: 0.0034 - mape: 18378.9362 - val_loss: 0.0049 - val_mse: 2.3944e-05 - val_mae: 0.0040 - val_mape: 8712.7168\n",
            "Epoch 160/200\n",
            "45000/45000 [==============================] - 4s 86us/step - loss: 0.0041 - mse: 1.7667e-05 - mae: 0.0034 - mape: 16730.5081 - val_loss: 0.0044 - val_mse: 1.9791e-05 - val_mae: 0.0037 - val_mape: 33018.9450\n",
            "Epoch 161/200\n",
            "45000/45000 [==============================] - 4s 86us/step - loss: 0.0040 - mse: 1.7213e-05 - mae: 0.0034 - mape: 18241.1225 - val_loss: 0.0052 - val_mse: 2.6549e-05 - val_mae: 0.0043 - val_mape: 12497.2201\n",
            "Epoch 162/200\n",
            "45000/45000 [==============================] - 4s 86us/step - loss: 0.0041 - mse: 1.7407e-05 - mae: 0.0034 - mape: 14028.8572 - val_loss: 0.0029 - val_mse: 8.6049e-06 - val_mae: 0.0024 - val_mape: 14694.0495\n",
            "Epoch 163/200\n",
            "45000/45000 [==============================] - 4s 86us/step - loss: 0.0040 - mse: 1.7073e-05 - mae: 0.0033 - mape: 21649.2013 - val_loss: 0.0044 - val_mse: 1.9144e-05 - val_mae: 0.0037 - val_mape: 8319.1715\n",
            "Epoch 164/200\n",
            "45000/45000 [==============================] - 4s 86us/step - loss: 0.0040 - mse: 1.6627e-05 - mae: 0.0033 - mape: 20987.0341 - val_loss: 0.0054 - val_mse: 2.9009e-05 - val_mae: 0.0045 - val_mape: 49200.7599\n",
            "Epoch 165/200\n",
            "45000/45000 [==============================] - 4s 86us/step - loss: 0.0040 - mse: 1.7267e-05 - mae: 0.0034 - mape: 36075.4657 - val_loss: 0.0032 - val_mse: 1.0429e-05 - val_mae: 0.0026 - val_mape: 46176.9983\n",
            "Epoch 166/200\n",
            "45000/45000 [==============================] - 4s 86us/step - loss: 0.0040 - mse: 1.6849e-05 - mae: 0.0033 - mape: 35901.0584 - val_loss: 0.0066 - val_mse: 4.3333e-05 - val_mae: 0.0055 - val_mape: 6883.9240\n",
            "Epoch 167/200\n",
            "45000/45000 [==============================] - 4s 86us/step - loss: 0.0064 - mse: 5.2914e-05 - mae: 0.0054 - mape: 45497.2941 - val_loss: 0.0083 - val_mse: 6.8086e-05 - val_mae: 0.0071 - val_mape: 111655.2765\n",
            "Epoch 168/200\n",
            "45000/45000 [==============================] - 4s 85us/step - loss: 0.0043 - mse: 2.3102e-05 - mae: 0.0036 - mape: 28203.4372 - val_loss: 0.0052 - val_mse: 2.6660e-05 - val_mae: 0.0043 - val_mape: 18797.6255\n",
            "Epoch 169/200\n",
            "45000/45000 [==============================] - 4s 86us/step - loss: 0.0040 - mse: 1.6661e-05 - mae: 0.0033 - mape: 22221.4761 - val_loss: 0.0046 - val_mse: 2.1015e-05 - val_mae: 0.0037 - val_mape: 20780.6913\n",
            "Epoch 170/200\n",
            "45000/45000 [==============================] - 4s 86us/step - loss: 0.0040 - mse: 1.6617e-05 - mae: 0.0033 - mape: 22761.9883 - val_loss: 0.0045 - val_mse: 1.9863e-05 - val_mae: 0.0036 - val_mape: 10786.9410\n",
            "Epoch 171/200\n",
            "45000/45000 [==============================] - 4s 87us/step - loss: 0.0039 - mse: 1.6963e-05 - mae: 0.0033 - mape: 22723.2397 - val_loss: 0.0045 - val_mse: 2.0261e-05 - val_mae: 0.0038 - val_mape: 21057.5125\n",
            "Epoch 172/200\n",
            "45000/45000 [==============================] - 4s 86us/step - loss: 0.0039 - mse: 1.6748e-05 - mae: 0.0033 - mape: 21994.6889 - val_loss: 0.0045 - val_mse: 2.0323e-05 - val_mae: 0.0037 - val_mape: 7272.9875\n",
            "Epoch 173/200\n",
            "45000/45000 [==============================] - 4s 86us/step - loss: 0.0039 - mse: 1.6268e-05 - mae: 0.0033 - mape: 22876.7599 - val_loss: 0.0026 - val_mse: 6.6138e-06 - val_mae: 0.0021 - val_mape: 13997.0789\n",
            "Epoch 174/200\n",
            "45000/45000 [==============================] - 4s 86us/step - loss: 0.0039 - mse: 1.6150e-05 - mae: 0.0032 - mape: 16504.2942 - val_loss: 0.0022 - val_mse: 4.8020e-06 - val_mae: 0.0019 - val_mape: 12408.2436\n",
            "Epoch 175/200\n",
            "45000/45000 [==============================] - 4s 86us/step - loss: 0.0039 - mse: 1.6247e-05 - mae: 0.0033 - mape: 23169.6965 - val_loss: 0.0028 - val_mse: 7.8860e-06 - val_mae: 0.0024 - val_mape: 16001.2880\n",
            "Epoch 176/200\n",
            "45000/45000 [==============================] - 4s 85us/step - loss: 0.0039 - mse: 1.6459e-05 - mae: 0.0032 - mape: 16305.1422 - val_loss: 0.0032 - val_mse: 1.0169e-05 - val_mae: 0.0028 - val_mape: 37762.5285\n",
            "Epoch 177/200\n",
            "45000/45000 [==============================] - 4s 86us/step - loss: 0.0039 - mse: 1.6286e-05 - mae: 0.0032 - mape: 21007.7876 - val_loss: 0.0055 - val_mse: 3.0511e-05 - val_mae: 0.0045 - val_mape: 29256.7059\n",
            "Epoch 178/200\n",
            "45000/45000 [==============================] - 4s 86us/step - loss: 0.0039 - mse: 1.6542e-05 - mae: 0.0033 - mape: 21859.8182 - val_loss: 0.0027 - val_mse: 7.0690e-06 - val_mae: 0.0023 - val_mape: 9773.0759\n",
            "Epoch 179/200\n",
            "45000/45000 [==============================] - 4s 86us/step - loss: 0.0038 - mse: 1.5735e-05 - mae: 0.0032 - mape: 20924.0435 - val_loss: 0.0052 - val_mse: 2.7026e-05 - val_mae: 0.0044 - val_mape: 16097.9457\n",
            "Epoch 180/200\n",
            "45000/45000 [==============================] - 4s 87us/step - loss: 0.0039 - mse: 1.6207e-05 - mae: 0.0033 - mape: 34335.3530 - val_loss: 0.0027 - val_mse: 7.1351e-06 - val_mae: 0.0023 - val_mape: 15798.7595\n",
            "Epoch 181/200\n",
            "45000/45000 [==============================] - 4s 87us/step - loss: 0.0038 - mse: 1.5483e-05 - mae: 0.0032 - mape: 19562.9506 - val_loss: 0.0043 - val_mse: 1.8266e-05 - val_mae: 0.0037 - val_mape: 25110.3222\n",
            "Epoch 182/200\n",
            "45000/45000 [==============================] - 4s 87us/step - loss: 0.0039 - mse: 1.5659e-05 - mae: 0.0032 - mape: 13918.7406 - val_loss: 0.0030 - val_mse: 8.7514e-06 - val_mae: 0.0026 - val_mape: 29054.5808\n",
            "Epoch 183/200\n",
            "45000/45000 [==============================] - 4s 86us/step - loss: 0.0039 - mse: 1.5405e-05 - mae: 0.0032 - mape: 18982.9783 - val_loss: 0.0034 - val_mse: 1.1462e-05 - val_mae: 0.0028 - val_mape: 6615.9414\n",
            "Epoch 184/200\n",
            "45000/45000 [==============================] - 4s 86us/step - loss: 0.0038 - mse: 1.5914e-05 - mae: 0.0032 - mape: 18321.0793 - val_loss: 0.0048 - val_mse: 2.2977e-05 - val_mae: 0.0040 - val_mape: 32220.2245\n",
            "Epoch 185/200\n",
            "45000/45000 [==============================] - 4s 86us/step - loss: 0.0038 - mse: 1.6132e-05 - mae: 0.0032 - mape: 13920.3156 - val_loss: 0.0038 - val_mse: 1.4340e-05 - val_mae: 0.0030 - val_mape: 9934.1966\n",
            "Epoch 186/200\n",
            "45000/45000 [==============================] - 4s 86us/step - loss: 0.0038 - mse: 1.5146e-05 - mae: 0.0032 - mape: 29349.1615 - val_loss: 0.0050 - val_mse: 2.4553e-05 - val_mae: 0.0041 - val_mape: 10021.9630\n",
            "Epoch 187/200\n",
            "45000/45000 [==============================] - 4s 86us/step - loss: 0.0038 - mse: 1.6379e-05 - mae: 0.0031 - mape: 18602.6183 - val_loss: 0.0053 - val_mse: 2.7975e-05 - val_mae: 0.0042 - val_mape: 12912.6335\n",
            "Epoch 188/200\n",
            "45000/45000 [==============================] - 4s 86us/step - loss: 0.0039 - mse: 1.9970e-05 - mae: 0.0033 - mape: 51857.7627 - val_loss: 0.0035 - val_mse: 1.2554e-05 - val_mae: 0.0027 - val_mape: 23634.7293\n",
            "Epoch 189/200\n",
            "45000/45000 [==============================] - 4s 85us/step - loss: 0.0038 - mse: 1.5775e-05 - mae: 0.0032 - mape: 27147.1384 - val_loss: 0.0043 - val_mse: 1.8776e-05 - val_mae: 0.0036 - val_mape: 32231.6902\n",
            "Epoch 190/200\n",
            "45000/45000 [==============================] - 4s 86us/step - loss: 0.0038 - mse: 1.5512e-05 - mae: 0.0032 - mape: 18691.4721 - val_loss: 0.0024 - val_mse: 5.9828e-06 - val_mae: 0.0019 - val_mape: 6980.8662\n",
            "Epoch 191/200\n",
            "45000/45000 [==============================] - 4s 86us/step - loss: 0.0038 - mse: 1.5748e-05 - mae: 0.0032 - mape: 12321.1704 - val_loss: 0.0036 - val_mse: 1.2638e-05 - val_mae: 0.0029 - val_mape: 14478.6784\n",
            "Epoch 192/200\n",
            "45000/45000 [==============================] - 4s 86us/step - loss: 0.0038 - mse: 1.5262e-05 - mae: 0.0031 - mape: 17542.9752 - val_loss: 0.0046 - val_mse: 2.0885e-05 - val_mae: 0.0039 - val_mape: 42213.9890\n",
            "Epoch 193/200\n",
            "45000/45000 [==============================] - 4s 87us/step - loss: 0.0038 - mse: 1.5568e-05 - mae: 0.0031 - mape: 21632.0018 - val_loss: 0.0038 - val_mse: 1.4479e-05 - val_mae: 0.0034 - val_mape: 25080.2828\n",
            "Epoch 194/200\n",
            "45000/45000 [==============================] - 4s 87us/step - loss: 0.0038 - mse: 1.5281e-05 - mae: 0.0032 - mape: 14431.2395 - val_loss: 0.0028 - val_mse: 7.8388e-06 - val_mae: 0.0024 - val_mape: 10724.2061\n",
            "Epoch 195/200\n",
            "45000/45000 [==============================] - 4s 86us/step - loss: 0.0038 - mse: 1.5456e-05 - mae: 0.0032 - mape: 16688.3259 - val_loss: 0.0030 - val_mse: 8.8199e-06 - val_mae: 0.0025 - val_mape: 12731.8437\n",
            "Epoch 196/200\n",
            "45000/45000 [==============================] - 4s 86us/step - loss: 0.0038 - mse: 1.5674e-05 - mae: 0.0032 - mape: 19501.1821 - val_loss: 0.0027 - val_mse: 7.4899e-06 - val_mae: 0.0023 - val_mape: 7697.7300\n",
            "Epoch 197/200\n",
            "45000/45000 [==============================] - 4s 86us/step - loss: 0.0038 - mse: 1.5658e-05 - mae: 0.0032 - mape: 14920.6920 - val_loss: 0.0010 - val_mse: 1.0558e-06 - val_mae: 7.7405e-04 - val_mape: 6596.5111\n",
            "Epoch 198/200\n",
            "45000/45000 [==============================] - 4s 87us/step - loss: 0.0038 - mse: 1.5472e-05 - mae: 0.0031 - mape: 13030.7056 - val_loss: 0.0030 - val_mse: 8.7605e-06 - val_mae: 0.0025 - val_mape: 10395.7077\n",
            "Epoch 199/200\n",
            "45000/45000 [==============================] - 4s 86us/step - loss: 0.0038 - mse: 1.5754e-05 - mae: 0.0031 - mape: 17117.9971 - val_loss: 0.0029 - val_mse: 8.5408e-06 - val_mae: 0.0026 - val_mape: 29102.8433\n",
            "Epoch 200/200\n",
            "45000/45000 [==============================] - 4s 86us/step - loss: 0.0037 - mse: 1.5067e-05 - mae: 0.0031 - mape: 14531.8251 - val_loss: 0.0040 - val_mse: 1.6281e-05 - val_mae: 0.0034 - val_mape: 9301.0896\n"
          ],
          "name": "stdout"
        }
      ]
    },
    {
      "cell_type": "code",
      "metadata": {
        "id": "yuol-VvgtN-r"
      },
      "source": [
        "IVpred=modelBS_IV.predict(X2_test)"
      ],
      "execution_count": null,
      "outputs": []
    },
    {
      "cell_type": "code",
      "metadata": {
        "id": "bWk9Ydl5tfyr",
        "colab": {
          "base_uri": "https://localhost:8080/",
          "height": 133
        },
        "outputId": "d4c66884-623a-47a2-ce85-63670ea98638"
      },
      "source": [
        "IVpred"
      ],
      "execution_count": null,
      "outputs": [
        {
          "output_type": "execute_result",
          "data": {
            "text/plain": [
              "array([[ 7.55883697e-01],\n",
              "       [-7.40646806e-05],\n",
              "       [ 3.91587307e-02],\n",
              "       ...,\n",
              "       [ 7.49056487e-01],\n",
              "       [ 2.80884692e-02],\n",
              "       [ 4.40432045e-03]])"
            ]
          },
          "metadata": {
            "tags": []
          },
          "execution_count": 33
        }
      ]
    },
    {
      "cell_type": "code",
      "metadata": {
        "id": "ycpEz0uFB2mI",
        "colab": {
          "base_uri": "https://localhost:8080/",
          "height": 281
        },
        "outputId": "a43844f4-f3d8-4979-d993-10c945c7f938"
      },
      "source": [
        "from pandas import DataFrame\n",
        "import matplotlib.pyplot as plt\n",
        "handles, labels = ax.get_legend_handles_labels()\n",
        "ax.legend(handles, labels)\n",
        "p1, =plt.plot(historyiv.history['mse'],label=\"MSE\")\n",
        "p2, =plt.plot(historyiv.history['mae'],label=\"MAE\")\n",
        "p3, =plt.plot(historyiv.history['loss'],label=\"RMSE\")\n",
        "plt.legend(handles=[p1, p2, p3], labels=['MSE', 'MAE', 'RMSE'])\n",
        "plt.title('historique des erreurs pour le modèle de Black Scholes')\n",
        "plt.show()"
      ],
      "execution_count": null,
      "outputs": [
        {
          "output_type": "display_data",
          "data": {
            "image/png": "[encoded data removed]",
            "text/plain": [
              "<Figure size 432x288 with 1 Axes>"
            ]
          },
          "metadata": {
            "tags": [],
            "needs_background": "light"
          }
        }
      ]
    },
    {
      "cell_type": "code",
      "metadata": {
        "id": "jnnMCnQBB8Vo",
        "colab": {
          "base_uri": "https://localhost:8080/",
          "height": 166
        },
        "outputId": "d8890138-5088-49e4-e75b-ae5bb6e8c635"
      },
      "source": [
        "from pandas import DataFrame\n",
        "residualsiv =np.zeros(len(Ypred))\n",
        "Yval2=Y2_test.values\n",
        "for i in range(len(Ypred)):\n",
        "  residualsiv[i]= Yval2[i]-Ypred[i,0] \n",
        "\n",
        "residualsiv = DataFrame(residualsiv)\n",
        "print(residualsiv.describe())"
      ],
      "execution_count": null,
      "outputs": [
        {
          "output_type": "stream",
          "text": [
            "                 0\n",
            "count  5000.000000\n",
            "mean     -0.003077\n",
            "std       0.002617\n",
            "min      -0.009157\n",
            "25%      -0.005338\n",
            "50%      -0.003187\n",
            "75%      -0.000605\n",
            "max       0.002976\n"
          ],
          "name": "stdout"
        }
      ]
    },
    {
      "cell_type": "code",
      "metadata": {
        "id": "X7C23rsTMv4l",
        "colab": {
          "base_uri": "https://localhost:8080/",
          "height": 528
        },
        "outputId": "6b6e65a7-cf62-45cc-a187-94e4c261c4d9"
      },
      "source": [
        " import matplotlib.pyplot as plt\n",
        "# histogram plot\n",
        "residualsbs.hist()\n",
        "plt.title('Distribution de l''erreur')\n",
        "\n",
        "# density plot\n",
        "residualsbs.plot(kind='kde')\n",
        "plt.show()"
      ],
      "execution_count": null,
      "outputs": [
        {
          "output_type": "display_data",
          "data": {
            "image/png": "[encoded data removed]",
            "text/plain": [
              "<Figure size 432x288 with 1 Axes>"
            ]
          },
          "metadata": {
            "tags": [],
            "needs_background": "light"
          }
        },
        {
          "output_type": "display_data",
          "data": {
            "image/png": "[encoded data removed]",
            "text/plain": [
              "<Figure size 432x288 with 1 Axes>"
            ]
          },
          "metadata": {
            "tags": [],
            "needs_background": "light"
          }
        }
      ]
    },
    {
      "cell_type": "markdown",
      "metadata": {
        "id": "KLMFbSZllpKv"
      },
      "source": [
        "# Estimation du prix par le modèle de Heston"
      ]
    },
    {
      "cell_type": "markdown",
      "metadata": {
        "id": "OvvODPAUP0tp"
      },
      "source": [
        "## Méthode de Fourier "
      ]
    },
    {
      "cell_type": "code",
      "metadata": {
        "id": "bNiR5zELlpKv"
      },
      "source": [
        "import numpy as np\n",
        "import scipy \n",
        "from numpy import meshgrid, sqrt, diff\n",
        "from scipy import inf, pi, exp, linspace, zeros, real, imag, array, log\n",
        "from scipy.stats import norm\n",
        "from scipy.integrate import quad\n",
        "import scipy.special as special\n",
        "#from scipy.integrate import simps\n",
        "import scipy.integrate as integrate\n"
      ],
      "execution_count": null,
      "outputs": []
    },
    {
      "cell_type": "code",
      "metadata": {
        "id": "8MCrvV_AlpKy",
        "colab": {
          "base_uri": "https://localhost:8080/",
          "height": 33
        },
        "outputId": "1614d22c-556f-4ac4-bd9b-7b1d0798b8bd"
      },
      "source": [
        "def heston_phi(u,k,teta,sigma,ro,v0,s0,r,t):\n",
        "\n",
        "    j=complex(0,1)\n",
        "    gama=np.sqrt(sigma**2*(u**2 +j*u) + (k-j*ro*sigma*u)**2)\n",
        "    a=np.exp(j*u*np.log(s0)+j*u*r*t+(k*teta*t*(k-j*ro*sigma*u)/sigma**2))\n",
        "    b=(np.cosh(gama*t/2)+((k-j*ro*sigma*u)*np.sinh(gama*t/2)/gama) )**(2*k*teta/(sigma**2))\n",
        "    c=np.exp(-(u**2+j*u)*v0/(gama*((1/np.tanh(gama*t/2)))+k-j*ro*sigma*u))\n",
        "    return((a*c)/b)\n",
        "    \n",
        "b=heston_phi(2,2,0.04,0.5,-0.7,0.04,100,0.03,0.5)\n",
        "\n",
        "def C(k,teta,sigma,ro,v0,s0,r,t,sup,K):\n",
        "    #mu = np.arange(0,sup,0.1)\n",
        "    j=complex(0,1)\n",
        "    f=lambda  mu: np.real(heston_phi(mu-2*j,k,teta,sigma,ro,v0,s0,r,t)*np.exp(-j*mu*np.log(K))/((1+j*mu)*(2+j*mu)))\n",
        "    #f=heston_phi(mu-2*j,k,teta,sigma,ro,v0,s0,r,t)*np.exp(-j*mu*np.log(K))/((1+j*mu)*(2+j*mu))\n",
        "    y=integrate.quad(f,0,100)\n",
        "    x=y[0]*np.exp(-r*t-np.log(K))/np.pi\n",
        "    return(x)\n",
        "    \n",
        "a=C(2,0.04,0.5,-0.7,0.04,100,0.03,0.5,100,90)\n",
        "a\n",
        " "
      ],
      "execution_count": null,
      "outputs": [
        {
          "output_type": "execute_result",
          "data": {
            "text/plain": [
              "13.202281465908618"
            ]
          },
          "metadata": {
            "tags": []
          },
          "execution_count": 89
        }
      ]
    },
    {
      "cell_type": "markdown",
      "metadata": {
        "id": "LQDwx7yWLizL"
      },
      "source": [
        "### Courbe de volatilité implicite en fonction de la moneyness"
      ]
    },
    {
      "cell_type": "code",
      "metadata": {
        "id": "hrW2VmrxLgmG"
      },
      "source": [
        "%matplotlib inline\n",
        "import numpy as np\n",
        "import random as rd  \n",
        "import matplotlib.pyplot as plt\n",
        "n=1000\n",
        "K=np.zeros(n)\n",
        "k=np.zeros(n)\n",
        "IV=np.zeros(n)\n",
        "C1=np.zeros(n)\n",
        "#v=black_scholes_call_div(S, K, T, r,  sigma)\n",
        "#sigma1=newton(g,gp,x0,0.001,1000,S,K,T,r,sigma,v)\n",
        "#secantmethod (f,x0,x1,max_iter,tolerance,S,K,T,r,sigma,v):\n",
        "K=np.linspace(80,300,num=n, endpoint=True)\n",
        "for i in range(n):\n",
        "    \n",
        "    #k[i]=np.log(100/K[i])\n",
        "    C1[i]= C(2,0.04,0.5,-0.7,0.04,100,0.03,0.5,100,K[i])\n",
        "    #def secantmethod (f,x0,x1,max_iter,tolerance,S,K,T,r,sigma,v):\n",
        "    #brents(f,x0,x1,max_iter,tolerance,S,K,T,r,sigma,v):\n",
        "    IV[i]=brents(g,0.05,1,100,0.0000001,100,K[i],1,0.03,0.5,C1[i])[0]\n",
        "fig = plt.figure(figsize=(10,7))\n",
        "ax1 = fig.add_subplot(111)\n",
        "# cacher les cadres : haut et droit\n",
        "ax1.spines['right'].set_visible(False)\n",
        "ax1.spines['top'].set_visible(False)\n",
        "\n",
        "ax1.xaxis.set_ticks_position('bottom')\n",
        "ax1.set_xlabel('moneyness')\n",
        "ax1.set_ylabel('Volatilité implicite')\n",
        "plt.plot(np.log(K/100),IV)\n",
        "\n",
        "plt.show()"
      ],
      "execution_count": null,
      "outputs": []
    },
    {
      "cell_type": "markdown",
      "metadata": {
        "id": "DJLulQ8iqIb3"
      },
      "source": [
        "## Méthode de Monte-Carlo"
      ]
    },
    {
      "cell_type": "code",
      "metadata": {
        "id": "Dzm_iTw8lpK1",
        "colab": {
          "base_uri": "https://localhost:8080/",
          "height": 50
        },
        "outputId": "e0077666-8060-406c-ae96-5951dd445ee7"
      },
      "source": [
        "import numpy as np\n",
        "def heston(x,v,T,L,kappa,teta,sigma,r,rho):\n",
        "    MU  = np.array([0, 0])\n",
        "    COV = np.matrix([[1, rho], [rho, 1]])\n",
        "    W   = np.random.multivariate_normal(MU, COV, L)\n",
        "    W_1 = W[:,0]\n",
        "    W_2 = W[:,1]\n",
        "    for i in range(1,L):\n",
        "        x=x+(r-v/2)*(T/L)+np.sqrt(max(0,v))*np.sqrt(T/L)* W_1[i-1]\n",
        "        v=v+kappa*(teta-v)*(T/L)+sigma*np.sqrt(max(0,v))*np.sqrt(T/L)*W_2[i-1]\n",
        "    return(v,x)\n",
        "y=heston(4.6,0.04,0.5,100,2,0.04,0.5,0.03,-0.7)\n",
        "print(y[0])\n",
        "print(y[1])"
      ],
      "execution_count": null,
      "outputs": [
        {
          "output_type": "stream",
          "text": [
            "0.09274392074848044\n",
            "4.859862479815202\n"
          ],
          "name": "stdout"
        }
      ]
    },
    {
      "cell_type": "code",
      "metadata": {
        "id": "5Zv4X2yRrkAa",
        "colab": {
          "base_uri": "https://localhost:8080/",
          "height": 33
        },
        "outputId": "42958c49-d9b7-4e33-93af-adeffaebf5fe"
      },
      "source": [
        "from pylab import *\n",
        "from mpl_toolkits.mplot3d import Axes3D\n",
        "import numpy as np\n",
        "import random as rd\n",
        "def f(x,k):\n",
        "    return(max(np.exp(x)-k,0))\n",
        "def monte_carlo(T,L,kappa,teta,sigma,r,rho,K,N):\n",
        "    s=0\n",
        "    for i in range(N):\n",
        "        s=s+f(heston(np.log(100),0.04,T,L,kappa,teta,sigma,r,rho)[1],K)\n",
        "    return(np.exp(-r*T)*s/N)\n",
        "c=monte_carlo(0.5,100,2,0.04,0.5,0.03,-0.7,90,1000)\n",
        "print(c)\n"
      ],
      "execution_count": null,
      "outputs": [
        {
          "output_type": "stream",
          "text": [
            "13.479214014731527\n"
          ],
          "name": "stdout"
        }
      ]
    },
    {
      "cell_type": "markdown",
      "metadata": {
        "id": "Pzi19vJXI6De"
      },
      "source": [
        "### Courbe de volatilité implicite en fonction de la moneyness"
      ]
    },
    {
      "cell_type": "code",
      "metadata": {
        "id": "kg_kdqeQtXF4"
      },
      "source": [
        "%matplotlib inline\n",
        "import numpy as np\n",
        "import random as rd  \n",
        "import matplotlib.pyplot as plt\n",
        "n=1000\n",
        "K=np.zeros(n)\n",
        "k=np.zeros(n)\n",
        "IV=np.zeros(n)\n",
        "Call=np.zeros(n)\n",
        "#v=black_scholes_call_div(S, K, T, r,  sigma)\n",
        "#sigma1=newton(g,gp,x0,0.001,1000,S,K,T,r,sigma,v)\n",
        "#secantmethod (f,x0,x1,max_iter,tolerance,S,K,T,r,sigma,v):\n",
        "K=np.linspace(80,300,num=n, endpoint=True)\n",
        "for i in range(n):\n",
        "    \n",
        "    #k[i]=np.log(100/K[i])\n",
        "    Call[i]=monte_carlo(0.5,100,2,0.04,0.5,0.03,-0.7,K[i],10000)\n",
        "    #def secantmethod (f,x0,x1,max_iter,tolerance,S,K,T,r,sigma,v):\n",
        "    #brents(f,x0,x1,max_iter,tolerance,S,K,T,r,sigma,v):\n",
        "    IV[i]=brents(g,0.05,1,100,0.0000001,100,K[i],1,0.03,0.5,Call[i])[0]\n",
        "fig = plt.figure(figsize=(10,7))\n",
        "ax1 = fig.add_subplot(111)\n",
        "# cacher les cadres : haut et droit\n",
        "ax1.spines['right'].set_visible(False)\n",
        "ax1.spines['top'].set_visible(False)\n",
        "\n",
        "ax1.xaxis.set_ticks_position('bottom')\n",
        "ax1.set_xlabel('moneyness')\n",
        "ax1.set_ylabel('Volatilité implicite')\n",
        "plt.plot(np.log(K/100),IV)\n",
        "\n",
        "plt.show()\n"
      ],
      "execution_count": null,
      "outputs": []
    },
    {
      "cell_type": "markdown",
      "metadata": {
        "id": "YKNIC1qLWlH5"
      },
      "source": [
        "#### Lissage de la courbe de la volatilité implicite en fonction de la moneyness"
      ]
    },
    {
      "cell_type": "code",
      "metadata": {
        "id": "TGjI_p-ITm8t"
      },
      "source": [
        "from statsmodels.nonparametric.kernel_regression import KernelReg\n",
        "import numpy as np\n",
        "import matplotlib.pyplot as plt\n",
        "n=100\n",
        "K=np.zeros(n)\n",
        "k=np.zeros(n)\n",
        "IV=np.zeros(n)\n",
        "Call=np.zeros(n)\n",
        "#v=black_scholes_call_div(S, K, T, r,  sigma)\n",
        "#sigma1=newton(g,gp,x0,0.001,1000,S,K,T,r,sigma,v)\n",
        "#secantmethod (f,x0,x1,max_iter,tolerance,S,K,T,r,sigma,v):\n",
        "K=np.linspace(80,150,num=n, endpoint=True)\n",
        "N=1000\n",
        "for i in range(N):\n",
        "    \n",
        "    #k[i]=np.log(100/K[i])\n",
        "    Call[i]=monte_carlo(0.5,100,2,0.04,0.5,0.03,-0.7,K[i],1000)\n",
        "    #def secantmethod (f,x0,x1,max_iter,tolerance,S,K,T,r,sigma,v):\n",
        "    #brents(f,x0,x1,max_iter,tolerance,S,K,T,r,sigma,v):\n",
        "    IV[i]=brents(g,0.05,1,100,0.0000001,100,K[i],1,0.03,0.5,Call[i])[0]\n",
        "x,y=K,IV\n",
        "# The third parameter specifies the type of the variable x;\n",
        "# \"c\" stands for continuous\n",
        "kr = KernelReg(y,x,\"c\")\n",
        "plt.plot(x, y)\n",
        "y_pred, y_std = kr.fit(x)\n",
        "plt.plot(x, y_pred)\n",
        "plt.show()"
      ],
      "execution_count": null,
      "outputs": []
    },
    {
      "cell_type": "markdown",
      "metadata": {
        "id": "6xlWkkNHIrh-"
      },
      "source": [
        "## Création de la base donnée"
      ]
    },
    {
      "cell_type": "markdown",
      "metadata": {
        "id": "-o0BAx2WNPHS"
      },
      "source": [
        "### output price "
      ]
    },
    {
      "cell_type": "code",
      "metadata": {
        "id": "luZLMut7I07R"
      },
      "source": [
        "import numpy as np\n",
        "import random as rd\n",
        "n=50000\n",
        "K=90\n",
        "k=2\n",
        "teta=0.04\n",
        "sigma=0.5\n",
        "ro=-0.7\n",
        "v0=0.04\n",
        "s0=100\n",
        "Call_price=np.zeros(n)\n",
        "Stock_price=np.zeros(n)\n",
        "Time_to_maturity=np.zeros(n)\n",
        "Risk_free_rate=np.zeros(n)\n",
        "#sigma_imp=np.zeros(n)\n",
        "\n",
        "for i in range(n):\n",
        "  Stock_price[i]=rd.uniform(0.5, 1.4)\n",
        "  Time_to_maturity[i]=rd.uniform(0.05, 1)\n",
        "  Risk_free_rate[i]=rd.uniform(0.0, 0.1)\n",
        "  #sigma_imp[i]=rd.uniform(0.01, 1)\n",
        "  S=Stock_price[i]\n",
        "  T=Time_to_maturity[i]\n",
        "  R=Risk_free_rate[i]\n",
        "  #sigma=sigma_imp[i]\n",
        "  #V=C*K\n",
        "  Call_price[i]= C(k,teta,sigma,ro,v0,s0,R,T,1000,K)\n",
        "  \n"
      ],
      "execution_count": null,
      "outputs": []
    },
    {
      "cell_type": "code",
      "metadata": {
        "id": "XT7bJdXvQQhv",
        "colab": {
          "base_uri": "https://localhost:8080/",
          "height": 197
        },
        "outputId": "705fc022-8ae9-41ca-ec39-708ad717c8f1"
      },
      "source": [
        "import pandas as pd \n",
        "from sklearn.linear_model import LinearRegression\n",
        "L=[Stock_price,Time_to_maturity,Risk_free_rate,Call_price]\n",
        "df_price=pd.DataFrame(L)\n",
        "df_price=df_price.transpose()\n",
        "df_price.columns=['Stock price','Time to maturity','Risk free rate','Call price']\n",
        "df_price.tail()\n"
      ],
      "execution_count": null,
      "outputs": [
        {
          "output_type": "execute_result",
          "data": {
            "text/html": [
              "<div>\n",
              "<style scoped>\n",
              "    .dataframe tbody tr th:only-of-type {\n",
              "        vertical-align: middle;\n",
              "    }\n",
              "\n",
              "    .dataframe tbody tr th {\n",
              "        vertical-align: top;\n",
              "    }\n",
              "\n",
              "    .dataframe thead th {\n",
              "        text-align: right;\n",
              "    }\n",
              "</style>\n",
              "<table border=\"1\" class=\"dataframe\">\n",
              "  <thead>\n",
              "    <tr style=\"text-align: right;\">\n",
              "      <th></th>\n",
              "      <th>Stock price</th>\n",
              "      <th>Time to maturity</th>\n",
              "      <th>Risk free rate</th>\n",
              "      <th>Call price</th>\n",
              "    </tr>\n",
              "  </thead>\n",
              "  <tbody>\n",
              "    <tr>\n",
              "      <th>49995</th>\n",
              "      <td>0.566665</td>\n",
              "      <td>0.825692</td>\n",
              "      <td>0.011463</td>\n",
              "      <td>13.876339</td>\n",
              "    </tr>\n",
              "    <tr>\n",
              "      <th>49996</th>\n",
              "      <td>0.658514</td>\n",
              "      <td>0.556173</td>\n",
              "      <td>0.092773</td>\n",
              "      <td>16.056530</td>\n",
              "    </tr>\n",
              "    <tr>\n",
              "      <th>49997</th>\n",
              "      <td>1.134942</td>\n",
              "      <td>0.223172</td>\n",
              "      <td>0.098120</td>\n",
              "      <td>12.609052</td>\n",
              "    </tr>\n",
              "    <tr>\n",
              "      <th>49998</th>\n",
              "      <td>0.712170</td>\n",
              "      <td>0.291995</td>\n",
              "      <td>0.012600</td>\n",
              "      <td>11.513543</td>\n",
              "    </tr>\n",
              "    <tr>\n",
              "      <th>49999</th>\n",
              "      <td>1.270616</td>\n",
              "      <td>0.978762</td>\n",
              "      <td>0.037534</td>\n",
              "      <td>16.176606</td>\n",
              "    </tr>\n",
              "  </tbody>\n",
              "</table>\n",
              "</div>"
            ],
            "text/plain": [
              "       Stock price  Time to maturity  Risk free rate  Call price\n",
              "49995     0.566665          0.825692        0.011463   13.876339\n",
              "49996     0.658514          0.556173        0.092773   16.056530\n",
              "49997     1.134942          0.223172        0.098120   12.609052\n",
              "49998     0.712170          0.291995        0.012600   11.513543\n",
              "49999     1.270616          0.978762        0.037534   16.176606"
            ]
          },
          "metadata": {
            "tags": []
          },
          "execution_count": 42
        }
      ]
    },
    {
      "cell_type": "code",
      "metadata": {
        "id": "98DsoUqavuKJ",
        "colab": {
          "base_uri": "https://localhost:8080/",
          "height": 33
        },
        "outputId": "54596deb-d4c7-4bf7-e5bc-c135d4f525e2"
      },
      "source": [
        "df_price.isnull().sum().sum()\n",
        "#df_price.isna()"
      ],
      "execution_count": null,
      "outputs": [
        {
          "output_type": "execute_result",
          "data": {
            "text/plain": [
              "0"
            ]
          },
          "metadata": {
            "tags": []
          },
          "execution_count": 43
        }
      ]
    },
    {
      "cell_type": "markdown",
      "metadata": {
        "id": "nYGLd8e0581Z"
      },
      "source": [
        "## Modèle regression polynomiale"
      ]
    },
    {
      "cell_type": "code",
      "metadata": {
        "id": "snVcnuqX_c0P"
      },
      "source": [
        "from sklearn.model_selection import train_test_split \n",
        "x=df_price[['Stock price','Time to maturity','Risk free rate']]\n",
        "y=df['Call price']\n",
        "x_train, x_test, y_train, y_test = train_test_split(x, y, test_size=0.1, random_state=1)"
      ],
      "execution_count": null,
      "outputs": []
    },
    {
      "cell_type": "code",
      "metadata": {
        "id": "8xZA-IpsGWBx"
      },
      "source": [
        "from sklearn.pipeline import Pipeline\n",
        "from sklearn.preprocessing import StandardScaler\n",
        "from sklearn.preprocessing import  PolynomialFeatures\n"
      ],
      "execution_count": null,
      "outputs": []
    },
    {
      "cell_type": "code",
      "metadata": {
        "id": "Zkhg_ZXEIgX-"
      },
      "source": [
        "Input=[('scale',StandardScaler()), ('polynomial', PolynomialFeatures(degree=2,include_bias=False)), ('model',LinearRegression())]\n",
        "pipe=Pipeline(Input)"
      ],
      "execution_count": null,
      "outputs": []
    },
    {
      "cell_type": "code",
      "metadata": {
        "id": "wf6OlrkWIi-s",
        "colab": {
          "base_uri": "https://localhost:8080/",
          "height": 183
        },
        "outputId": "9d6e5758-f4b4-4981-94fa-93f7c072482a"
      },
      "source": [
        "pipe.fit(x_train,y_train)"
      ],
      "execution_count": null,
      "outputs": [
        {
          "output_type": "execute_result",
          "data": {
            "text/plain": [
              "Pipeline(memory=None,\n",
              "         steps=[('scale',\n",
              "                 StandardScaler(copy=True, with_mean=True, with_std=True)),\n",
              "                ('polynomial',\n",
              "                 PolynomialFeatures(degree=2, include_bias=False,\n",
              "                                    interaction_only=False, order='C')),\n",
              "                ('model',\n",
              "                 LinearRegression(copy_X=True, fit_intercept=True, n_jobs=None,\n",
              "                                  normalize=False))],\n",
              "         verbose=False)"
            ]
          },
          "metadata": {
            "tags": []
          },
          "execution_count": 48
        }
      ]
    },
    {
      "cell_type": "code",
      "metadata": {
        "id": "sqfK1klOIpj6"
      },
      "source": [
        "ypipe=pipe.predict(x_test)\n",
        "y_poly_pred=pipe.predict(x_train)"
      ],
      "execution_count": null,
      "outputs": []
    },
    {
      "cell_type": "code",
      "metadata": {
        "id": "rRSJPaYZ_7-L",
        "colab": {
          "base_uri": "https://localhost:8080/",
          "height": 50
        },
        "outputId": "bff0d93a-cfea-495f-93c1-7192b7877111"
      },
      "source": [
        "from sklearn.metrics import r2_score\n",
        "from sklearn.metrics import mean_squared_error\n",
        "rmse = np.sqrt(mean_squared_error(y_train,y_poly_pred))\n",
        "r2 = r2_score(y_train,y_poly_pred)\n",
        "print(rmse)\n",
        "print(r2)"
      ],
      "execution_count": null,
      "outputs": [
        {
          "output_type": "stream",
          "text": [
            "0.2180491893988959\n",
            "0.00043221399568016405\n"
          ],
          "name": "stdout"
        }
      ]
    },
    {
      "cell_type": "code",
      "metadata": {
        "id": "u8UbHxIaJBoe",
        "colab": {
          "base_uri": "https://localhost:8080/",
          "height": 50
        },
        "outputId": "897eb6a9-f433-4926-b9a8-2870be394429"
      },
      "source": [
        "from sklearn.metrics import r2_score\n",
        "from sklearn.metrics import mean_squared_error\n",
        "r_squared = r2_score(y_test, ypipe)\n",
        "print('The R-square value is: ', r_squared)\n",
        "print('mean squarred error is:',mean_squared_error(y_test, ypipe))"
      ],
      "execution_count": null,
      "outputs": [
        {
          "output_type": "stream",
          "text": [
            "The R-square value is:  -0.0007222474038672821\n",
            "mean squarred error is: 0.048229356189255106\n"
          ],
          "name": "stdout"
        }
      ]
    },
    {
      "cell_type": "markdown",
      "metadata": {
        "id": "A_YbI72JLeaE"
      },
      "source": [
        "## Modèle ANN/ Keras appliqué au modèle de Heston"
      ]
    },
    {
      "cell_type": "markdown",
      "metadata": {
        "id": "YmXBw6rr6D1G"
      },
      "source": [
        "### Création de la base de données"
      ]
    },
    {
      "cell_type": "code",
      "metadata": {
        "id": "MqsVp1o45QdA",
        "colab": {
          "base_uri": "https://localhost:8080/",
          "height": 253
        },
        "outputId": "5ad76b4b-4cf6-4dcf-e14d-22e7da042992"
      },
      "source": [
        "import numpy as np\n",
        "import random as rd\n",
        "n=50000\n",
        "#teta=0.04\n",
        "K=1\n",
        "Moneyness=np.zeros(n)\n",
        "Time_to_maturity=np.zeros(n)\n",
        "Risk_free_rate=np.zeros(n)\n",
        "Correlation=np.zeros(n)\n",
        "Reversion_speed=np.zeros(n)\n",
        "Long_average_variance=np.zeros(n)\n",
        "Volatility_of_volatility=np.zeros(n)\n",
        "Initial_variance=np.zeros(n)\n",
        "Call_price=np.zeros(n)\n",
        "\n",
        "for i in range(n):\n",
        "  Moneyness[i]=rd.uniform(0.6,1.4)\n",
        "  Time_to_maturity[i]=rd.uniform(0.1,0.4)\n",
        "  Risk_free_rate[i]=rd.uniform(0.0,0.01)\n",
        "  Correlation[i]=rd.uniform(-0.95,0.0)\n",
        "  Reversion_speed[i]=rd.uniform(0.0,2.0)\n",
        "  Long_average_variance[i]=rd.uniform(0.0,0.5)\n",
        "  Volatility_of_volatility[i]=rd.uniform(0,0.5)\n",
        "  Initial_variance[i]=rd.uniform(0.0,0.5) \n",
        "\n",
        "  m=Moneyness[i]\n",
        "  T=Time_to_maturity[i]\n",
        "  r=Risk_free_rate[i]\n",
        "  ro=Correlation[i]\n",
        "  kappa=Reversion_speed[i]\n",
        "  teta=Long_average_variance[i]\n",
        "  sigma=Volatility_of_volatility[i]\n",
        "  v0=Initial_variance[i]\n",
        "  Call_price[i]= C(kappa,teta,sigma,ro,v0,m,r,T,1000,K)\n",
        "# C(k,teta,sigma,ro,v0,s0,r,t,sup,K)\n",
        "\n"
      ],
      "execution_count": null,
      "outputs": [
        {
          "output_type": "stream",
          "text": [
            "/usr/local/lib/python3.6/dist-packages/ipykernel_launcher.py:5: RuntimeWarning: overflow encountered in exp\n",
            "  \"\"\"\n",
            "/usr/local/lib/python3.6/dist-packages/ipykernel_launcher.py:6: RuntimeWarning: overflow encountered in cdouble_scalars\n",
            "  \n",
            "/usr/local/lib/python3.6/dist-packages/ipykernel_launcher.py:8: RuntimeWarning: invalid value encountered in cdouble_scalars\n",
            "  \n",
            "/usr/local/lib/python3.6/dist-packages/ipykernel_launcher.py:17: IntegrationWarning: The occurrence of roundoff error is detected, which prevents \n",
            "  the requested tolerance from being achieved.  The error may be \n",
            "  underestimated.\n",
            "/usr/local/lib/python3.6/dist-packages/ipykernel_launcher.py:8: RuntimeWarning: overflow encountered in cdouble_scalars\n",
            "  \n",
            "/usr/local/lib/python3.6/dist-packages/ipykernel_launcher.py:15: RuntimeWarning: invalid value encountered in cdouble_scalars\n",
            "  from ipykernel import kernelapp as app\n"
          ],
          "name": "stderr"
        }
      ]
    },
    {
      "cell_type": "code",
      "metadata": {
        "id": "SPhRYjEk6AmO",
        "colab": {
          "base_uri": "https://localhost:8080/",
          "height": 214
        },
        "outputId": "3ad16067-56c8-402d-851f-ebfd8c9f13c2"
      },
      "source": [
        "import pandas as pd \n",
        "from sklearn.linear_model import LinearRegression\n",
        "L1=[Initial_variance,Volatility_of_volatility,Time_to_maturity,Risk_free_rate,Moneyness,Correlation,Reversion_speed,Long_average_variance,Call_price]\n",
        "df_NN=pd.DataFrame(L1)\n",
        "df_NN=df_NN.transpose()\n",
        "df_NN.columns=['Initial variance','Volatility of volatility','Time to maturity','Risk_free_rate','Moneyness','Correlation','Reversion speed','Long average variance','Call price']\n",
        "df_NN.head()\n"
      ],
      "execution_count": null,
      "outputs": [
        {
          "output_type": "execute_result",
          "data": {
            "text/html": [
              "<div>\n",
              "<style scoped>\n",
              "    .dataframe tbody tr th:only-of-type {\n",
              "        vertical-align: middle;\n",
              "    }\n",
              "\n",
              "    .dataframe tbody tr th {\n",
              "        vertical-align: top;\n",
              "    }\n",
              "\n",
              "    .dataframe thead th {\n",
              "        text-align: right;\n",
              "    }\n",
              "</style>\n",
              "<table border=\"1\" class=\"dataframe\">\n",
              "  <thead>\n",
              "    <tr style=\"text-align: right;\">\n",
              "      <th></th>\n",
              "      <th>Initial variance</th>\n",
              "      <th>Volatility of volatility</th>\n",
              "      <th>Time to maturity</th>\n",
              "      <th>Risk_free_rate</th>\n",
              "      <th>Moneyness</th>\n",
              "      <th>Correlation</th>\n",
              "      <th>Reversion speed</th>\n",
              "      <th>Long average variance</th>\n",
              "      <th>Call price</th>\n",
              "    </tr>\n",
              "  </thead>\n",
              "  <tbody>\n",
              "    <tr>\n",
              "      <th>0</th>\n",
              "      <td>0.323450</td>\n",
              "      <td>0.189283</td>\n",
              "      <td>0.211393</td>\n",
              "      <td>0.007634</td>\n",
              "      <td>0.785966</td>\n",
              "      <td>-0.650402</td>\n",
              "      <td>0.619191</td>\n",
              "      <td>0.195817</td>\n",
              "      <td>0.020221</td>\n",
              "    </tr>\n",
              "    <tr>\n",
              "      <th>1</th>\n",
              "      <td>0.465308</td>\n",
              "      <td>0.174459</td>\n",
              "      <td>0.257606</td>\n",
              "      <td>0.008860</td>\n",
              "      <td>0.620805</td>\n",
              "      <td>-0.671950</td>\n",
              "      <td>0.259575</td>\n",
              "      <td>0.202132</td>\n",
              "      <td>0.008804</td>\n",
              "    </tr>\n",
              "    <tr>\n",
              "      <th>2</th>\n",
              "      <td>0.280736</td>\n",
              "      <td>0.292805</td>\n",
              "      <td>0.373748</td>\n",
              "      <td>0.003989</td>\n",
              "      <td>0.604218</td>\n",
              "      <td>-0.314118</td>\n",
              "      <td>0.410396</td>\n",
              "      <td>0.116084</td>\n",
              "      <td>0.004824</td>\n",
              "    </tr>\n",
              "    <tr>\n",
              "      <th>3</th>\n",
              "      <td>0.388740</td>\n",
              "      <td>0.088013</td>\n",
              "      <td>0.279875</td>\n",
              "      <td>0.006973</td>\n",
              "      <td>0.660384</td>\n",
              "      <td>-0.400848</td>\n",
              "      <td>0.577643</td>\n",
              "      <td>0.365203</td>\n",
              "      <td>0.012772</td>\n",
              "    </tr>\n",
              "    <tr>\n",
              "      <th>4</th>\n",
              "      <td>0.278494</td>\n",
              "      <td>0.481429</td>\n",
              "      <td>0.210724</td>\n",
              "      <td>0.002412</td>\n",
              "      <td>1.235555</td>\n",
              "      <td>-0.017086</td>\n",
              "      <td>1.725157</td>\n",
              "      <td>0.055145</td>\n",
              "      <td>0.259521</td>\n",
              "    </tr>\n",
              "  </tbody>\n",
              "</table>\n",
              "</div>"
            ],
            "text/plain": [
              "   Initial variance  ...  Call price\n",
              "0          0.323450  ...    0.020221\n",
              "1          0.465308  ...    0.008804\n",
              "2          0.280736  ...    0.004824\n",
              "3          0.388740  ...    0.012772\n",
              "4          0.278494  ...    0.259521\n",
              "\n",
              "[5 rows x 9 columns]"
            ]
          },
          "metadata": {
            "tags": []
          },
          "execution_count": 18
        }
      ]
    },
    {
      "cell_type": "code",
      "metadata": {
        "id": "CJB1YGVUl7WK",
        "colab": {
          "base_uri": "https://localhost:8080/",
          "height": 33
        },
        "outputId": "6d0121c9-a0b4-4bd0-fbab-712dadb0f117"
      },
      "source": [
        "df_NN.isnull().sum().sum()\n",
        "#df_NN.isna()"
      ],
      "execution_count": null,
      "outputs": [
        {
          "output_type": "execute_result",
          "data": {
            "text/plain": [
              "894"
            ]
          },
          "metadata": {
            "tags": []
          },
          "execution_count": 19
        }
      ]
    },
    {
      "cell_type": "code",
      "metadata": {
        "id": "Mc0SR7yjmg7W",
        "colab": {
          "base_uri": "https://localhost:8080/",
          "height": 423
        },
        "outputId": "2c43ec1a-5408-44be-9f76-db2a7cfe330e"
      },
      "source": [
        "df_NN.dropna()"
      ],
      "execution_count": null,
      "outputs": [
        {
          "output_type": "execute_result",
          "data": {
            "text/html": [
              "<div>\n",
              "<style scoped>\n",
              "    .dataframe tbody tr th:only-of-type {\n",
              "        vertical-align: middle;\n",
              "    }\n",
              "\n",
              "    .dataframe tbody tr th {\n",
              "        vertical-align: top;\n",
              "    }\n",
              "\n",
              "    .dataframe thead th {\n",
              "        text-align: right;\n",
              "    }\n",
              "</style>\n",
              "<table border=\"1\" class=\"dataframe\">\n",
              "  <thead>\n",
              "    <tr style=\"text-align: right;\">\n",
              "      <th></th>\n",
              "      <th>Initial variance</th>\n",
              "      <th>Volatility of volatility</th>\n",
              "      <th>Time to maturity</th>\n",
              "      <th>Risk_free_rate</th>\n",
              "      <th>Moneyness</th>\n",
              "      <th>Correlation</th>\n",
              "      <th>Reversion speed</th>\n",
              "      <th>Long average variance</th>\n",
              "      <th>Call price</th>\n",
              "    </tr>\n",
              "  </thead>\n",
              "  <tbody>\n",
              "    <tr>\n",
              "      <th>0</th>\n",
              "      <td>0.323450</td>\n",
              "      <td>0.189283</td>\n",
              "      <td>0.211393</td>\n",
              "      <td>0.007634</td>\n",
              "      <td>0.785966</td>\n",
              "      <td>-0.650402</td>\n",
              "      <td>0.619191</td>\n",
              "      <td>0.195817</td>\n",
              "      <td>0.020221</td>\n",
              "    </tr>\n",
              "    <tr>\n",
              "      <th>1</th>\n",
              "      <td>0.465308</td>\n",
              "      <td>0.174459</td>\n",
              "      <td>0.257606</td>\n",
              "      <td>0.008860</td>\n",
              "      <td>0.620805</td>\n",
              "      <td>-0.671950</td>\n",
              "      <td>0.259575</td>\n",
              "      <td>0.202132</td>\n",
              "      <td>0.008804</td>\n",
              "    </tr>\n",
              "    <tr>\n",
              "      <th>2</th>\n",
              "      <td>0.280736</td>\n",
              "      <td>0.292805</td>\n",
              "      <td>0.373748</td>\n",
              "      <td>0.003989</td>\n",
              "      <td>0.604218</td>\n",
              "      <td>-0.314118</td>\n",
              "      <td>0.410396</td>\n",
              "      <td>0.116084</td>\n",
              "      <td>0.004824</td>\n",
              "    </tr>\n",
              "    <tr>\n",
              "      <th>3</th>\n",
              "      <td>0.388740</td>\n",
              "      <td>0.088013</td>\n",
              "      <td>0.279875</td>\n",
              "      <td>0.006973</td>\n",
              "      <td>0.660384</td>\n",
              "      <td>-0.400848</td>\n",
              "      <td>0.577643</td>\n",
              "      <td>0.365203</td>\n",
              "      <td>0.012772</td>\n",
              "    </tr>\n",
              "    <tr>\n",
              "      <th>4</th>\n",
              "      <td>0.278494</td>\n",
              "      <td>0.481429</td>\n",
              "      <td>0.210724</td>\n",
              "      <td>0.002412</td>\n",
              "      <td>1.235555</td>\n",
              "      <td>-0.017086</td>\n",
              "      <td>1.725157</td>\n",
              "      <td>0.055145</td>\n",
              "      <td>0.259521</td>\n",
              "    </tr>\n",
              "    <tr>\n",
              "      <th>...</th>\n",
              "      <td>...</td>\n",
              "      <td>...</td>\n",
              "      <td>...</td>\n",
              "      <td>...</td>\n",
              "      <td>...</td>\n",
              "      <td>...</td>\n",
              "      <td>...</td>\n",
              "      <td>...</td>\n",
              "      <td>...</td>\n",
              "    </tr>\n",
              "    <tr>\n",
              "      <th>49995</th>\n",
              "      <td>0.470166</td>\n",
              "      <td>0.346924</td>\n",
              "      <td>0.234637</td>\n",
              "      <td>0.002557</td>\n",
              "      <td>0.953135</td>\n",
              "      <td>-0.506921</td>\n",
              "      <td>0.181301</td>\n",
              "      <td>0.319947</td>\n",
              "      <td>0.105019</td>\n",
              "    </tr>\n",
              "    <tr>\n",
              "      <th>49996</th>\n",
              "      <td>0.296617</td>\n",
              "      <td>0.332909</td>\n",
              "      <td>0.350759</td>\n",
              "      <td>0.007032</td>\n",
              "      <td>1.211300</td>\n",
              "      <td>-0.505798</td>\n",
              "      <td>1.317877</td>\n",
              "      <td>0.001684</td>\n",
              "      <td>0.263108</td>\n",
              "    </tr>\n",
              "    <tr>\n",
              "      <th>49997</th>\n",
              "      <td>0.422027</td>\n",
              "      <td>0.257652</td>\n",
              "      <td>0.205424</td>\n",
              "      <td>0.004099</td>\n",
              "      <td>1.292693</td>\n",
              "      <td>-0.246667</td>\n",
              "      <td>1.489188</td>\n",
              "      <td>0.449843</td>\n",
              "      <td>0.329524</td>\n",
              "    </tr>\n",
              "    <tr>\n",
              "      <th>49998</th>\n",
              "      <td>0.008133</td>\n",
              "      <td>0.161913</td>\n",
              "      <td>0.341532</td>\n",
              "      <td>0.000990</td>\n",
              "      <td>1.221317</td>\n",
              "      <td>-0.565738</td>\n",
              "      <td>0.483952</td>\n",
              "      <td>0.111351</td>\n",
              "      <td>0.222114</td>\n",
              "    </tr>\n",
              "    <tr>\n",
              "      <th>49999</th>\n",
              "      <td>0.201800</td>\n",
              "      <td>0.342918</td>\n",
              "      <td>0.124691</td>\n",
              "      <td>0.006193</td>\n",
              "      <td>1.111778</td>\n",
              "      <td>-0.303400</td>\n",
              "      <td>1.131635</td>\n",
              "      <td>0.488020</td>\n",
              "      <td>0.140499</td>\n",
              "    </tr>\n",
              "  </tbody>\n",
              "</table>\n",
              "<p>49106 rows × 9 columns</p>\n",
              "</div>"
            ],
            "text/plain": [
              "       Initial variance  ...  Call price\n",
              "0              0.323450  ...    0.020221\n",
              "1              0.465308  ...    0.008804\n",
              "2              0.280736  ...    0.004824\n",
              "3              0.388740  ...    0.012772\n",
              "4              0.278494  ...    0.259521\n",
              "...                 ...  ...         ...\n",
              "49995          0.470166  ...    0.105019\n",
              "49996          0.296617  ...    0.263108\n",
              "49997          0.422027  ...    0.329524\n",
              "49998          0.008133  ...    0.222114\n",
              "49999          0.201800  ...    0.140499\n",
              "\n",
              "[49106 rows x 9 columns]"
            ]
          },
          "metadata": {
            "tags": []
          },
          "execution_count": 20
        }
      ]
    },
    {
      "cell_type": "code",
      "metadata": {
        "id": "m7jN0v9ITaGm",
        "colab": {
          "base_uri": "https://localhost:8080/",
          "height": 250
        },
        "outputId": "8de1ce84-bda7-4bd8-a03f-c98a04f80626"
      },
      "source": [
        "df_NN1 = df_NN.apply (pd.to_numeric, errors='coerce')\n",
        "df_NN1 = df_NN1.dropna()\n",
        "\n",
        "print (df_NN1)"
      ],
      "execution_count": null,
      "outputs": [
        {
          "output_type": "stream",
          "text": [
            "       Initial variance  ...  Call price\n",
            "0              0.323450  ...    0.020221\n",
            "1              0.465308  ...    0.008804\n",
            "2              0.280736  ...    0.004824\n",
            "3              0.388740  ...    0.012772\n",
            "4              0.278494  ...    0.259521\n",
            "...                 ...  ...         ...\n",
            "49995          0.470166  ...    0.105019\n",
            "49996          0.296617  ...    0.263108\n",
            "49997          0.422027  ...    0.329524\n",
            "49998          0.008133  ...    0.222114\n",
            "49999          0.201800  ...    0.140499\n",
            "\n",
            "[49106 rows x 9 columns]\n"
          ],
          "name": "stdout"
        }
      ]
    },
    {
      "cell_type": "code",
      "metadata": {
        "id": "RJ7ciA2mSR8h",
        "colab": {
          "base_uri": "https://localhost:8080/",
          "height": 33
        },
        "outputId": "636a7a4c-9ecc-4116-edbd-4741c68c8e9c"
      },
      "source": [
        "df_NN1.isnull().sum().sum()"
      ],
      "execution_count": null,
      "outputs": [
        {
          "output_type": "execute_result",
          "data": {
            "text/plain": [
              "0"
            ]
          },
          "metadata": {
            "tags": []
          },
          "execution_count": 22
        }
      ]
    },
    {
      "cell_type": "markdown",
      "metadata": {
        "id": "K0Od1CLA6Id-"
      },
      "source": [
        "### Application du modèle pour le prix du call"
      ]
    },
    {
      "cell_type": "code",
      "metadata": {
        "id": "R6iY_RN3erDy",
        "colab": {
          "base_uri": "https://localhost:8080/",
          "height": 33
        },
        "outputId": "97cdd2f0-33dc-4aa9-dca4-ad32b2ec6b11"
      },
      "source": [
        "# first neural network with keras tutorial\n",
        "from numpy import loadtxt\n",
        "from keras.models import Sequential\n",
        "from keras.layers import Dense"
      ],
      "execution_count": null,
      "outputs": [
        {
          "output_type": "stream",
          "text": [
            "Using TensorFlow backend.\n"
          ],
          "name": "stderr"
        }
      ]
    },
    {
      "cell_type": "code",
      "metadata": {
        "id": "eyqNTq5VdC24"
      },
      "source": [
        "#training data\n",
        "from sklearn.model_selection import train_test_split \n",
        "x=df_NN1[['Initial variance','Volatility of volatility','Time to maturity','Risk_free_rate','Moneyness','Correlation','Reversion speed','Long average variance','Call price']].values\n",
        "y=df_NN1['Call price'].values\n",
        "x_train, x_test, y_train, y_test = train_test_split(x, y, test_size=0.1, random_state=1)"
      ],
      "execution_count": null,
      "outputs": []
    },
    {
      "cell_type": "code",
      "metadata": {
        "id": "4DWKnZzmiiwg"
      },
      "source": [
        "from sklearn.preprocessing import StandardScaler\n",
        "scale = StandardScaler()\n",
        "scale2=  StandardScaler()\n",
        "y_train1= y_train.reshape(-1, 1)\n",
        "y_test1=y_test.reshape(-1,1)\n",
        "x_train_transform = scale.fit_transform(x_train)\n",
        "x_test_transform = scale.transform(x_test)\n",
        "y_train_transform = scale2.fit_transform(y_train1)\n",
        "y_test_transform = scale2.transform(y_test1)\n"
      ],
      "execution_count": null,
      "outputs": []
    },
    {
      "cell_type": "code",
      "metadata": {
        "id": "7YzxlwAsemUo",
        "colab": {
          "base_uri": "https://localhost:8080/",
          "height": 33
        },
        "outputId": "2a18ee52-f20b-4e51-97bf-96e23460eaaa"
      },
      "source": [
        "np.shape(y_train1)"
      ],
      "execution_count": null,
      "outputs": [
        {
          "output_type": "execute_result",
          "data": {
            "text/plain": [
              "(44195, 1)"
            ]
          },
          "metadata": {
            "tags": []
          },
          "execution_count": 26
        }
      ]
    },
    {
      "cell_type": "markdown",
      "metadata": {
        "id": "Ti9DOCzlVpN3"
      },
      "source": [
        "### Creation Du réseau de neurones"
      ]
    },
    {
      "cell_type": "code",
      "metadata": {
        "id": "Xf9vB5w9VNpg",
        "colab": {
          "base_uri": "https://localhost:8080/",
          "height": 316
        },
        "outputId": "f374344f-0006-40a3-a5f9-0db640ab091f"
      },
      "source": [
        "import keras\n",
        "from keras.layers import Activation\n",
        "from keras import backend as K\n",
        "from keras.utils.generic_utils import get_custom_objects\n",
        "keras.backend.set_floatx('float64')\n",
        "\n",
        "\n",
        "input1 = keras.layers.Input(shape=(9,))\n",
        "x1 = keras.layers.Dense(400,activation = 'relu',kernel_initializer='glorot_uniform')(input1)\n",
        "x2=keras.layers.Dense(400,activation = 'relu')(x1) \n",
        "x3=keras.layers.Dense(400,activation = 'relu')(x2) \n",
        "\n",
        "\n",
        "x4=keras.layers.Dense(1,activation = 'linear')(x3)\n",
        "\n",
        "\n",
        "modelGEN = keras.models.Model(inputs=input1, outputs=x4)\n",
        "modelGEN.summary()"
      ],
      "execution_count": null,
      "outputs": [
        {
          "output_type": "stream",
          "text": [
            "Model: \"model_1\"\n",
            "_________________________________________________________________\n",
            "Layer (type)                 Output Shape              Param #   \n",
            "=================================================================\n",
            "input_1 (InputLayer)         (None, 9)                 0         \n",
            "_________________________________________________________________\n",
            "dense_1 (Dense)              (None, 400)               4000      \n",
            "_________________________________________________________________\n",
            "dense_2 (Dense)              (None, 400)               160400    \n",
            "_________________________________________________________________\n",
            "dense_3 (Dense)              (None, 400)               160400    \n",
            "_________________________________________________________________\n",
            "dense_4 (Dense)              (None, 1)                 401       \n",
            "=================================================================\n",
            "Total params: 325,201\n",
            "Trainable params: 325,201\n",
            "Non-trainable params: 0\n",
            "_________________________________________________________________\n"
          ],
          "name": "stdout"
        }
      ]
    },
    {
      "cell_type": "code",
      "metadata": {
        "id": "uPT-kiRGiUaC",
        "colab": {
          "base_uri": "https://localhost:8080/",
          "height": 1000
        },
        "outputId": "3ae5c774-73fb-41b5-f9a9-0c3ee485edae"
      },
      "source": [
        "def root_mean_squared_error(x_true, x_pred):\n",
        "        return K.sqrt(K.mean(K.square(x_pred - x_true)))\n",
        "modelGEN.compile(loss=root_mean_squared_error, optimizer='adam', metrics=['mse', 'mae', 'mape'])\n",
        "\n",
        "history=modelGEN.fit(x_train_transform, y_train_transform, batch_size=1042,validation_data = (x_test_transform,y_test_transform),epochs = 200, verbose = True,shuffle=1)"
      ],
      "execution_count": null,
      "outputs": [
        {
          "output_type": "stream",
          "text": [
            "Train on 44195 samples, validate on 4911 samples\n",
            "Epoch 1/200\n",
            "44195/44195 [==============================] - 4s 86us/step - loss: 0.1377 - mse: 0.0505 - mae: 0.1134 - mape: 34.9418 - val_loss: 0.0390 - val_mse: 0.0015 - val_mae: 0.0323 - val_mape: 19.5694\n",
            "Epoch 2/200\n",
            "44195/44195 [==============================] - 4s 80us/step - loss: 0.0295 - mse: 8.9229e-04 - mae: 0.0239 - mape: 15.0425 - val_loss: 0.0253 - val_mse: 6.4051e-04 - val_mae: 0.0202 - val_mape: 13.0835\n",
            "Epoch 3/200\n",
            "44195/44195 [==============================] - 4s 80us/step - loss: 0.0232 - mse: 5.4164e-04 - mae: 0.0188 - mape: 10.4920 - val_loss: 0.0228 - val_mse: 5.1902e-04 - val_mae: 0.0187 - val_mape: 13.7795\n",
            "Epoch 4/200\n",
            "44195/44195 [==============================] - 4s 80us/step - loss: 0.0199 - mse: 4.0794e-04 - mae: 0.0162 - mape: 10.7809 - val_loss: 0.0288 - val_mse: 8.2815e-04 - val_mae: 0.0251 - val_mape: 16.0385\n",
            "Epoch 5/200\n",
            "44195/44195 [==============================] - 4s 80us/step - loss: 0.0193 - mse: 3.9662e-04 - mae: 0.0159 - mape: 8.8425 - val_loss: 0.0146 - val_mse: 2.1308e-04 - val_mae: 0.0116 - val_mape: 7.3263\n",
            "Epoch 6/200\n",
            "44195/44195 [==============================] - 4s 81us/step - loss: 0.0178 - mse: 3.2729e-04 - mae: 0.0146 - mape: 7.5045 - val_loss: 0.0194 - val_mse: 3.7696e-04 - val_mae: 0.0158 - val_mape: 12.5555\n",
            "Epoch 7/200\n",
            "44195/44195 [==============================] - 4s 80us/step - loss: 0.0173 - mse: 3.1471e-04 - mae: 0.0143 - mape: 7.6404 - val_loss: 0.0181 - val_mse: 3.2668e-04 - val_mae: 0.0147 - val_mape: 6.3752\n",
            "Epoch 8/200\n",
            "44195/44195 [==============================] - 4s 81us/step - loss: 0.0194 - mse: 4.2168e-04 - mae: 0.0158 - mape: 7.0116 - val_loss: 0.0264 - val_mse: 6.9648e-04 - val_mae: 0.0219 - val_mape: 11.4113\n",
            "Epoch 9/200\n",
            "44195/44195 [==============================] - 4s 80us/step - loss: 0.0269 - mse: 8.0206e-04 - mae: 0.0223 - mape: 10.1461 - val_loss: 0.0312 - val_mse: 9.7210e-04 - val_mae: 0.0271 - val_mape: 14.3812\n",
            "Epoch 10/200\n",
            "44195/44195 [==============================] - 4s 80us/step - loss: 0.0259 - mse: 6.9756e-04 - mae: 0.0227 - mape: 11.2092 - val_loss: 0.0236 - val_mse: 5.5655e-04 - val_mae: 0.0207 - val_mape: 13.2524\n",
            "Epoch 11/200\n",
            "44195/44195 [==============================] - 4s 83us/step - loss: 0.0233 - mse: 5.4572e-04 - mae: 0.0203 - mape: 10.0864 - val_loss: 0.0245 - val_mse: 5.9796e-04 - val_mae: 0.0208 - val_mape: 13.5040\n",
            "Epoch 12/200\n",
            "44195/44195 [==============================] - 4s 83us/step - loss: 0.0218 - mse: 4.7875e-04 - mae: 0.0190 - mape: 9.6567 - val_loss: 0.0195 - val_mse: 3.7889e-04 - val_mae: 0.0165 - val_mape: 6.7326\n",
            "Epoch 13/200\n",
            "44195/44195 [==============================] - 4s 81us/step - loss: 0.0206 - mse: 4.2980e-04 - mae: 0.0178 - mape: 8.7942 - val_loss: 0.0221 - val_mse: 4.8741e-04 - val_mae: 0.0185 - val_mape: 7.4579\n",
            "Epoch 14/200\n",
            "44195/44195 [==============================] - 4s 83us/step - loss: 0.0198 - mse: 3.9630e-04 - mae: 0.0171 - mape: 7.1333 - val_loss: 0.0203 - val_mse: 4.1342e-04 - val_mae: 0.0162 - val_mape: 7.8407\n",
            "Epoch 15/200\n",
            "44195/44195 [==============================] - 4s 80us/step - loss: 0.0191 - mse: 3.6584e-04 - mae: 0.0163 - mape: 7.6616 - val_loss: 0.0218 - val_mse: 4.7406e-04 - val_mae: 0.0194 - val_mape: 10.7220\n",
            "Epoch 16/200\n",
            "44195/44195 [==============================] - 4s 87us/step - loss: 0.0185 - mse: 3.4507e-04 - mae: 0.0161 - mape: 6.6322 - val_loss: 0.0183 - val_mse: 3.3509e-04 - val_mae: 0.0157 - val_mape: 6.9248\n",
            "Epoch 17/200\n",
            "44195/44195 [==============================] - 4s 87us/step - loss: 0.0179 - mse: 3.2138e-04 - mae: 0.0154 - mape: 6.4787 - val_loss: 0.0192 - val_mse: 3.6857e-04 - val_mae: 0.0166 - val_mape: 7.3511\n",
            "Epoch 18/200\n",
            "44195/44195 [==============================] - 4s 87us/step - loss: 0.0173 - mse: 3.0436e-04 - mae: 0.0149 - mape: 6.7066 - val_loss: 0.0180 - val_mse: 3.2261e-04 - val_mae: 0.0155 - val_mape: 9.6801\n",
            "Epoch 19/200\n",
            "44195/44195 [==============================] - 4s 87us/step - loss: 0.0168 - mse: 2.8619e-04 - mae: 0.0145 - mape: 7.2642 - val_loss: 0.0198 - val_mse: 3.9267e-04 - val_mae: 0.0172 - val_mape: 9.6446\n",
            "Epoch 20/200\n",
            "44195/44195 [==============================] - 4s 87us/step - loss: 0.0167 - mse: 2.7973e-04 - mae: 0.0143 - mape: 6.6567 - val_loss: 0.0140 - val_mse: 1.9514e-04 - val_mae: 0.0117 - val_mape: 7.1899\n",
            "Epoch 21/200\n",
            "44195/44195 [==============================] - 4s 86us/step - loss: 0.0162 - mse: 2.6623e-04 - mae: 0.0140 - mape: 6.8060 - val_loss: 0.0179 - val_mse: 3.2187e-04 - val_mae: 0.0157 - val_mape: 8.7396\n",
            "Epoch 22/200\n",
            "44195/44195 [==============================] - 4s 86us/step - loss: 0.0160 - mse: 2.5857e-04 - mae: 0.0138 - mape: 5.2828 - val_loss: 0.0173 - val_mse: 3.0031e-04 - val_mae: 0.0150 - val_mape: 7.6584\n",
            "Epoch 23/200\n",
            "44195/44195 [==============================] - 4s 87us/step - loss: 0.0155 - mse: 2.4348e-04 - mae: 0.0132 - mape: 6.6269 - val_loss: 0.0176 - val_mse: 3.0941e-04 - val_mae: 0.0145 - val_mape: 7.2472\n",
            "Epoch 24/200\n",
            "44195/44195 [==============================] - 4s 89us/step - loss: 0.0140 - mse: 2.0738e-04 - mae: 0.0115 - mape: 4.4726 - val_loss: 0.0206 - val_mse: 4.2392e-04 - val_mae: 0.0179 - val_mape: 6.6154\n",
            "Epoch 25/200\n",
            "44195/44195 [==============================] - 4s 89us/step - loss: 0.0103 - mse: 1.1965e-04 - mae: 0.0083 - mape: 4.0854 - val_loss: 0.0082 - val_mse: 6.7483e-05 - val_mae: 0.0065 - val_mape: 4.1777\n",
            "Epoch 26/200\n",
            "44195/44195 [==============================] - 4s 88us/step - loss: 0.0122 - mse: 1.6582e-04 - mae: 0.0096 - mape: 4.0312 - val_loss: 0.0131 - val_mse: 1.7172e-04 - val_mae: 0.0101 - val_mape: 4.3804\n",
            "Epoch 27/200\n",
            "44195/44195 [==============================] - 4s 88us/step - loss: 0.0135 - mse: 1.9048e-04 - mae: 0.0107 - mape: 3.8498 - val_loss: 0.0140 - val_mse: 1.9694e-04 - val_mae: 0.0114 - val_mape: 4.7796\n",
            "Epoch 28/200\n",
            "44195/44195 [==============================] - 4s 88us/step - loss: 0.0132 - mse: 1.7837e-04 - mae: 0.0102 - mape: 4.3178 - val_loss: 0.0100 - val_mse: 9.9901e-05 - val_mae: 0.0080 - val_mape: 4.6902\n",
            "Epoch 29/200\n",
            "44195/44195 [==============================] - 4s 88us/step - loss: 0.0136 - mse: 1.9956e-04 - mae: 0.0112 - mape: 4.5162 - val_loss: 0.0180 - val_mse: 3.2264e-04 - val_mae: 0.0159 - val_mape: 7.4996\n",
            "Epoch 30/200\n",
            "44195/44195 [==============================] - 4s 88us/step - loss: 0.0154 - mse: 2.4733e-04 - mae: 0.0130 - mape: 5.4686 - val_loss: 0.0145 - val_mse: 2.1034e-04 - val_mae: 0.0124 - val_mape: 5.2387\n",
            "Epoch 31/200\n",
            "44195/44195 [==============================] - 4s 87us/step - loss: 0.0147 - mse: 2.1811e-04 - mae: 0.0129 - mape: 6.3770 - val_loss: 0.0143 - val_mse: 2.0386e-04 - val_mae: 0.0123 - val_mape: 5.0039\n",
            "Epoch 32/200\n",
            "44195/44195 [==============================] - 4s 87us/step - loss: 0.0144 - mse: 2.0908e-04 - mae: 0.0126 - mape: 5.7582 - val_loss: 0.0138 - val_mse: 1.9003e-04 - val_mae: 0.0119 - val_mape: 8.3238\n",
            "Epoch 33/200\n",
            "44195/44195 [==============================] - 4s 88us/step - loss: 0.0140 - mse: 1.9776e-04 - mae: 0.0121 - mape: 5.2345 - val_loss: 0.0129 - val_mse: 1.6665e-04 - val_mae: 0.0107 - val_mape: 5.2600\n",
            "Epoch 34/200\n",
            "44195/44195 [==============================] - 4s 87us/step - loss: 0.0138 - mse: 1.9378e-04 - mae: 0.0118 - mape: 4.4841 - val_loss: 0.0155 - val_mse: 2.3877e-04 - val_mae: 0.0137 - val_mape: 6.5037\n",
            "Epoch 35/200\n",
            "44195/44195 [==============================] - 4s 86us/step - loss: 0.0137 - mse: 1.8922e-04 - mae: 0.0120 - mape: 5.3341 - val_loss: 0.0135 - val_mse: 1.8160e-04 - val_mae: 0.0115 - val_mape: 4.8432\n",
            "Epoch 36/200\n",
            "44195/44195 [==============================] - 4s 88us/step - loss: 0.0133 - mse: 1.7885e-04 - mae: 0.0116 - mape: 5.3125 - val_loss: 0.0166 - val_mse: 2.7438e-04 - val_mae: 0.0142 - val_mape: 7.2592\n",
            "Epoch 37/200\n",
            "44195/44195 [==============================] - 4s 87us/step - loss: 0.0133 - mse: 1.7930e-04 - mae: 0.0111 - mape: 4.2655 - val_loss: 0.0130 - val_mse: 1.6795e-04 - val_mae: 0.0112 - val_mape: 5.9615\n",
            "Epoch 38/200\n",
            "44195/44195 [==============================] - 4s 88us/step - loss: 0.0132 - mse: 1.7568e-04 - mae: 0.0116 - mape: 4.7558 - val_loss: 0.0140 - val_mse: 1.9601e-04 - val_mae: 0.0121 - val_mape: 4.8253\n",
            "Epoch 39/200\n",
            "44195/44195 [==============================] - 4s 87us/step - loss: 0.0130 - mse: 1.7080e-04 - mae: 0.0114 - mape: 4.9536 - val_loss: 0.0118 - val_mse: 1.3924e-04 - val_mae: 0.0099 - val_mape: 4.7079\n",
            "Epoch 40/200\n",
            "44195/44195 [==============================] - 4s 87us/step - loss: 0.0129 - mse: 1.6712e-04 - mae: 0.0112 - mape: 4.3730 - val_loss: 0.0119 - val_mse: 1.4271e-04 - val_mae: 0.0102 - val_mape: 5.6865\n",
            "Epoch 41/200\n",
            "44195/44195 [==============================] - 4s 87us/step - loss: 0.0126 - mse: 1.6107e-04 - mae: 0.0107 - mape: 4.1883 - val_loss: 0.0128 - val_mse: 1.6284e-04 - val_mae: 0.0107 - val_mape: 5.0124\n",
            "Epoch 42/200\n",
            "44195/44195 [==============================] - 4s 87us/step - loss: 0.0124 - mse: 1.5494e-04 - mae: 0.0108 - mape: 4.2068 - val_loss: 0.0157 - val_mse: 2.4790e-04 - val_mae: 0.0140 - val_mape: 6.4290\n",
            "Epoch 43/200\n",
            "44195/44195 [==============================] - 4s 87us/step - loss: 0.0116 - mse: 1.3621e-04 - mae: 0.0098 - mape: 3.9002 - val_loss: 0.0096 - val_mse: 9.1841e-05 - val_mae: 0.0076 - val_mape: 3.8504\n",
            "Epoch 44/200\n",
            "44195/44195 [==============================] - 4s 87us/step - loss: 0.0112 - mse: 1.2961e-04 - mae: 0.0094 - mape: 3.3452 - val_loss: 0.0112 - val_mse: 1.2571e-04 - val_mae: 0.0093 - val_mape: 5.4139\n",
            "Epoch 45/200\n",
            "44195/44195 [==============================] - 4s 87us/step - loss: 0.0109 - mse: 1.2049e-04 - mae: 0.0090 - mape: 3.3116 - val_loss: 0.0103 - val_mse: 1.0545e-04 - val_mae: 0.0084 - val_mape: 4.5823\n",
            "Epoch 46/200\n",
            "44195/44195 [==============================] - 4s 87us/step - loss: 0.0095 - mse: 9.7456e-05 - mae: 0.0078 - mape: 3.5748 - val_loss: 0.0118 - val_mse: 1.3906e-04 - val_mae: 0.0090 - val_mape: 3.8586\n",
            "Epoch 47/200\n",
            "44195/44195 [==============================] - 4s 86us/step - loss: 0.0065 - mse: 4.3920e-05 - mae: 0.0051 - mape: 2.4253 - val_loss: 0.0074 - val_mse: 5.4324e-05 - val_mae: 0.0060 - val_mape: 3.2089\n",
            "Epoch 48/200\n",
            "44195/44195 [==============================] - 4s 87us/step - loss: 0.0074 - mse: 6.4983e-05 - mae: 0.0058 - mape: 2.8349 - val_loss: 0.0081 - val_mse: 6.6112e-05 - val_mae: 0.0065 - val_mape: 5.1896\n",
            "Epoch 49/200\n",
            "44195/44195 [==============================] - 4s 87us/step - loss: 0.0116 - mse: 1.4588e-04 - mae: 0.0090 - mape: 3.3638 - val_loss: 0.0118 - val_mse: 1.4043e-04 - val_mae: 0.0087 - val_mape: 4.5800\n",
            "Epoch 50/200\n",
            "44195/44195 [==============================] - 4s 88us/step - loss: 0.0112 - mse: 1.3875e-04 - mae: 0.0091 - mape: 4.0778 - val_loss: 0.0158 - val_mse: 2.4944e-04 - val_mae: 0.0124 - val_mape: 3.9244\n",
            "Epoch 51/200\n",
            "44195/44195 [==============================] - 4s 87us/step - loss: 0.0114 - mse: 1.3796e-04 - mae: 0.0096 - mape: 3.4011 - val_loss: 0.0117 - val_mse: 1.3746e-04 - val_mae: 0.0097 - val_mape: 4.0486\n",
            "Epoch 52/200\n",
            "44195/44195 [==============================] - 4s 87us/step - loss: 0.0105 - mse: 1.1349e-04 - mae: 0.0087 - mape: 3.2354 - val_loss: 0.0104 - val_mse: 1.0825e-04 - val_mae: 0.0085 - val_mape: 4.1901\n",
            "Epoch 53/200\n",
            "44195/44195 [==============================] - 4s 87us/step - loss: 0.0083 - mse: 7.4426e-05 - mae: 0.0068 - mape: 2.5072 - val_loss: 0.0060 - val_mse: 3.5434e-05 - val_mae: 0.0047 - val_mape: 3.8402\n",
            "Epoch 54/200\n",
            "44195/44195 [==============================] - 4s 87us/step - loss: 0.0064 - mse: 4.2542e-05 - mae: 0.0052 - mape: 2.4065 - val_loss: 0.0090 - val_mse: 8.1380e-05 - val_mae: 0.0068 - val_mape: 3.5964\n",
            "Epoch 55/200\n",
            "44195/44195 [==============================] - 4s 87us/step - loss: 0.0064 - mse: 4.2421e-05 - mae: 0.0051 - mape: 2.4977 - val_loss: 0.0078 - val_mse: 6.0704e-05 - val_mae: 0.0061 - val_mape: 3.2603\n",
            "Epoch 56/200\n",
            "44195/44195 [==============================] - 4s 87us/step - loss: 0.0063 - mse: 4.0947e-05 - mae: 0.0050 - mape: 2.3863 - val_loss: 0.0103 - val_mse: 1.0591e-04 - val_mae: 0.0085 - val_mape: 4.6843\n",
            "Epoch 57/200\n",
            "44195/44195 [==============================] - 4s 86us/step - loss: 0.0067 - mse: 4.6474e-05 - mae: 0.0054 - mape: 2.4868 - val_loss: 0.0063 - val_mse: 3.9112e-05 - val_mae: 0.0050 - val_mape: 3.0772\n",
            "Epoch 58/200\n",
            "44195/44195 [==============================] - 4s 86us/step - loss: 0.0097 - mse: 1.0315e-04 - mae: 0.0081 - mape: 2.8313 - val_loss: 0.0103 - val_mse: 1.0512e-04 - val_mae: 0.0085 - val_mape: 3.0895\n",
            "Epoch 59/200\n",
            "44195/44195 [==============================] - 4s 87us/step - loss: 0.0105 - mse: 1.1234e-04 - mae: 0.0087 - mape: 2.8228 - val_loss: 0.0123 - val_mse: 1.5196e-04 - val_mae: 0.0102 - val_mape: 3.4637\n",
            "Epoch 60/200\n",
            "44195/44195 [==============================] - 4s 87us/step - loss: 0.0101 - mse: 1.0395e-04 - mae: 0.0084 - mape: 3.5141 - val_loss: 0.0097 - val_mse: 9.3518e-05 - val_mae: 0.0077 - val_mape: 5.1426\n",
            "Epoch 61/200\n",
            "44195/44195 [==============================] - 4s 87us/step - loss: 0.0098 - mse: 9.7397e-05 - mae: 0.0080 - mape: 3.2098 - val_loss: 0.0099 - val_mse: 9.8223e-05 - val_mae: 0.0082 - val_mape: 5.8753\n",
            "Epoch 62/200\n",
            "44195/44195 [==============================] - 4s 87us/step - loss: 0.0095 - mse: 9.1309e-05 - mae: 0.0078 - mape: 3.3377 - val_loss: 0.0091 - val_mse: 8.3520e-05 - val_mae: 0.0078 - val_mape: 2.8745\n",
            "Epoch 63/200\n",
            "44195/44195 [==============================] - 4s 87us/step - loss: 0.0093 - mse: 8.7324e-05 - mae: 0.0076 - mape: 3.2817 - val_loss: 0.0099 - val_mse: 9.7850e-05 - val_mae: 0.0081 - val_mape: 4.7136\n",
            "Epoch 64/200\n",
            "44195/44195 [==============================] - 4s 88us/step - loss: 0.0090 - mse: 8.4377e-05 - mae: 0.0075 - mape: 3.0499 - val_loss: 0.0061 - val_mse: 3.6884e-05 - val_mae: 0.0049 - val_mape: 3.0646\n",
            "Epoch 65/200\n",
            "44195/44195 [==============================] - 4s 87us/step - loss: 0.0089 - mse: 8.1848e-05 - mae: 0.0074 - mape: 2.9011 - val_loss: 0.0093 - val_mse: 8.6747e-05 - val_mae: 0.0076 - val_mape: 4.5353\n",
            "Epoch 66/200\n",
            "44195/44195 [==============================] - 4s 87us/step - loss: 0.0125 - mse: 1.7153e-04 - mae: 0.0100 - mape: 3.7776 - val_loss: 0.0110 - val_mse: 1.2099e-04 - val_mae: 0.0082 - val_mape: 2.8751\n",
            "Epoch 67/200\n",
            "44195/44195 [==============================] - 4s 87us/step - loss: 0.0134 - mse: 1.9377e-04 - mae: 0.0098 - mape: 3.6774 - val_loss: 0.0181 - val_mse: 3.2675e-04 - val_mae: 0.0128 - val_mape: 5.0924\n",
            "Epoch 68/200\n",
            "44195/44195 [==============================] - 4s 88us/step - loss: 0.0106 - mse: 1.3238e-04 - mae: 0.0078 - mape: 3.0728 - val_loss: 0.0053 - val_mse: 2.8609e-05 - val_mae: 0.0042 - val_mape: 3.6824\n",
            "Epoch 69/200\n",
            "44195/44195 [==============================] - 4s 87us/step - loss: 0.0071 - mse: 5.7730e-05 - mae: 0.0059 - mape: 2.4702 - val_loss: 0.0112 - val_mse: 1.2558e-04 - val_mae: 0.0095 - val_mape: 4.9904\n",
            "Epoch 70/200\n",
            "44195/44195 [==============================] - 4s 88us/step - loss: 0.0063 - mse: 4.2460e-05 - mae: 0.0051 - mape: 2.4312 - val_loss: 0.0053 - val_mse: 2.8310e-05 - val_mae: 0.0042 - val_mape: 2.0554\n",
            "Epoch 71/200\n",
            "44195/44195 [==============================] - 4s 87us/step - loss: 0.0075 - mse: 6.5785e-05 - mae: 0.0057 - mape: 2.3560 - val_loss: 0.0103 - val_mse: 1.0552e-04 - val_mae: 0.0077 - val_mape: 4.5396\n",
            "Epoch 72/200\n",
            "44195/44195 [==============================] - 4s 87us/step - loss: 0.0120 - mse: 1.4937e-04 - mae: 0.0090 - mape: 3.5106 - val_loss: 0.0094 - val_mse: 8.8709e-05 - val_mae: 0.0075 - val_mape: 3.3443\n",
            "Epoch 73/200\n",
            "44195/44195 [==============================] - 4s 87us/step - loss: 0.0112 - mse: 1.3258e-04 - mae: 0.0085 - mape: 3.4636 - val_loss: 0.0091 - val_mse: 8.2916e-05 - val_mae: 0.0070 - val_mape: 3.8475\n",
            "Epoch 74/200\n",
            "44195/44195 [==============================] - 4s 87us/step - loss: 0.0111 - mse: 1.2560e-04 - mae: 0.0091 - mape: 3.5090 - val_loss: 0.0094 - val_mse: 8.8981e-05 - val_mae: 0.0075 - val_mape: 4.4271\n",
            "Epoch 75/200\n",
            "44195/44195 [==============================] - 4s 88us/step - loss: 0.0108 - mse: 1.2070e-04 - mae: 0.0091 - mape: 4.0912 - val_loss: 0.0094 - val_mse: 8.8359e-05 - val_mae: 0.0072 - val_mape: 4.0833\n",
            "Epoch 76/200\n",
            "44195/44195 [==============================] - 4s 87us/step - loss: 0.0100 - mse: 1.0197e-04 - mae: 0.0081 - mape: 2.6664 - val_loss: 0.0116 - val_mse: 1.3566e-04 - val_mae: 0.0101 - val_mape: 3.0953\n",
            "Epoch 77/200\n",
            "44195/44195 [==============================] - 4s 87us/step - loss: 0.0098 - mse: 9.7906e-05 - mae: 0.0085 - mape: 2.6216 - val_loss: 0.0094 - val_mse: 8.7515e-05 - val_mae: 0.0081 - val_mape: 2.9306\n",
            "Epoch 78/200\n",
            "44195/44195 [==============================] - 4s 87us/step - loss: 0.0096 - mse: 9.3281e-05 - mae: 0.0083 - mape: 2.2299 - val_loss: 0.0102 - val_mse: 1.0457e-04 - val_mae: 0.0087 - val_mape: 3.7857\n",
            "Epoch 79/200\n",
            "44195/44195 [==============================] - 4s 87us/step - loss: 0.0094 - mse: 8.9536e-05 - mae: 0.0080 - mape: 2.6333 - val_loss: 0.0100 - val_mse: 1.0021e-04 - val_mae: 0.0087 - val_mape: 2.8233\n",
            "Epoch 80/200\n",
            "44195/44195 [==============================] - 4s 87us/step - loss: 0.0092 - mse: 8.5349e-05 - mae: 0.0077 - mape: 2.7063 - val_loss: 0.0076 - val_mse: 5.8041e-05 - val_mae: 0.0062 - val_mape: 2.5824\n",
            "Epoch 81/200\n",
            "44195/44195 [==============================] - 4s 87us/step - loss: 0.0088 - mse: 8.0043e-05 - mae: 0.0074 - mape: 2.8991 - val_loss: 0.0056 - val_mse: 3.1665e-05 - val_mae: 0.0046 - val_mape: 2.2547\n",
            "Epoch 82/200\n",
            "44195/44195 [==============================] - 4s 86us/step - loss: 0.0093 - mse: 9.7318e-05 - mae: 0.0076 - mape: 2.8983 - val_loss: 0.0072 - val_mse: 5.2287e-05 - val_mae: 0.0058 - val_mape: 2.3905\n",
            "Epoch 83/200\n",
            "44195/44195 [==============================] - 4s 86us/step - loss: 0.0087 - mse: 8.5354e-05 - mae: 0.0072 - mape: 2.6842 - val_loss: 0.0115 - val_mse: 1.3302e-04 - val_mae: 0.0098 - val_mape: 4.8745\n",
            "Epoch 84/200\n",
            "44195/44195 [==============================] - 4s 86us/step - loss: 0.0103 - mse: 1.0792e-04 - mae: 0.0082 - mape: 2.8377 - val_loss: 0.0097 - val_mse: 9.4248e-05 - val_mae: 0.0076 - val_mape: 3.0548\n",
            "Epoch 85/200\n",
            "44195/44195 [==============================] - 4s 87us/step - loss: 0.0103 - mse: 1.0845e-04 - mae: 0.0083 - mape: 3.4106 - val_loss: 0.0116 - val_mse: 1.3412e-04 - val_mae: 0.0087 - val_mape: 5.4122\n",
            "Epoch 86/200\n",
            "44195/44195 [==============================] - 4s 86us/step - loss: 0.0099 - mse: 1.0249e-04 - mae: 0.0075 - mape: 3.0183 - val_loss: 0.0120 - val_mse: 1.4403e-04 - val_mae: 0.0089 - val_mape: 3.7857\n",
            "Epoch 87/200\n",
            "44195/44195 [==============================] - 4s 87us/step - loss: 0.0091 - mse: 8.5961e-05 - mae: 0.0075 - mape: 2.8482 - val_loss: 0.0065 - val_mse: 4.2105e-05 - val_mae: 0.0053 - val_mape: 2.7323\n",
            "Epoch 88/200\n",
            "44195/44195 [==============================] - 4s 87us/step - loss: 0.0058 - mse: 3.8211e-05 - mae: 0.0048 - mape: 2.1272 - val_loss: 0.0071 - val_mse: 5.0815e-05 - val_mae: 0.0059 - val_mape: 2.3941\n",
            "Epoch 89/200\n",
            "44195/44195 [==============================] - 4s 87us/step - loss: 0.0054 - mse: 3.0417e-05 - mae: 0.0044 - mape: 2.1127 - val_loss: 0.0080 - val_mse: 6.4051e-05 - val_mae: 0.0066 - val_mape: 3.2910\n",
            "Epoch 90/200\n",
            "44195/44195 [==============================] - 4s 87us/step - loss: 0.0053 - mse: 2.9401e-05 - mae: 0.0043 - mape: 2.1363 - val_loss: 0.0061 - val_mse: 3.7047e-05 - val_mae: 0.0047 - val_mape: 1.9080\n",
            "Epoch 91/200\n",
            "44195/44195 [==============================] - 4s 88us/step - loss: 0.0054 - mse: 3.1093e-05 - mae: 0.0044 - mape: 2.0111 - val_loss: 0.0055 - val_mse: 3.0773e-05 - val_mae: 0.0043 - val_mape: 2.9413\n",
            "Epoch 92/200\n",
            "44195/44195 [==============================] - 4s 87us/step - loss: 0.0073 - mse: 6.1432e-05 - mae: 0.0061 - mape: 2.4710 - val_loss: 0.0066 - val_mse: 4.3077e-05 - val_mae: 0.0055 - val_mape: 3.7931\n",
            "Epoch 93/200\n",
            "44195/44195 [==============================] - 4s 87us/step - loss: 0.0095 - mse: 1.1201e-04 - mae: 0.0076 - mape: 2.7788 - val_loss: 0.0233 - val_mse: 5.4309e-04 - val_mae: 0.0170 - val_mape: 4.5088\n",
            "Epoch 94/200\n",
            "44195/44195 [==============================] - 4s 88us/step - loss: 0.0163 - mse: 2.9036e-04 - mae: 0.0135 - mape: 4.4829 - val_loss: 0.0228 - val_mse: 5.1951e-04 - val_mae: 0.0199 - val_mape: 6.4115\n",
            "Epoch 95/200\n",
            "44195/44195 [==============================] - 4s 87us/step - loss: 0.0153 - mse: 2.5583e-04 - mae: 0.0128 - mape: 4.3593 - val_loss: 0.0145 - val_mse: 2.1054e-04 - val_mae: 0.0116 - val_mape: 4.2689\n",
            "Epoch 96/200\n",
            "44195/44195 [==============================] - 4s 87us/step - loss: 0.0145 - mse: 2.2781e-04 - mae: 0.0119 - mape: 4.3594 - val_loss: 0.0125 - val_mse: 1.5577e-04 - val_mae: 0.0103 - val_mape: 5.9832\n",
            "Epoch 97/200\n",
            "44195/44195 [==============================] - 4s 88us/step - loss: 0.0139 - mse: 2.1090e-04 - mae: 0.0114 - mape: 4.0391 - val_loss: 0.0175 - val_mse: 3.0710e-04 - val_mae: 0.0145 - val_mape: 5.6483\n",
            "Epoch 98/200\n",
            "44195/44195 [==============================] - 4s 87us/step - loss: 0.0135 - mse: 1.9815e-04 - mae: 0.0109 - mape: 4.4229 - val_loss: 0.0069 - val_mse: 4.7242e-05 - val_mae: 0.0054 - val_mape: 2.8644\n",
            "Epoch 99/200\n",
            "44195/44195 [==============================] - 4s 88us/step - loss: 0.0129 - mse: 1.8409e-04 - mae: 0.0105 - mape: 4.8796 - val_loss: 0.0108 - val_mse: 1.1621e-04 - val_mae: 0.0088 - val_mape: 3.3810\n",
            "Epoch 100/200\n",
            "44195/44195 [==============================] - 4s 87us/step - loss: 0.0126 - mse: 1.7146e-04 - mae: 0.0102 - mape: 4.1941 - val_loss: 0.0175 - val_mse: 3.0559e-04 - val_mae: 0.0140 - val_mape: 7.3695\n",
            "Epoch 101/200\n",
            "44195/44195 [==============================] - 4s 87us/step - loss: 0.0123 - mse: 1.6512e-04 - mae: 0.0102 - mape: 3.8223 - val_loss: 0.0113 - val_mse: 1.2848e-04 - val_mae: 0.0092 - val_mape: 3.4733\n",
            "Epoch 102/200\n",
            "44195/44195 [==============================] - 4s 88us/step - loss: 0.0119 - mse: 1.5536e-04 - mae: 0.0097 - mape: 3.9475 - val_loss: 0.0130 - val_mse: 1.7028e-04 - val_mae: 0.0106 - val_mape: 5.3293\n",
            "Epoch 103/200\n",
            "44195/44195 [==============================] - 4s 87us/step - loss: 0.0119 - mse: 1.5189e-04 - mae: 0.0095 - mape: 4.1024 - val_loss: 0.0133 - val_mse: 1.7718e-04 - val_mae: 0.0108 - val_mape: 4.9708\n",
            "Epoch 104/200\n",
            "44195/44195 [==============================] - 4s 88us/step - loss: 0.0114 - mse: 1.4148e-04 - mae: 0.0092 - mape: 3.3570 - val_loss: 0.0092 - val_mse: 8.4546e-05 - val_mae: 0.0075 - val_mape: 4.7005\n",
            "Epoch 105/200\n",
            "44195/44195 [==============================] - 4s 88us/step - loss: 0.0112 - mse: 1.3620e-04 - mae: 0.0092 - mape: 3.5483 - val_loss: 0.0122 - val_mse: 1.4802e-04 - val_mae: 0.0109 - val_mape: 3.7667\n",
            "Epoch 106/200\n",
            "44195/44195 [==============================] - 4s 88us/step - loss: 0.0109 - mse: 1.2993e-04 - mae: 0.0091 - mape: 3.3724 - val_loss: 0.0134 - val_mse: 1.7824e-04 - val_mae: 0.0108 - val_mape: 4.8133\n",
            "Epoch 107/200\n",
            "44195/44195 [==============================] - 4s 88us/step - loss: 0.0110 - mse: 1.3145e-04 - mae: 0.0089 - mape: 3.9008 - val_loss: 0.0083 - val_mse: 6.8790e-05 - val_mae: 0.0067 - val_mape: 3.5571\n",
            "Epoch 108/200\n",
            "44195/44195 [==============================] - 4s 87us/step - loss: 0.0105 - mse: 1.1948e-04 - mae: 0.0088 - mape: 3.1265 - val_loss: 0.0120 - val_mse: 1.4512e-04 - val_mae: 0.0109 - val_mape: 4.7594\n",
            "Epoch 109/200\n",
            "44195/44195 [==============================] - 4s 87us/step - loss: 0.0118 - mse: 1.5375e-04 - mae: 0.0094 - mape: 3.8043 - val_loss: 0.0083 - val_mse: 6.9315e-05 - val_mae: 0.0066 - val_mape: 3.1857\n",
            "Epoch 110/200\n",
            "44195/44195 [==============================] - 4s 87us/step - loss: 0.0119 - mse: 1.5204e-04 - mae: 0.0089 - mape: 3.0029 - val_loss: 0.0127 - val_mse: 1.6138e-04 - val_mae: 0.0087 - val_mape: 3.6531\n",
            "Epoch 111/200\n",
            "44195/44195 [==============================] - 4s 87us/step - loss: 0.0113 - mse: 1.3069e-04 - mae: 0.0081 - mape: 2.9612 - val_loss: 0.0070 - val_mse: 4.8485e-05 - val_mae: 0.0052 - val_mape: 2.7679\n",
            "Epoch 112/200\n",
            "44195/44195 [==============================] - 4s 86us/step - loss: 0.0106 - mse: 1.2058e-04 - mae: 0.0076 - mape: 3.1482 - val_loss: 0.0121 - val_mse: 1.4753e-04 - val_mae: 0.0085 - val_mape: 3.7486\n",
            "Epoch 113/200\n",
            "44195/44195 [==============================] - 4s 86us/step - loss: 0.0101 - mse: 1.0743e-04 - mae: 0.0071 - mape: 2.9183 - val_loss: 0.0043 - val_mse: 1.8756e-05 - val_mae: 0.0034 - val_mape: 2.4704\n",
            "Epoch 114/200\n",
            "44195/44195 [==============================] - 4s 86us/step - loss: 0.0097 - mse: 1.0149e-04 - mae: 0.0075 - mape: 2.5060 - val_loss: 0.0071 - val_mse: 5.0788e-05 - val_mae: 0.0053 - val_mape: 2.7312\n",
            "Epoch 115/200\n",
            "44195/44195 [==============================] - 4s 87us/step - loss: 0.0093 - mse: 9.4968e-05 - mae: 0.0067 - mape: 2.8088 - val_loss: 0.0038 - val_mse: 1.4754e-05 - val_mae: 0.0030 - val_mape: 2.7904\n",
            "Epoch 116/200\n",
            "44195/44195 [==============================] - 4s 87us/step - loss: 0.0089 - mse: 8.7383e-05 - mae: 0.0066 - mape: 2.2715 - val_loss: 0.0084 - val_mse: 7.0783e-05 - val_mae: 0.0063 - val_mape: 2.9287\n",
            "Epoch 117/200\n",
            "44195/44195 [==============================] - 4s 87us/step - loss: 0.0089 - mse: 8.2630e-05 - mae: 0.0065 - mape: 2.8476 - val_loss: 0.0080 - val_mse: 6.4629e-05 - val_mae: 0.0062 - val_mape: 2.9766\n",
            "Epoch 118/200\n",
            "44195/44195 [==============================] - 4s 87us/step - loss: 0.0086 - mse: 7.8446e-05 - mae: 0.0062 - mape: 2.2200 - val_loss: 0.0063 - val_mse: 3.9398e-05 - val_mae: 0.0051 - val_mape: 3.2676\n",
            "Epoch 119/200\n",
            "44195/44195 [==============================] - 4s 87us/step - loss: 0.0084 - mse: 7.2431e-05 - mae: 0.0065 - mape: 2.2949 - val_loss: 0.0070 - val_mse: 4.8525e-05 - val_mae: 0.0056 - val_mape: 2.8186\n",
            "Epoch 120/200\n",
            "44195/44195 [==============================] - 4s 87us/step - loss: 0.0083 - mse: 7.1147e-05 - mae: 0.0063 - mape: 2.3513 - val_loss: 0.0105 - val_mse: 1.1090e-04 - val_mae: 0.0080 - val_mape: 4.0844\n",
            "Epoch 121/200\n",
            "44195/44195 [==============================] - 4s 87us/step - loss: 0.0080 - mse: 6.6920e-05 - mae: 0.0061 - mape: 2.7576 - val_loss: 0.0088 - val_mse: 7.7307e-05 - val_mae: 0.0073 - val_mape: 2.5338\n",
            "Epoch 122/200\n",
            "44195/44195 [==============================] - 4s 87us/step - loss: 0.0074 - mse: 5.5117e-05 - mae: 0.0061 - mape: 2.1065 - val_loss: 0.0086 - val_mse: 7.3352e-05 - val_mae: 0.0074 - val_mape: 3.1166\n",
            "Epoch 123/200\n",
            "44195/44195 [==============================] - 4s 86us/step - loss: 0.0073 - mse: 5.4248e-05 - mae: 0.0061 - mape: 2.0934 - val_loss: 0.0067 - val_mse: 4.5496e-05 - val_mae: 0.0053 - val_mape: 2.4966\n",
            "Epoch 124/200\n",
            "44195/44195 [==============================] - 4s 87us/step - loss: 0.0069 - mse: 4.9350e-05 - mae: 0.0057 - mape: 2.1694 - val_loss: 0.0116 - val_mse: 1.3570e-04 - val_mae: 0.0101 - val_mape: 4.0856\n",
            "Epoch 125/200\n",
            "44195/44195 [==============================] - 4s 86us/step - loss: 0.0073 - mse: 6.3881e-05 - mae: 0.0061 - mape: 2.3910 - val_loss: 0.0052 - val_mse: 2.7397e-05 - val_mae: 0.0042 - val_mape: 2.4101\n",
            "Epoch 126/200\n",
            "44195/44195 [==============================] - 4s 86us/step - loss: 0.0065 - mse: 4.5325e-05 - mae: 0.0055 - mape: 2.0682 - val_loss: 0.0039 - val_mse: 1.5601e-05 - val_mae: 0.0031 - val_mape: 1.8789\n",
            "Epoch 127/200\n",
            "44195/44195 [==============================] - 4s 86us/step - loss: 0.0080 - mse: 6.8809e-05 - mae: 0.0064 - mape: 2.4808 - val_loss: 0.0076 - val_mse: 5.7584e-05 - val_mae: 0.0064 - val_mape: 2.9565\n",
            "Epoch 128/200\n",
            "44195/44195 [==============================] - 4s 87us/step - loss: 0.0083 - mse: 7.1840e-05 - mae: 0.0063 - mape: 2.6372 - val_loss: 0.0085 - val_mse: 7.2198e-05 - val_mae: 0.0063 - val_mape: 2.7563\n",
            "Epoch 129/200\n",
            "44195/44195 [==============================] - 4s 87us/step - loss: 0.0082 - mse: 6.8969e-05 - mae: 0.0062 - mape: 2.4305 - val_loss: 0.0108 - val_mse: 1.1757e-04 - val_mae: 0.0085 - val_mape: 3.3673\n",
            "Epoch 130/200\n",
            "44195/44195 [==============================] - 4s 86us/step - loss: 0.0076 - mse: 6.1006e-05 - mae: 0.0063 - mape: 2.1800 - val_loss: 0.0089 - val_mse: 7.8861e-05 - val_mae: 0.0073 - val_mape: 3.2369\n",
            "Epoch 131/200\n",
            "44195/44195 [==============================] - 4s 86us/step - loss: 0.0071 - mse: 5.1981e-05 - mae: 0.0059 - mape: 2.1012 - val_loss: 0.0073 - val_mse: 5.2629e-05 - val_mae: 0.0059 - val_mape: 2.5194\n",
            "Epoch 132/200\n",
            "44195/44195 [==============================] - 4s 86us/step - loss: 0.0069 - mse: 4.8177e-05 - mae: 0.0058 - mape: 2.3520 - val_loss: 0.0080 - val_mse: 6.4394e-05 - val_mae: 0.0067 - val_mape: 2.5532\n",
            "Epoch 133/200\n",
            "44195/44195 [==============================] - 4s 86us/step - loss: 0.0068 - mse: 4.7126e-05 - mae: 0.0055 - mape: 2.1245 - val_loss: 0.0062 - val_mse: 3.8545e-05 - val_mae: 0.0053 - val_mape: 2.1100\n",
            "Epoch 134/200\n",
            "44195/44195 [==============================] - 4s 86us/step - loss: 0.0066 - mse: 4.3963e-05 - mae: 0.0054 - mape: 1.9823 - val_loss: 0.0072 - val_mse: 5.2165e-05 - val_mae: 0.0059 - val_mape: 3.5135\n",
            "Epoch 135/200\n",
            "44195/44195 [==============================] - 4s 85us/step - loss: 0.0065 - mse: 4.2216e-05 - mae: 0.0052 - mape: 2.1767 - val_loss: 0.0070 - val_mse: 4.9478e-05 - val_mae: 0.0057 - val_mape: 3.0944\n",
            "Epoch 136/200\n",
            "44195/44195 [==============================] - 4s 86us/step - loss: 0.0063 - mse: 4.0434e-05 - mae: 0.0051 - mape: 2.1052 - val_loss: 0.0071 - val_mse: 5.0572e-05 - val_mae: 0.0057 - val_mape: 2.5358\n",
            "Epoch 137/200\n",
            "44195/44195 [==============================] - 4s 87us/step - loss: 0.0062 - mse: 3.9184e-05 - mae: 0.0050 - mape: 2.2958 - val_loss: 0.0072 - val_mse: 5.2518e-05 - val_mae: 0.0059 - val_mape: 2.8979\n",
            "Epoch 138/200\n",
            "44195/44195 [==============================] - 4s 87us/step - loss: 0.0058 - mse: 3.5821e-05 - mae: 0.0048 - mape: 2.0601 - val_loss: 0.0085 - val_mse: 7.2160e-05 - val_mae: 0.0074 - val_mape: 2.5060\n",
            "Epoch 139/200\n",
            "44195/44195 [==============================] - 4s 87us/step - loss: 0.0085 - mse: 8.1212e-05 - mae: 0.0065 - mape: 2.2132 - val_loss: 0.0041 - val_mse: 1.6825e-05 - val_mae: 0.0032 - val_mape: 2.5514\n",
            "Epoch 140/200\n",
            "44195/44195 [==============================] - 4s 86us/step - loss: 0.0087 - mse: 7.8719e-05 - mae: 0.0065 - mape: 2.1801 - val_loss: 0.0117 - val_mse: 1.3634e-04 - val_mae: 0.0078 - val_mape: 2.9381\n",
            "Epoch 141/200\n",
            "44195/44195 [==============================] - 4s 87us/step - loss: 0.0087 - mse: 7.9555e-05 - mae: 0.0062 - mape: 2.4255 - val_loss: 0.0077 - val_mse: 5.8955e-05 - val_mae: 0.0056 - val_mape: 4.3426\n",
            "Epoch 142/200\n",
            "44195/44195 [==============================] - 4s 86us/step - loss: 0.0084 - mse: 7.2849e-05 - mae: 0.0060 - mape: 2.1049 - val_loss: 0.0105 - val_mse: 1.1119e-04 - val_mae: 0.0075 - val_mape: 3.1989\n",
            "Epoch 143/200\n",
            "44195/44195 [==============================] - 4s 86us/step - loss: 0.0081 - mse: 6.8738e-05 - mae: 0.0059 - mape: 2.3339 - val_loss: 0.0109 - val_mse: 1.1785e-04 - val_mae: 0.0077 - val_mape: 2.9381\n",
            "Epoch 144/200\n",
            "44195/44195 [==============================] - 4s 87us/step - loss: 0.0079 - mse: 6.4656e-05 - mae: 0.0057 - mape: 2.4630 - val_loss: 0.0099 - val_mse: 9.7938e-05 - val_mae: 0.0074 - val_mape: 2.7615\n",
            "Epoch 145/200\n",
            "44195/44195 [==============================] - 4s 86us/step - loss: 0.0071 - mse: 5.6020e-05 - mae: 0.0057 - mape: 2.3080 - val_loss: 0.0091 - val_mse: 8.3182e-05 - val_mae: 0.0083 - val_mape: 3.7724\n",
            "Epoch 146/200\n",
            "44195/44195 [==============================] - 4s 86us/step - loss: 0.0076 - mse: 5.8977e-05 - mae: 0.0061 - mape: 1.8929 - val_loss: 0.0065 - val_mse: 4.2361e-05 - val_mae: 0.0053 - val_mape: 2.4108\n",
            "Epoch 147/200\n",
            "44195/44195 [==============================] - 4s 86us/step - loss: 0.0073 - mse: 5.7214e-05 - mae: 0.0060 - mape: 2.3074 - val_loss: 0.0091 - val_mse: 8.2978e-05 - val_mae: 0.0069 - val_mape: 3.4418\n",
            "Epoch 148/200\n",
            "44195/44195 [==============================] - 4s 86us/step - loss: 0.0075 - mse: 5.9362e-05 - mae: 0.0056 - mape: 2.0900 - val_loss: 0.0096 - val_mse: 9.2413e-05 - val_mae: 0.0071 - val_mape: 2.6494\n",
            "Epoch 149/200\n",
            "44195/44195 [==============================] - 4s 87us/step - loss: 0.0072 - mse: 5.4316e-05 - mae: 0.0061 - mape: 2.2513 - val_loss: 0.0070 - val_mse: 4.8458e-05 - val_mae: 0.0056 - val_mape: 1.8575\n",
            "Epoch 150/200\n",
            "44195/44195 [==============================] - 4s 87us/step - loss: 0.0068 - mse: 4.7352e-05 - mae: 0.0058 - mape: 2.0110 - val_loss: 0.0064 - val_mse: 4.1124e-05 - val_mae: 0.0052 - val_mape: 2.7908\n",
            "Epoch 151/200\n",
            "44195/44195 [==============================] - 4s 87us/step - loss: 0.0067 - mse: 4.8456e-05 - mae: 0.0056 - mape: 1.9803 - val_loss: 0.0058 - val_mse: 3.3876e-05 - val_mae: 0.0050 - val_mape: 1.9846\n",
            "Epoch 152/200\n",
            "44195/44195 [==============================] - 4s 86us/step - loss: 0.0065 - mse: 4.3004e-05 - mae: 0.0054 - mape: 1.7712 - val_loss: 0.0074 - val_mse: 5.4417e-05 - val_mae: 0.0058 - val_mape: 2.8775\n",
            "Epoch 153/200\n",
            "44195/44195 [==============================] - 4s 87us/step - loss: 0.0063 - mse: 4.1904e-05 - mae: 0.0052 - mape: 1.8538 - val_loss: 0.0062 - val_mse: 3.8246e-05 - val_mae: 0.0053 - val_mape: 2.2217\n",
            "Epoch 154/200\n",
            "44195/44195 [==============================] - 4s 87us/step - loss: 0.0076 - mse: 6.9722e-05 - mae: 0.0061 - mape: 2.1037 - val_loss: 0.0074 - val_mse: 5.4646e-05 - val_mae: 0.0052 - val_mape: 2.5159\n",
            "Epoch 155/200\n",
            "44195/44195 [==============================] - 4s 87us/step - loss: 0.0078 - mse: 6.3905e-05 - mae: 0.0056 - mape: 1.9872 - val_loss: 0.0052 - val_mse: 2.7491e-05 - val_mae: 0.0041 - val_mape: 2.1207\n",
            "Epoch 156/200\n",
            "44195/44195 [==============================] - 4s 86us/step - loss: 0.0077 - mse: 6.1510e-05 - mae: 0.0056 - mape: 2.0144 - val_loss: 0.0085 - val_mse: 7.3067e-05 - val_mae: 0.0061 - val_mape: 3.3943\n",
            "Epoch 157/200\n",
            "44195/44195 [==============================] - 4s 86us/step - loss: 0.0075 - mse: 5.7711e-05 - mae: 0.0056 - mape: 2.2205 - val_loss: 0.0103 - val_mse: 1.0593e-04 - val_mae: 0.0078 - val_mape: 3.3415\n",
            "Epoch 158/200\n",
            "44195/44195 [==============================] - 4s 86us/step - loss: 0.0073 - mse: 5.5432e-05 - mae: 0.0058 - mape: 2.0414 - val_loss: 0.0087 - val_mse: 7.6054e-05 - val_mae: 0.0066 - val_mape: 3.5519\n",
            "Epoch 159/200\n",
            "44195/44195 [==============================] - 4s 87us/step - loss: 0.0068 - mse: 4.8932e-05 - mae: 0.0057 - mape: 1.9586 - val_loss: 0.0054 - val_mse: 2.8683e-05 - val_mae: 0.0046 - val_mape: 1.6043\n",
            "Epoch 160/200\n",
            "44195/44195 [==============================] - 4s 86us/step - loss: 0.0065 - mse: 4.5513e-05 - mae: 0.0055 - mape: 2.0361 - val_loss: 0.0052 - val_mse: 2.6786e-05 - val_mae: 0.0041 - val_mape: 3.0332\n",
            "Epoch 161/200\n",
            "44195/44195 [==============================] - 4s 87us/step - loss: 0.0064 - mse: 4.1975e-05 - mae: 0.0052 - mape: 2.0056 - val_loss: 0.0059 - val_mse: 3.5004e-05 - val_mae: 0.0051 - val_mape: 2.5558\n",
            "Epoch 162/200\n",
            "44195/44195 [==============================] - 4s 88us/step - loss: 0.0063 - mse: 3.9999e-05 - mae: 0.0051 - mape: 1.8229 - val_loss: 0.0071 - val_mse: 5.1092e-05 - val_mae: 0.0057 - val_mape: 2.0345\n",
            "Epoch 163/200\n",
            "44195/44195 [==============================] - 4s 85us/step - loss: 0.0064 - mse: 4.4751e-05 - mae: 0.0052 - mape: 1.9230 - val_loss: 0.0040 - val_mse: 1.6078e-05 - val_mae: 0.0032 - val_mape: 2.3585\n",
            "Epoch 164/200\n",
            "44195/44195 [==============================] - 4s 86us/step - loss: 0.0045 - mse: 2.2740e-05 - mae: 0.0037 - mape: 1.6873 - val_loss: 0.0047 - val_mse: 2.1796e-05 - val_mae: 0.0038 - val_mape: 2.5558\n",
            "Epoch 165/200\n",
            "44195/44195 [==============================] - 4s 87us/step - loss: 0.0064 - mse: 4.4737e-05 - mae: 0.0054 - mape: 1.9676 - val_loss: 0.0124 - val_mse: 1.5440e-04 - val_mae: 0.0095 - val_mape: 2.6193\n",
            "Epoch 166/200\n",
            "44195/44195 [==============================] - 4s 86us/step - loss: 0.0080 - mse: 6.7948e-05 - mae: 0.0058 - mape: 1.8187 - val_loss: 0.0061 - val_mse: 3.6671e-05 - val_mae: 0.0044 - val_mape: 1.7186\n",
            "Epoch 167/200\n",
            "44195/44195 [==============================] - 4s 86us/step - loss: 0.0076 - mse: 6.2281e-05 - mae: 0.0054 - mape: 2.0052 - val_loss: 0.0060 - val_mse: 3.5501e-05 - val_mae: 0.0045 - val_mape: 3.0141\n",
            "Epoch 168/200\n",
            "44195/44195 [==============================] - 4s 86us/step - loss: 0.0069 - mse: 5.3155e-05 - mae: 0.0052 - mape: 1.7565 - val_loss: 0.0047 - val_mse: 2.2403e-05 - val_mae: 0.0037 - val_mape: 3.0324\n",
            "Epoch 169/200\n",
            "44195/44195 [==============================] - 4s 87us/step - loss: 0.0070 - mse: 5.3719e-05 - mae: 0.0058 - mape: 2.0386 - val_loss: 0.0055 - val_mse: 3.0616e-05 - val_mae: 0.0046 - val_mape: 2.5172\n",
            "Epoch 170/200\n",
            "44195/44195 [==============================] - 4s 87us/step - loss: 0.0073 - mse: 5.5275e-05 - mae: 0.0053 - mape: 2.0479 - val_loss: 0.0090 - val_mse: 8.1165e-05 - val_mae: 0.0066 - val_mape: 2.8125\n",
            "Epoch 171/200\n",
            "44195/44195 [==============================] - 4s 87us/step - loss: 0.0072 - mse: 5.3262e-05 - mae: 0.0053 - mape: 1.9669 - val_loss: 0.0075 - val_mse: 5.5591e-05 - val_mae: 0.0051 - val_mape: 3.1337\n",
            "Epoch 172/200\n",
            "44195/44195 [==============================] - 4s 86us/step - loss: 0.0070 - mse: 5.0723e-05 - mae: 0.0052 - mape: 2.0897 - val_loss: 0.0078 - val_mse: 6.0580e-05 - val_mae: 0.0058 - val_mape: 2.5532\n",
            "Epoch 173/200\n",
            "44195/44195 [==============================] - 4s 86us/step - loss: 0.0066 - mse: 4.7343e-05 - mae: 0.0056 - mape: 1.9103 - val_loss: 0.0075 - val_mse: 5.6281e-05 - val_mae: 0.0065 - val_mape: 1.9171\n",
            "Epoch 174/200\n",
            "44195/44195 [==============================] - 4s 85us/step - loss: 0.0066 - mse: 4.4607e-05 - mae: 0.0056 - mape: 1.8308 - val_loss: 0.0057 - val_mse: 3.2390e-05 - val_mae: 0.0047 - val_mape: 1.9063\n",
            "Epoch 175/200\n",
            "44195/44195 [==============================] - 4s 86us/step - loss: 0.0063 - mse: 4.1639e-05 - mae: 0.0052 - mape: 1.8369 - val_loss: 0.0064 - val_mse: 4.1041e-05 - val_mae: 0.0053 - val_mape: 2.1872\n",
            "Epoch 176/200\n",
            "44195/44195 [==============================] - 4s 88us/step - loss: 0.0062 - mse: 4.0015e-05 - mae: 0.0051 - mape: 1.9377 - val_loss: 0.0052 - val_mse: 2.7231e-05 - val_mae: 0.0041 - val_mape: 2.1701\n",
            "Epoch 177/200\n",
            "44195/44195 [==============================] - 4s 87us/step - loss: 0.0059 - mse: 3.7004e-05 - mae: 0.0048 - mape: 1.5915 - val_loss: 0.0065 - val_mse: 4.2383e-05 - val_mae: 0.0058 - val_mape: 2.2573\n",
            "Epoch 178/200\n",
            "44195/44195 [==============================] - 4s 87us/step - loss: 0.0073 - mse: 5.5270e-05 - mae: 0.0056 - mape: 1.9804 - val_loss: 0.0054 - val_mse: 2.8746e-05 - val_mae: 0.0043 - val_mape: 2.9731\n",
            "Epoch 179/200\n",
            "44195/44195 [==============================] - 4s 87us/step - loss: 0.0072 - mse: 5.5237e-05 - mae: 0.0052 - mape: 2.1119 - val_loss: 0.0043 - val_mse: 1.8557e-05 - val_mae: 0.0033 - val_mape: 1.9701\n",
            "Epoch 180/200\n",
            "44195/44195 [==============================] - 4s 87us/step - loss: 0.0070 - mse: 5.2354e-05 - mae: 0.0050 - mape: 1.8624 - val_loss: 0.0064 - val_mse: 4.1223e-05 - val_mae: 0.0051 - val_mape: 1.5940\n",
            "Epoch 181/200\n",
            "44195/44195 [==============================] - 4s 87us/step - loss: 0.0063 - mse: 4.0695e-05 - mae: 0.0052 - mape: 1.9738 - val_loss: 0.0056 - val_mse: 3.1146e-05 - val_mae: 0.0048 - val_mape: 1.5950\n",
            "Epoch 182/200\n",
            "44195/44195 [==============================] - 4s 87us/step - loss: 0.0061 - mse: 3.8236e-05 - mae: 0.0051 - mape: 1.6259 - val_loss: 0.0054 - val_mse: 2.8857e-05 - val_mae: 0.0045 - val_mape: 1.5819\n",
            "Epoch 183/200\n",
            "44195/44195 [==============================] - 4s 87us/step - loss: 0.0059 - mse: 3.5936e-05 - mae: 0.0048 - mape: 1.6023 - val_loss: 0.0062 - val_mse: 3.7882e-05 - val_mae: 0.0052 - val_mape: 2.2147\n",
            "Epoch 184/200\n",
            "44195/44195 [==============================] - 4s 88us/step - loss: 0.0058 - mse: 3.4667e-05 - mae: 0.0047 - mape: 1.6969 - val_loss: 0.0056 - val_mse: 3.0823e-05 - val_mae: 0.0045 - val_mape: 2.7118\n",
            "Epoch 185/200\n",
            "44195/44195 [==============================] - 4s 87us/step - loss: 0.0057 - mse: 3.2594e-05 - mae: 0.0046 - mape: 1.6272 - val_loss: 0.0056 - val_mse: 3.1442e-05 - val_mae: 0.0046 - val_mape: 2.3318\n",
            "Epoch 186/200\n",
            "44195/44195 [==============================] - 4s 89us/step - loss: 0.0056 - mse: 3.1808e-05 - mae: 0.0046 - mape: 1.8525 - val_loss: 0.0050 - val_mse: 2.5273e-05 - val_mae: 0.0042 - val_mape: 2.0723\n",
            "Epoch 187/200\n",
            "44195/44195 [==============================] - 4s 88us/step - loss: 0.0060 - mse: 3.8148e-05 - mae: 0.0050 - mape: 1.7606 - val_loss: 0.0097 - val_mse: 9.3659e-05 - val_mae: 0.0089 - val_mape: 3.3961\n",
            "Epoch 188/200\n",
            "44195/44195 [==============================] - 4s 87us/step - loss: 0.0074 - mse: 5.9609e-05 - mae: 0.0057 - mape: 2.1196 - val_loss: 0.0040 - val_mse: 1.6155e-05 - val_mae: 0.0033 - val_mape: 1.9280\n",
            "Epoch 189/200\n",
            "44195/44195 [==============================] - 4s 87us/step - loss: 0.0083 - mse: 7.9350e-05 - mae: 0.0067 - mape: 2.7633 - val_loss: 0.0063 - val_mse: 3.9418e-05 - val_mae: 0.0048 - val_mape: 1.6447\n",
            "Epoch 190/200\n",
            "44195/44195 [==============================] - 4s 86us/step - loss: 0.0086 - mse: 8.6404e-05 - mae: 0.0063 - mape: 1.7694 - val_loss: 0.0197 - val_mse: 3.8961e-04 - val_mae: 0.0133 - val_mape: 3.8077\n",
            "Epoch 191/200\n",
            "44195/44195 [==============================] - 4s 86us/step - loss: 0.0101 - mse: 1.1428e-04 - mae: 0.0078 - mape: 2.5179 - val_loss: 0.0044 - val_mse: 1.9244e-05 - val_mae: 0.0033 - val_mape: 1.3500\n",
            "Epoch 192/200\n",
            "44195/44195 [==============================] - 4s 87us/step - loss: 0.0070 - mse: 5.3432e-05 - mae: 0.0050 - mape: 1.7933 - val_loss: 0.0074 - val_mse: 5.4119e-05 - val_mae: 0.0054 - val_mape: 2.5584\n",
            "Epoch 193/200\n",
            "44195/44195 [==============================] - 4s 86us/step - loss: 0.0066 - mse: 4.7859e-05 - mae: 0.0052 - mape: 2.0653 - val_loss: 0.0054 - val_mse: 2.9090e-05 - val_mae: 0.0043 - val_mape: 2.2759\n",
            "Epoch 194/200\n",
            "44195/44195 [==============================] - 4s 87us/step - loss: 0.0060 - mse: 3.8306e-05 - mae: 0.0050 - mape: 1.9008 - val_loss: 0.0048 - val_mse: 2.3231e-05 - val_mae: 0.0039 - val_mape: 1.4746\n",
            "Epoch 195/200\n",
            "44195/44195 [==============================] - 4s 87us/step - loss: 0.0057 - mse: 3.3112e-05 - mae: 0.0046 - mape: 1.7050 - val_loss: 0.0053 - val_mse: 2.8081e-05 - val_mae: 0.0046 - val_mape: 1.5224\n",
            "Epoch 196/200\n",
            "44195/44195 [==============================] - 4s 86us/step - loss: 0.0063 - mse: 4.1469e-05 - mae: 0.0052 - mape: 1.9488 - val_loss: 0.0086 - val_mse: 7.3482e-05 - val_mae: 0.0069 - val_mape: 2.8326\n",
            "Epoch 197/200\n",
            "44195/44195 [==============================] - 4s 87us/step - loss: 0.0049 - mse: 2.7818e-05 - mae: 0.0040 - mape: 1.4559 - val_loss: 0.0066 - val_mse: 4.3260e-05 - val_mae: 0.0055 - val_mape: 2.2151\n",
            "Epoch 198/200\n",
            "44195/44195 [==============================] - 4s 86us/step - loss: 0.0069 - mse: 5.0327e-05 - mae: 0.0054 - mape: 1.8843 - val_loss: 0.0081 - val_mse: 6.5233e-05 - val_mae: 0.0058 - val_mape: 2.7441\n",
            "Epoch 199/200\n",
            "44195/44195 [==============================] - 4s 87us/step - loss: 0.0072 - mse: 5.4070e-05 - mae: 0.0051 - mape: 1.8157 - val_loss: 0.0048 - val_mse: 2.2639e-05 - val_mae: 0.0033 - val_mape: 1.4488\n",
            "Epoch 200/200\n",
            "44195/44195 [==============================] - 4s 87us/step - loss: 0.0069 - mse: 5.1786e-05 - mae: 0.0051 - mape: 2.0648 - val_loss: 0.0089 - val_mse: 7.8415e-05 - val_mae: 0.0062 - val_mape: 2.5652\n"
          ],
          "name": "stdout"
        }
      ]
    },
    {
      "cell_type": "code",
      "metadata": {
        "id": "shBWJZNLZQhL"
      },
      "source": [
        "def xtransform(X_train,X_test):\n",
        "    return [scale2.transform(X_train),scale2.transform(X_test)]\n",
        "\n",
        "\n",
        "def xinversetransform(x):\n",
        "    return scale2.inverse_transform(x)"
      ],
      "execution_count": null,
      "outputs": []
    },
    {
      "cell_type": "code",
      "metadata": {
        "id": "uCjsvzwTX1pp"
      },
      "source": [
        "Yhat=xinversetransform(modelGEN.predict(x_test_transform))"
      ],
      "execution_count": null,
      "outputs": []
    },
    {
      "cell_type": "code",
      "metadata": {
        "id": "JfQ0OWcJX_op",
        "colab": {
          "base_uri": "https://localhost:8080/",
          "height": 133
        },
        "outputId": "317c000c-6fb8-4e61-9fb7-66b4b8c7c528"
      },
      "source": [
        "Yhat"
      ],
      "execution_count": null,
      "outputs": [
        {
          "output_type": "execute_result",
          "data": {
            "text/plain": [
              "array([[0.11653931],\n",
              "       [0.34972335],\n",
              "       [0.01188809],\n",
              "       ...,\n",
              "       [0.40235832],\n",
              "       [0.06647118],\n",
              "       [0.16088039]])"
            ]
          },
          "metadata": {
            "tags": []
          },
          "execution_count": 31
        }
      ]
    },
    {
      "cell_type": "code",
      "metadata": {
        "id": "g9a6aiU-JbSN",
        "colab": {
          "base_uri": "https://localhost:8080/",
          "height": 281
        },
        "outputId": "207bd3d9-d1de-4598-f45c-d48dc0eb19b3"
      },
      "source": [
        "from pandas import DataFrame\n",
        "import matplotlib.pyplot as plt\n",
        "handles, labels = ax.get_legend_handles_labels()\n",
        "ax.legend(handles, labels)\n",
        "pp1, =plt.plot(history.history['mse'],label=\"mse\")\n",
        "pp2, =plt.plot(history.history['mae'],label=\"mae\")\n",
        "pp3, =plt.plot(history.history['loss'],label=\"rmse\")\n",
        "plt.legend(handles=[pp1,pp2,pp3], labels=['mse', 'mae', 'rmse'])\n",
        "plt.title('historique des erreurs pour le modèle de Heston')\n",
        "plt.show()"
      ],
      "execution_count": null,
      "outputs": [
        {
          "output_type": "display_data",
          "data": {
            "image/png": "[encoded data removed]",
            "text/plain": [
              "<Figure size 432x288 with 1 Axes>"
            ]
          },
          "metadata": {
            "tags": [],
            "needs_background": "light"
          }
        }
      ]
    },
    {
      "cell_type": "code",
      "metadata": {
        "id": "eJrN_KnqJ-yQ",
        "colab": {
          "base_uri": "https://localhost:8080/",
          "height": 166
        },
        "outputId": "cfff7452-be48-41c8-8ba6-62c19c2b2916"
      },
      "source": [
        "from pandas import DataFrame\n",
        "from pandas import concat\n",
        "from matplotlib import pyplot\n",
        "residuals = [y_test[i]-Yhat[i] for i in range(len(Yhat))]\n",
        "residuals = DataFrame(residuals)\n",
        "print(residuals.describe())"
      ],
      "execution_count": null,
      "outputs": [
        {
          "output_type": "stream",
          "text": [
            "                 0\n",
            "count  4911.000000\n",
            "mean     -0.000678\n",
            "std       0.000918\n",
            "min      -0.003454\n",
            "25%      -0.001270\n",
            "50%      -0.000352\n",
            "75%       0.000002\n",
            "max       0.001571\n"
          ],
          "name": "stdout"
        }
      ]
    },
    {
      "cell_type": "code",
      "metadata": {
        "id": "vWMszwmSgelD",
        "colab": {
          "base_uri": "https://localhost:8080/",
          "height": 528
        },
        "outputId": "c3c55309-c5a8-4e1f-9f89-2716b9cdb6ed"
      },
      "source": [
        "\n",
        "# histogram plot\n",
        "residuals.hist()\n",
        "plt.title('Distribution de l''erreur')\n",
        "pyplot.show()\n",
        "# density plot\n",
        "residuals.plot(kind='kde')\n",
        "pyplot.show()"
      ],
      "execution_count": null,
      "outputs": [
        {
          "output_type": "display_data",
          "data": {
            "image/png": "[encoded data removed]",
            "text/plain": [
              "<Figure size 432x288 with 1 Axes>"
            ]
          },
          "metadata": {
            "tags": [],
            "needs_background": "light"
          }
        },
        {
          "output_type": "display_data",
          "data": {
            "image/png": "[encoded data removed]",
            "text/plain": [
              "<Figure size 432x288 with 1 Axes>"
            ]
          },
          "metadata": {
            "tags": [],
            "needs_background": "light"
          }
        }
      ]
    },
    {
      "cell_type": "markdown",
      "metadata": {
        "id": "Aj-3tsrioGqP"
      },
      "source": [
        "### Application du modèle pour la volatilité implicite"
      ]
    },
    {
      "cell_type": "code",
      "metadata": {
        "id": "1_OehFS3F4GG",
        "colab": {
          "base_uri": "https://localhost:8080/",
          "height": 33
        },
        "outputId": "1d549bf3-1d66-472a-9a9d-02cf7a5e7b4c"
      },
      "source": [
        "len(Yhat)"
      ],
      "execution_count": null,
      "outputs": [
        {
          "output_type": "execute_result",
          "data": {
            "text/plain": [
              "4909"
            ]
          },
          "metadata": {
            "tags": []
          },
          "execution_count": 71
        }
      ]
    },
    {
      "cell_type": "code",
      "metadata": {
        "id": "cqBWyrcoxrMO",
        "colab": {
          "base_uri": "https://localhost:8080/",
          "height": 33
        },
        "outputId": "cd7044f4-29b0-443f-a690-9737073f79f8"
      },
      "source": [
        "\n",
        "sigma_IV=np.zeros(len(Yhat))\n",
        "S=np.zeros(len(Yhat))\n",
        "T=np.zeros(len(Yhat))\n",
        "K=np.zeros(len(Yhat))\n",
        "r=np.zeros(len(Yhat))\n",
        "m=np.zeros(len(Yhat))\n",
        "sigma=np.zeros(len(Yhat))\n",
        "v=np.zeros(len(Yhat))\n",
        "n=len(df_NN1)\n",
        "for i in range(len(Yhat)):\n",
        "  m[i]=df_NN1['Moneyness'].values[i+len(df_NN1)-len(Yhat)]\n",
        "  T[i]=df_NN1['Time to maturity'].values[i+len(df_NN1)-len(Yhat)]\n",
        "  S[i]=100\n",
        "  K[i]=100*df_NN1['Moneyness'].values[i+len(df_NN1)-len(Yhat)]\n",
        "  r[i]=df_NN1['Risk_free_rate'].values[i+len(df_NN1)-len(Yhat)]\n",
        "  sigma[i]=df_NN1['Volatility of volatility'].values[i+len(df_NN1)-len(Yhat)]\n",
        "  v[i]=Yhat[i]\n",
        "  # brents(f,x0,x1,max_iter,tolerance,S,K,T,r,sigma,v)\n",
        "  sigma_IV[i]=brents(g,0.05,1,10000,0.000000001,S[i],K[i],T[i],r[i],sigma[i],v[i])[0]\n"
      ],
      "execution_count": null,
      "outputs": [
        {
          "output_type": "stream",
          "text": [
            "/usr/local/lib/python3.6/dist-packages/ipykernel_launcher.py:21: RuntimeWarning: divide by zero encountered in double_scalars\n"
          ],
          "name": "stderr"
        }
      ]
    },
    {
      "cell_type": "code",
      "metadata": {
        "id": "KcGcE9OWskD9",
        "colab": {
          "base_uri": "https://localhost:8080/",
          "height": 50
        },
        "outputId": "6209bf57-eeb8-4415-c5ad-d07e93ffe898"
      },
      "source": [
        "sigma_IV"
      ],
      "execution_count": null,
      "outputs": [
        {
          "output_type": "execute_result",
          "data": {
            "text/plain": [
              "array([0.05      , 0.3802755 , 0.10855339, ..., 0.34946588, 0.162137  ,\n",
              "       0.1861534 ])"
            ]
          },
          "metadata": {
            "tags": []
          },
          "execution_count": 84
        }
      ]
    },
    {
      "cell_type": "code",
      "metadata": {
        "id": "DO9g5vlw4OAE",
        "colab": {
          "base_uri": "https://localhost:8080/",
          "height": 197
        },
        "outputId": "387678d0-fcd4-4431-a394-151bb08ac437"
      },
      "source": [
        "import pandas as pd \n",
        "from sklearn.linear_model import LinearRegression\n",
        "L2=[T,S,K,m,r,sigma,v,sigma_IV]\n",
        "df_new=pd.DataFrame(L2)\n",
        "df_new=df_new.transpose()\n",
        "df_new.columns=['Time to maturity','Stock price','Strike','Moneyness','Risk_free_rate','sigma','Call price','Implied volatility']\n",
        "df_new.head()\n"
      ],
      "execution_count": null,
      "outputs": [
        {
          "output_type": "execute_result",
          "data": {
            "text/html": [
              "<div>\n",
              "<style scoped>\n",
              "    .dataframe tbody tr th:only-of-type {\n",
              "        vertical-align: middle;\n",
              "    }\n",
              "\n",
              "    .dataframe tbody tr th {\n",
              "        vertical-align: top;\n",
              "    }\n",
              "\n",
              "    .dataframe thead th {\n",
              "        text-align: right;\n",
              "    }\n",
              "</style>\n",
              "<table border=\"1\" class=\"dataframe\">\n",
              "  <thead>\n",
              "    <tr style=\"text-align: right;\">\n",
              "      <th></th>\n",
              "      <th>Time to maturity</th>\n",
              "      <th>Stock price</th>\n",
              "      <th>Strike</th>\n",
              "      <th>Moneyness</th>\n",
              "      <th>Risk_free_rate</th>\n",
              "      <th>sigma</th>\n",
              "      <th>Call price</th>\n",
              "      <th>Implied volatility</th>\n",
              "    </tr>\n",
              "  </thead>\n",
              "  <tbody>\n",
              "    <tr>\n",
              "      <th>0</th>\n",
              "      <td>0.325263</td>\n",
              "      <td>100.0</td>\n",
              "      <td>89.633552</td>\n",
              "      <td>0.896336</td>\n",
              "      <td>0.000006</td>\n",
              "      <td>0.478914</td>\n",
              "      <td>0.116539</td>\n",
              "      <td>0.050000</td>\n",
              "    </tr>\n",
              "    <tr>\n",
              "      <th>1</th>\n",
              "      <td>0.203428</td>\n",
              "      <td>100.0</td>\n",
              "      <td>134.272343</td>\n",
              "      <td>1.342723</td>\n",
              "      <td>0.003117</td>\n",
              "      <td>0.319973</td>\n",
              "      <td>0.349723</td>\n",
              "      <td>0.380276</td>\n",
              "    </tr>\n",
              "    <tr>\n",
              "      <th>2</th>\n",
              "      <td>0.340877</td>\n",
              "      <td>100.0</td>\n",
              "      <td>117.551400</td>\n",
              "      <td>1.175514</td>\n",
              "      <td>0.000826</td>\n",
              "      <td>0.049874</td>\n",
              "      <td>0.011888</td>\n",
              "      <td>0.108553</td>\n",
              "    </tr>\n",
              "    <tr>\n",
              "      <th>3</th>\n",
              "      <td>0.171383</td>\n",
              "      <td>100.0</td>\n",
              "      <td>116.120838</td>\n",
              "      <td>1.161208</td>\n",
              "      <td>0.000334</td>\n",
              "      <td>0.132466</td>\n",
              "      <td>0.017859</td>\n",
              "      <td>0.149986</td>\n",
              "    </tr>\n",
              "    <tr>\n",
              "      <th>4</th>\n",
              "      <td>0.346464</td>\n",
              "      <td>100.0</td>\n",
              "      <td>136.507344</td>\n",
              "      <td>1.365073</td>\n",
              "      <td>0.001882</td>\n",
              "      <td>0.395777</td>\n",
              "      <td>0.223088</td>\n",
              "      <td>0.280441</td>\n",
              "    </tr>\n",
              "  </tbody>\n",
              "</table>\n",
              "</div>"
            ],
            "text/plain": [
              "   Time to maturity  Stock price  ...  Call price  Implied volatility\n",
              "0          0.325263        100.0  ...    0.116539            0.050000\n",
              "1          0.203428        100.0  ...    0.349723            0.380276\n",
              "2          0.340877        100.0  ...    0.011888            0.108553\n",
              "3          0.171383        100.0  ...    0.017859            0.149986\n",
              "4          0.346464        100.0  ...    0.223088            0.280441\n",
              "\n",
              "[5 rows x 8 columns]"
            ]
          },
          "metadata": {
            "tags": []
          },
          "execution_count": 85
        }
      ]
    },
    {
      "cell_type": "markdown",
      "metadata": {
        "id": "0LCFhulXBEEv"
      },
      "source": [
        "### La surface de volatilié en fonction de la moneyness"
      ]
    },
    {
      "cell_type": "code",
      "metadata": {
        "id": "tLfXBBjw_A7L",
        "colab": {
          "base_uri": "https://localhost:8080/",
          "height": 442
        },
        "outputId": "9a09c0c7-0b71-4c20-fc87-7b01efbf2f55"
      },
      "source": [
        "%matplotlib inline\n",
        "import matplotlib.pyplot as plt\n",
        "from statsmodels.nonparametric.kernel_regression import KernelReg\n",
        "import numpy as np\n",
        "import matplotlib.pyplot as plt\n",
        "\n",
        "\n",
        "fig = plt.figure(figsize=(10,7))\n",
        "ax1 = fig.add_subplot(111)\n",
        "# cacher les cadres : haut et droit\n",
        "ax1.spines['right'].set_visible(False)\n",
        "ax1.spines['top'].set_visible(False)\n",
        "\n",
        "ax1.xaxis.set_ticks_position('bottom')\n",
        "ax1.set_xlabel('moneyness')\n",
        "ax1.set_ylabel('Volatilité implicite')\n",
        "\n",
        "plt.scatter(np.log(100/df_new['Moneyness']), df_new['Implied volatility'])\n",
        "\n",
        "plt.show()"
      ],
      "execution_count": null,
      "outputs": [
        {
          "output_type": "display_data",
          "data": {
            "image/png": "[encoded data removed]",
            "text/plain": [
              "<Figure size 720x504 with 1 Axes>"
            ]
          },
          "metadata": {
            "tags": [],
            "needs_background": "light"
          }
        }
      ]
    },
    {
      "cell_type": "markdown",
      "metadata": {
        "id": "mDKsahEc61Go"
      },
      "source": [
        "### La surface de volatilié en fonction des dates de maturité et de la moneyness"
      ]
    },
    {
      "cell_type": "code",
      "metadata": {
        "id": "m-C6lpjU6lnY",
        "colab": {
          "base_uri": "https://localhost:8080/",
          "height": 444
        },
        "outputId": "58fbccdf-49e7-4ca0-9dbb-ade0e895fdf9"
      },
      "source": [
        "from mpl_toolkits import mplot3d\n",
        "%matplotlib inline\n",
        "import numpy as np\n",
        "import matplotlib.pyplot as plt\n",
        "X3=df_new['Strike']\n",
        "Y3=df_new['Time to maturity']\n",
        "Z3=df_new['Implied volatility']\n",
        "\n",
        "fig = plt.figure(figsize=(10,7))\n",
        "ax = plt.axes(projection='3d')\n",
        "fig = plt.figure()\n",
        "ax.set_xlabel('Moneyness')\n",
        "ax.set_ylabel('Temps de maturité')\n",
        "ax.set_title('Surface de volatilité')\n",
        "ax.scatter(np.log(100/X3), Y3, Z3, c=Z3, cmap='viridis', linewidth=0.5)\n"
      ],
      "execution_count": null,
      "outputs": [
        {
          "output_type": "execute_result",
          "data": {
            "text/plain": [
              "<mpl_toolkits.mplot3d.art3d.Path3DCollection at 0x7ff9c5067a58>"
            ]
          },
          "metadata": {
            "tags": []
          },
          "execution_count": 87
        },
        {
          "output_type": "display_data",
          "data": {
            "image/png": "[encoded data removed]",
            "text/plain": [
              "<Figure size 720x504 with 1 Axes>"
            ]
          },
          "metadata": {
            "tags": [],
            "needs_background": "light"
          }
        },
        {
          "output_type": "display_data",
          "data": {
            "text/plain": [
              "<Figure size 432x288 with 0 Axes>"
            ]
          },
          "metadata": {
            "tags": []
          }
        }
      ]
    }
  ]
}